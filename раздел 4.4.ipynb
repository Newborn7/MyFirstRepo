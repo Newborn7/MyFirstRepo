{
  "cells": [
    {
      "cell_type": "markdown",
      "metadata": {
        "id": "view-in-github",
        "colab_type": "text"
      },
      "source": [
        "<a href=\"https://colab.research.google.com/github/Newborn7/MyFirstRepo/blob/main/%D1%80%D0%B0%D0%B7%D0%B4%D0%B5%D0%BB%204.4.ipynb\" target=\"_parent\"><img src=\"https://colab.research.google.com/assets/colab-badge.svg\" alt=\"Open In Colab\"/></a>"
      ]
    },
    {
      "cell_type": "code",
      "execution_count": 1,
      "metadata": {
        "colab": {
          "base_uri": "https://localhost:8080/"
        },
        "id": "M28aCcIyYq6_",
        "outputId": "0037ae9f-5506-4a44-93c8-2e994433d089"
      },
      "outputs": [
        {
          "output_type": "stream",
          "name": "stdout",
          "text": [
            "\u001b[2K     \u001b[90m━━━━━━━━━━━━━━━━━━━━━━━━━━━━━━━━━━━━━━━━\u001b[0m \u001b[32m98.6/98.6 MB\u001b[0m \u001b[31m6.3 MB/s\u001b[0m eta \u001b[36m0:00:00\u001b[0m\n",
            "\u001b[?25h"
          ]
        }
      ],
      "source": [
        "!pip install catboost -q"
      ]
    },
    {
      "cell_type": "code",
      "execution_count": 2,
      "metadata": {
        "id": "Swyc-h_ja6dv"
      },
      "outputs": [],
      "source": [
        "!pip install lightgbm -q"
      ]
    },
    {
      "cell_type": "code",
      "execution_count": 3,
      "metadata": {
        "id": "g3IYfCdI6Tm3"
      },
      "outputs": [],
      "source": [
        "!pip install xgboost -q"
      ]
    },
    {
      "cell_type": "code",
      "execution_count": 4,
      "metadata": {
        "id": "f4B9Mwjk2nBU"
      },
      "outputs": [],
      "source": [
        "import os\n",
        "import random\n",
        "import numpy as np\n",
        "\n",
        "def set_all_seeds(seed):\n",
        "\n",
        "    # python's seeds\n",
        "    random.seed(seed)\n",
        "    os.environ['PYTHONHASHSEED'] = str(seed)\n",
        "    np.random.seed(seed)\n",
        "\n",
        "DEFAULT_RANDOM_SEED = 42\n",
        "set_all_seeds(DEFAULT_RANDOM_SEED)"
      ]
    },
    {
      "cell_type": "code",
      "execution_count": 5,
      "metadata": {
        "id": "GF-rQ-CXZItg"
      },
      "outputs": [],
      "source": [
        "import pandas as pd\n",
        "from catboost import CatBoostRegressor, Pool\n",
        "from sklearn.model_selection import train_test_split, KFold, GridSearchCV\n",
        "from scipy import stats\n",
        "from lightgbm import Dataset, LGBMRegressor, train\n",
        "from sklearn.preprocessing import LabelEncoder\n",
        "from sklearn.metrics import mean_squared_error\n",
        "\n",
        "import lightgbm as lgb\n",
        "import xgboost as xgb\n"
      ]
    },
    {
      "cell_type": "code",
      "execution_count": 6,
      "metadata": {
        "colab": {
          "base_uri": "https://localhost:8080/",
          "height": 260
        },
        "id": "vUlEPkNhZs0e",
        "outputId": "76d8d230-6065-4207-8e23-41aca0431692"
      },
      "outputs": [
        {
          "output_type": "stream",
          "name": "stdout",
          "text": [
            "train (2337, 17)\n"
          ]
        },
        {
          "output_type": "execute_result",
          "data": {
            "text/plain": [
              "          car_id             model car_type fuel_type  car_rating  \\\n",
              "1720  z14411100u  Volkswagen ID.4   premium   electro        4.28   \n",
              "2025  n-6604555n        VW Polo VI  economy    petrol        5.00   \n",
              "1430  d-1051262p     Smart ForFour  economy    petrol        4.38   \n",
              "\n",
              "      year_to_start  riders  year_to_work  target_reg     target_class  \\\n",
              "1720           2017  114851          2020       59.18      engine_fuel   \n",
              "2025           2015   87354          2018       26.50      electro_bug   \n",
              "1430           2013   37920          2015       27.18  engine_overheat   \n",
              "\n",
              "      mean_rating  distance_sum  rating_min   speed_max  \\\n",
              "1720     4.140287  1.163474e+07         0.1  190.915943   \n",
              "2025     4.049598  1.797655e+07         0.0  200.000000   \n",
              "1430     4.394770  1.543554e+07         0.1  183.260311   \n",
              "\n",
              "      user_ride_quality_median  deviation_normal_count  user_uniq  \n",
              "1720                 -4.022916                     174        148  \n",
              "2025                  2.871492                     174        171  \n",
              "1430                 11.772687                     174        171  "
            ],
            "text/html": [
              "\n",
              "  <div id=\"df-32cef957-16df-4eb5-9cf5-17081f8a4c11\">\n",
              "    <div class=\"colab-df-container\">\n",
              "      <div>\n",
              "<style scoped>\n",
              "    .dataframe tbody tr th:only-of-type {\n",
              "        vertical-align: middle;\n",
              "    }\n",
              "\n",
              "    .dataframe tbody tr th {\n",
              "        vertical-align: top;\n",
              "    }\n",
              "\n",
              "    .dataframe thead th {\n",
              "        text-align: right;\n",
              "    }\n",
              "</style>\n",
              "<table border=\"1\" class=\"dataframe\">\n",
              "  <thead>\n",
              "    <tr style=\"text-align: right;\">\n",
              "      <th></th>\n",
              "      <th>car_id</th>\n",
              "      <th>model</th>\n",
              "      <th>car_type</th>\n",
              "      <th>fuel_type</th>\n",
              "      <th>car_rating</th>\n",
              "      <th>year_to_start</th>\n",
              "      <th>riders</th>\n",
              "      <th>year_to_work</th>\n",
              "      <th>target_reg</th>\n",
              "      <th>target_class</th>\n",
              "      <th>mean_rating</th>\n",
              "      <th>distance_sum</th>\n",
              "      <th>rating_min</th>\n",
              "      <th>speed_max</th>\n",
              "      <th>user_ride_quality_median</th>\n",
              "      <th>deviation_normal_count</th>\n",
              "      <th>user_uniq</th>\n",
              "    </tr>\n",
              "  </thead>\n",
              "  <tbody>\n",
              "    <tr>\n",
              "      <th>1720</th>\n",
              "      <td>z14411100u</td>\n",
              "      <td>Volkswagen ID.4</td>\n",
              "      <td>premium</td>\n",
              "      <td>electro</td>\n",
              "      <td>4.28</td>\n",
              "      <td>2017</td>\n",
              "      <td>114851</td>\n",
              "      <td>2020</td>\n",
              "      <td>59.18</td>\n",
              "      <td>engine_fuel</td>\n",
              "      <td>4.140287</td>\n",
              "      <td>1.163474e+07</td>\n",
              "      <td>0.1</td>\n",
              "      <td>190.915943</td>\n",
              "      <td>-4.022916</td>\n",
              "      <td>174</td>\n",
              "      <td>148</td>\n",
              "    </tr>\n",
              "    <tr>\n",
              "      <th>2025</th>\n",
              "      <td>n-6604555n</td>\n",
              "      <td>VW Polo VI</td>\n",
              "      <td>economy</td>\n",
              "      <td>petrol</td>\n",
              "      <td>5.00</td>\n",
              "      <td>2015</td>\n",
              "      <td>87354</td>\n",
              "      <td>2018</td>\n",
              "      <td>26.50</td>\n",
              "      <td>electro_bug</td>\n",
              "      <td>4.049598</td>\n",
              "      <td>1.797655e+07</td>\n",
              "      <td>0.0</td>\n",
              "      <td>200.000000</td>\n",
              "      <td>2.871492</td>\n",
              "      <td>174</td>\n",
              "      <td>171</td>\n",
              "    </tr>\n",
              "    <tr>\n",
              "      <th>1430</th>\n",
              "      <td>d-1051262p</td>\n",
              "      <td>Smart ForFour</td>\n",
              "      <td>economy</td>\n",
              "      <td>petrol</td>\n",
              "      <td>4.38</td>\n",
              "      <td>2013</td>\n",
              "      <td>37920</td>\n",
              "      <td>2015</td>\n",
              "      <td>27.18</td>\n",
              "      <td>engine_overheat</td>\n",
              "      <td>4.394770</td>\n",
              "      <td>1.543554e+07</td>\n",
              "      <td>0.1</td>\n",
              "      <td>183.260311</td>\n",
              "      <td>11.772687</td>\n",
              "      <td>174</td>\n",
              "      <td>171</td>\n",
              "    </tr>\n",
              "  </tbody>\n",
              "</table>\n",
              "</div>\n",
              "      <button class=\"colab-df-convert\" onclick=\"convertToInteractive('df-32cef957-16df-4eb5-9cf5-17081f8a4c11')\"\n",
              "              title=\"Convert this dataframe to an interactive table.\"\n",
              "              style=\"display:none;\">\n",
              "        \n",
              "  <svg xmlns=\"http://www.w3.org/2000/svg\" height=\"24px\"viewBox=\"0 0 24 24\"\n",
              "       width=\"24px\">\n",
              "    <path d=\"M0 0h24v24H0V0z\" fill=\"none\"/>\n",
              "    <path d=\"M18.56 5.44l.94 2.06.94-2.06 2.06-.94-2.06-.94-.94-2.06-.94 2.06-2.06.94zm-11 1L8.5 8.5l.94-2.06 2.06-.94-2.06-.94L8.5 2.5l-.94 2.06-2.06.94zm10 10l.94 2.06.94-2.06 2.06-.94-2.06-.94-.94-2.06-.94 2.06-2.06.94z\"/><path d=\"M17.41 7.96l-1.37-1.37c-.4-.4-.92-.59-1.43-.59-.52 0-1.04.2-1.43.59L10.3 9.45l-7.72 7.72c-.78.78-.78 2.05 0 2.83L4 21.41c.39.39.9.59 1.41.59.51 0 1.02-.2 1.41-.59l7.78-7.78 2.81-2.81c.8-.78.8-2.07 0-2.86zM5.41 20L4 18.59l7.72-7.72 1.47 1.35L5.41 20z\"/>\n",
              "  </svg>\n",
              "      </button>\n",
              "      \n",
              "  <style>\n",
              "    .colab-df-container {\n",
              "      display:flex;\n",
              "      flex-wrap:wrap;\n",
              "      gap: 12px;\n",
              "    }\n",
              "\n",
              "    .colab-df-convert {\n",
              "      background-color: #E8F0FE;\n",
              "      border: none;\n",
              "      border-radius: 50%;\n",
              "      cursor: pointer;\n",
              "      display: none;\n",
              "      fill: #1967D2;\n",
              "      height: 32px;\n",
              "      padding: 0 0 0 0;\n",
              "      width: 32px;\n",
              "    }\n",
              "\n",
              "    .colab-df-convert:hover {\n",
              "      background-color: #E2EBFA;\n",
              "      box-shadow: 0px 1px 2px rgba(60, 64, 67, 0.3), 0px 1px 3px 1px rgba(60, 64, 67, 0.15);\n",
              "      fill: #174EA6;\n",
              "    }\n",
              "\n",
              "    [theme=dark] .colab-df-convert {\n",
              "      background-color: #3B4455;\n",
              "      fill: #D2E3FC;\n",
              "    }\n",
              "\n",
              "    [theme=dark] .colab-df-convert:hover {\n",
              "      background-color: #434B5C;\n",
              "      box-shadow: 0px 1px 3px 1px rgba(0, 0, 0, 0.15);\n",
              "      filter: drop-shadow(0px 1px 2px rgba(0, 0, 0, 0.3));\n",
              "      fill: #FFFFFF;\n",
              "    }\n",
              "  </style>\n",
              "\n",
              "      <script>\n",
              "        const buttonEl =\n",
              "          document.querySelector('#df-32cef957-16df-4eb5-9cf5-17081f8a4c11 button.colab-df-convert');\n",
              "        buttonEl.style.display =\n",
              "          google.colab.kernel.accessAllowed ? 'block' : 'none';\n",
              "\n",
              "        async function convertToInteractive(key) {\n",
              "          const element = document.querySelector('#df-32cef957-16df-4eb5-9cf5-17081f8a4c11');\n",
              "          const dataTable =\n",
              "            await google.colab.kernel.invokeFunction('convertToInteractive',\n",
              "                                                     [key], {});\n",
              "          if (!dataTable) return;\n",
              "\n",
              "          const docLinkHtml = 'Like what you see? Visit the ' +\n",
              "            '<a target=\"_blank\" href=https://colab.research.google.com/notebooks/data_table.ipynb>data table notebook</a>'\n",
              "            + ' to learn more about interactive tables.';\n",
              "          element.innerHTML = '';\n",
              "          dataTable['output_type'] = 'display_data';\n",
              "          await google.colab.output.renderOutput(dataTable, element);\n",
              "          const docLink = document.createElement('div');\n",
              "          docLink.innerHTML = docLinkHtml;\n",
              "          element.appendChild(docLink);\n",
              "        }\n",
              "      </script>\n",
              "    </div>\n",
              "  </div>\n",
              "  "
            ]
          },
          "metadata": {},
          "execution_count": 6
        }
      ],
      "source": [
        "train = pd.read_csv('https://raw.githubusercontent.com/a-milenkin/Competitive_Data_Science/main/data/quickstart_train.csv')\n",
        "print(\"train\", train.shape)\n",
        "train.sample(3)"
      ]
    },
    {
      "cell_type": "code",
      "execution_count": null,
      "metadata": {
        "colab": {
          "base_uri": "https://localhost:8080/"
        },
        "id": "23hD1ucpjIhc",
        "outputId": "5072823a-2b58-4fe9-c62a-e3bfbabfad21"
      },
      "outputs": [
        {
          "data": {
            "text/plain": [
              "car_id                      0\n",
              "model                       0\n",
              "car_type                    0\n",
              "fuel_type                   0\n",
              "car_rating                  0\n",
              "year_to_start               0\n",
              "riders                      0\n",
              "year_to_work                0\n",
              "target_reg                  0\n",
              "target_class                0\n",
              "mean_rating                 0\n",
              "distance_sum                0\n",
              "rating_min                  0\n",
              "speed_max                   0\n",
              "user_ride_quality_median    0\n",
              "deviation_normal_count      0\n",
              "user_uniq                   0\n",
              "dtype: int64"
            ]
          },
          "execution_count": 16,
          "metadata": {},
          "output_type": "execute_result"
        }
      ],
      "source": [
        "train.isna().sum()"
      ]
    },
    {
      "cell_type": "code",
      "execution_count": 70,
      "metadata": {
        "colab": {
          "base_uri": "https://localhost:8080/",
          "height": 205
        },
        "id": "VDkAKFHnbzV3",
        "outputId": "fab56434-a98f-42cd-de95-6d0d12b559f7"
      },
      "outputs": [
        {
          "output_type": "stream",
          "name": "stdout",
          "text": [
            "test (1913, 16)\n"
          ]
        },
        {
          "output_type": "execute_result",
          "data": {
            "text/plain": [
              "          car_id            model car_type fuel_type  car_rating  \\\n",
              "391   V-4730687q        VW Tiguan  economy    petrol        4.10   \n",
              "1818  Z16920973J  Hyundai Solaris  economy    petrol        4.42   \n",
              "102   I-8201538D        Kia Rio X  economy    petrol        4.84   \n",
              "\n",
              "      year_to_start  riders  year_to_work  target_class  mean_rating  \\\n",
              "391            2016   95799          2018   electro_bug     5.175172   \n",
              "1818           2013   48112          2019  engine_check     4.450345   \n",
              "102            2013   38486          2019  engine_check     4.630402   \n",
              "\n",
              "      distance_sum  rating_min   speed_max  user_ride_quality_median  \\\n",
              "391   1.361971e+07        0.36  110.108575                 -5.733488   \n",
              "1818  1.047056e+07        0.10  118.687177                 10.073404   \n",
              "102   1.190988e+07        0.14  103.661702                -15.105433   \n",
              "\n",
              "      deviation_normal_count  user_uniq  \n",
              "391                      174        172  \n",
              "1818                     174        170  \n",
              "102                      174        171  "
            ],
            "text/html": [
              "\n",
              "  <div id=\"df-a2886ab4-f2e4-4d5d-a26f-5168919fe377\">\n",
              "    <div class=\"colab-df-container\">\n",
              "      <div>\n",
              "<style scoped>\n",
              "    .dataframe tbody tr th:only-of-type {\n",
              "        vertical-align: middle;\n",
              "    }\n",
              "\n",
              "    .dataframe tbody tr th {\n",
              "        vertical-align: top;\n",
              "    }\n",
              "\n",
              "    .dataframe thead th {\n",
              "        text-align: right;\n",
              "    }\n",
              "</style>\n",
              "<table border=\"1\" class=\"dataframe\">\n",
              "  <thead>\n",
              "    <tr style=\"text-align: right;\">\n",
              "      <th></th>\n",
              "      <th>car_id</th>\n",
              "      <th>model</th>\n",
              "      <th>car_type</th>\n",
              "      <th>fuel_type</th>\n",
              "      <th>car_rating</th>\n",
              "      <th>year_to_start</th>\n",
              "      <th>riders</th>\n",
              "      <th>year_to_work</th>\n",
              "      <th>target_class</th>\n",
              "      <th>mean_rating</th>\n",
              "      <th>distance_sum</th>\n",
              "      <th>rating_min</th>\n",
              "      <th>speed_max</th>\n",
              "      <th>user_ride_quality_median</th>\n",
              "      <th>deviation_normal_count</th>\n",
              "      <th>user_uniq</th>\n",
              "    </tr>\n",
              "  </thead>\n",
              "  <tbody>\n",
              "    <tr>\n",
              "      <th>391</th>\n",
              "      <td>V-4730687q</td>\n",
              "      <td>VW Tiguan</td>\n",
              "      <td>economy</td>\n",
              "      <td>petrol</td>\n",
              "      <td>4.10</td>\n",
              "      <td>2016</td>\n",
              "      <td>95799</td>\n",
              "      <td>2018</td>\n",
              "      <td>electro_bug</td>\n",
              "      <td>5.175172</td>\n",
              "      <td>1.361971e+07</td>\n",
              "      <td>0.36</td>\n",
              "      <td>110.108575</td>\n",
              "      <td>-5.733488</td>\n",
              "      <td>174</td>\n",
              "      <td>172</td>\n",
              "    </tr>\n",
              "    <tr>\n",
              "      <th>1818</th>\n",
              "      <td>Z16920973J</td>\n",
              "      <td>Hyundai Solaris</td>\n",
              "      <td>economy</td>\n",
              "      <td>petrol</td>\n",
              "      <td>4.42</td>\n",
              "      <td>2013</td>\n",
              "      <td>48112</td>\n",
              "      <td>2019</td>\n",
              "      <td>engine_check</td>\n",
              "      <td>4.450345</td>\n",
              "      <td>1.047056e+07</td>\n",
              "      <td>0.10</td>\n",
              "      <td>118.687177</td>\n",
              "      <td>10.073404</td>\n",
              "      <td>174</td>\n",
              "      <td>170</td>\n",
              "    </tr>\n",
              "    <tr>\n",
              "      <th>102</th>\n",
              "      <td>I-8201538D</td>\n",
              "      <td>Kia Rio X</td>\n",
              "      <td>economy</td>\n",
              "      <td>petrol</td>\n",
              "      <td>4.84</td>\n",
              "      <td>2013</td>\n",
              "      <td>38486</td>\n",
              "      <td>2019</td>\n",
              "      <td>engine_check</td>\n",
              "      <td>4.630402</td>\n",
              "      <td>1.190988e+07</td>\n",
              "      <td>0.14</td>\n",
              "      <td>103.661702</td>\n",
              "      <td>-15.105433</td>\n",
              "      <td>174</td>\n",
              "      <td>171</td>\n",
              "    </tr>\n",
              "  </tbody>\n",
              "</table>\n",
              "</div>\n",
              "      <button class=\"colab-df-convert\" onclick=\"convertToInteractive('df-a2886ab4-f2e4-4d5d-a26f-5168919fe377')\"\n",
              "              title=\"Convert this dataframe to an interactive table.\"\n",
              "              style=\"display:none;\">\n",
              "        \n",
              "  <svg xmlns=\"http://www.w3.org/2000/svg\" height=\"24px\"viewBox=\"0 0 24 24\"\n",
              "       width=\"24px\">\n",
              "    <path d=\"M0 0h24v24H0V0z\" fill=\"none\"/>\n",
              "    <path d=\"M18.56 5.44l.94 2.06.94-2.06 2.06-.94-2.06-.94-.94-2.06-.94 2.06-2.06.94zm-11 1L8.5 8.5l.94-2.06 2.06-.94-2.06-.94L8.5 2.5l-.94 2.06-2.06.94zm10 10l.94 2.06.94-2.06 2.06-.94-2.06-.94-.94-2.06-.94 2.06-2.06.94z\"/><path d=\"M17.41 7.96l-1.37-1.37c-.4-.4-.92-.59-1.43-.59-.52 0-1.04.2-1.43.59L10.3 9.45l-7.72 7.72c-.78.78-.78 2.05 0 2.83L4 21.41c.39.39.9.59 1.41.59.51 0 1.02-.2 1.41-.59l7.78-7.78 2.81-2.81c.8-.78.8-2.07 0-2.86zM5.41 20L4 18.59l7.72-7.72 1.47 1.35L5.41 20z\"/>\n",
              "  </svg>\n",
              "      </button>\n",
              "      \n",
              "  <style>\n",
              "    .colab-df-container {\n",
              "      display:flex;\n",
              "      flex-wrap:wrap;\n",
              "      gap: 12px;\n",
              "    }\n",
              "\n",
              "    .colab-df-convert {\n",
              "      background-color: #E8F0FE;\n",
              "      border: none;\n",
              "      border-radius: 50%;\n",
              "      cursor: pointer;\n",
              "      display: none;\n",
              "      fill: #1967D2;\n",
              "      height: 32px;\n",
              "      padding: 0 0 0 0;\n",
              "      width: 32px;\n",
              "    }\n",
              "\n",
              "    .colab-df-convert:hover {\n",
              "      background-color: #E2EBFA;\n",
              "      box-shadow: 0px 1px 2px rgba(60, 64, 67, 0.3), 0px 1px 3px 1px rgba(60, 64, 67, 0.15);\n",
              "      fill: #174EA6;\n",
              "    }\n",
              "\n",
              "    [theme=dark] .colab-df-convert {\n",
              "      background-color: #3B4455;\n",
              "      fill: #D2E3FC;\n",
              "    }\n",
              "\n",
              "    [theme=dark] .colab-df-convert:hover {\n",
              "      background-color: #434B5C;\n",
              "      box-shadow: 0px 1px 3px 1px rgba(0, 0, 0, 0.15);\n",
              "      filter: drop-shadow(0px 1px 2px rgba(0, 0, 0, 0.3));\n",
              "      fill: #FFFFFF;\n",
              "    }\n",
              "  </style>\n",
              "\n",
              "      <script>\n",
              "        const buttonEl =\n",
              "          document.querySelector('#df-a2886ab4-f2e4-4d5d-a26f-5168919fe377 button.colab-df-convert');\n",
              "        buttonEl.style.display =\n",
              "          google.colab.kernel.accessAllowed ? 'block' : 'none';\n",
              "\n",
              "        async function convertToInteractive(key) {\n",
              "          const element = document.querySelector('#df-a2886ab4-f2e4-4d5d-a26f-5168919fe377');\n",
              "          const dataTable =\n",
              "            await google.colab.kernel.invokeFunction('convertToInteractive',\n",
              "                                                     [key], {});\n",
              "          if (!dataTable) return;\n",
              "\n",
              "          const docLinkHtml = 'Like what you see? Visit the ' +\n",
              "            '<a target=\"_blank\" href=https://colab.research.google.com/notebooks/data_table.ipynb>data table notebook</a>'\n",
              "            + ' to learn more about interactive tables.';\n",
              "          element.innerHTML = '';\n",
              "          dataTable['output_type'] = 'display_data';\n",
              "          await google.colab.output.renderOutput(dataTable, element);\n",
              "          const docLink = document.createElement('div');\n",
              "          docLink.innerHTML = docLinkHtml;\n",
              "          element.appendChild(docLink);\n",
              "        }\n",
              "      </script>\n",
              "    </div>\n",
              "  </div>\n",
              "  "
            ]
          },
          "metadata": {},
          "execution_count": 70
        }
      ],
      "source": [
        "test = pd.read_csv('https://raw.githubusercontent.com/a-milenkin/Competitive_Data_Science/main/data/quickstart_test.csv')\n",
        "print(\"test\", test.shape)\n",
        "test.sample(3)"
      ]
    },
    {
      "cell_type": "code",
      "execution_count": 8,
      "metadata": {
        "id": "pU4Xrthqh4eD"
      },
      "outputs": [],
      "source": [
        "cat_features = [\"model\", \"car_type\", \"fuel_type\"]  # Выделяем категориальные признаки\n",
        "target = [\"target_reg\"]\n",
        "features2drop = [\"car_id\", \"target_class\"]  # эти фичи будут удалены\n",
        "\n",
        "# Отбираем итоговый набор признаков для использования моделью\n",
        "filtered_features = [i for i in train.columns if (i not in target and i not in features2drop)]\n",
        "num_features = [i for i in filtered_features if i not in cat_features]"
      ]
    },
    {
      "cell_type": "code",
      "execution_count": 10,
      "metadata": {
        "id": "34cKdsapeLsZ"
      },
      "outputs": [],
      "source": [
        "X = train[filtered_features]\n",
        "y = train[target]"
      ]
    },
    {
      "cell_type": "code",
      "source": [
        "X"
      ],
      "metadata": {
        "colab": {
          "base_uri": "https://localhost:8080/",
          "height": 424
        },
        "id": "syV_Ihv3gI5m",
        "outputId": "b3cc9d54-6dd4-45e3-f78e-0cb4285d883c"
      },
      "execution_count": 12,
      "outputs": [
        {
          "output_type": "execute_result",
          "data": {
            "text/plain": [
              "                  model  car_type fuel_type  car_rating  year_to_start  \\\n",
              "0        Kia Rio X-line   economy    petrol        3.78           2015   \n",
              "1            VW Polo VI   economy    petrol        3.90           2015   \n",
              "2       Renault Sandero  standart    petrol        6.30           2012   \n",
              "3     Mercedes-Benz GLC  business    petrol        4.04           2011   \n",
              "4       Renault Sandero  standart    petrol        4.70           2012   \n",
              "...                 ...       ...       ...         ...            ...   \n",
              "2332      Smart ForFour   economy    petrol        4.38           2017   \n",
              "2333            Audi A4   premium    petrol        4.30           2016   \n",
              "2334            Kia Rio   economy    petrol        3.88           2015   \n",
              "2335    Renault Sandero  standart    petrol        4.50           2014   \n",
              "2336            VW Polo   economy    petrol        3.94           2015   \n",
              "\n",
              "      riders  year_to_work  mean_rating  distance_sum  rating_min   speed_max  \\\n",
              "0      76163          2021     4.737759  1.214131e+07        0.10  180.855726   \n",
              "1      78218          2021     4.480517  1.803909e+07        0.00  187.862734   \n",
              "2      23340          2017     4.768391  1.588366e+07        0.10  102.382857   \n",
              "3       1263          2020     3.880920  1.651883e+07        0.10  172.793237   \n",
              "4      26428          2017     4.181149  1.398317e+07        0.10  203.462289   \n",
              "...      ...           ...          ...           ...         ...         ...   \n",
              "2332  121239          2018     4.608908  1.739222e+07        0.10  141.502350   \n",
              "2333  107793          2020     4.683793  1.174052e+07        0.10  155.000000   \n",
              "2334   80234          2019     4.655345  1.202022e+07        0.10  104.180940   \n",
              "2335   60048          2020     4.638333  1.788307e+07        0.10  200.000000   \n",
              "2336   92312          2016     4.635460  1.981081e+07        0.39  171.000000   \n",
              "\n",
              "      user_ride_quality_median  deviation_normal_count  user_uniq  \n",
              "0                     0.023174                     174        170  \n",
              "1                    12.306011                     174        174  \n",
              "2                     2.513319                     174        173  \n",
              "3                    -5.029476                     174        170  \n",
              "4                   -14.260456                     174        171  \n",
              "...                        ...                     ...        ...  \n",
              "2332                 -6.624534                     174        171  \n",
              "2333                 -8.582467                     174        169  \n",
              "2334                 -0.778524                     174        172  \n",
              "2335                  2.464975                     174        171  \n",
              "2336                -14.151230                     174        173  \n",
              "\n",
              "[2337 rows x 14 columns]"
            ],
            "text/html": [
              "\n",
              "  <div id=\"df-6dfaa2ff-2943-4314-96a7-c59ecd7b3860\">\n",
              "    <div class=\"colab-df-container\">\n",
              "      <div>\n",
              "<style scoped>\n",
              "    .dataframe tbody tr th:only-of-type {\n",
              "        vertical-align: middle;\n",
              "    }\n",
              "\n",
              "    .dataframe tbody tr th {\n",
              "        vertical-align: top;\n",
              "    }\n",
              "\n",
              "    .dataframe thead th {\n",
              "        text-align: right;\n",
              "    }\n",
              "</style>\n",
              "<table border=\"1\" class=\"dataframe\">\n",
              "  <thead>\n",
              "    <tr style=\"text-align: right;\">\n",
              "      <th></th>\n",
              "      <th>model</th>\n",
              "      <th>car_type</th>\n",
              "      <th>fuel_type</th>\n",
              "      <th>car_rating</th>\n",
              "      <th>year_to_start</th>\n",
              "      <th>riders</th>\n",
              "      <th>year_to_work</th>\n",
              "      <th>mean_rating</th>\n",
              "      <th>distance_sum</th>\n",
              "      <th>rating_min</th>\n",
              "      <th>speed_max</th>\n",
              "      <th>user_ride_quality_median</th>\n",
              "      <th>deviation_normal_count</th>\n",
              "      <th>user_uniq</th>\n",
              "    </tr>\n",
              "  </thead>\n",
              "  <tbody>\n",
              "    <tr>\n",
              "      <th>0</th>\n",
              "      <td>Kia Rio X-line</td>\n",
              "      <td>economy</td>\n",
              "      <td>petrol</td>\n",
              "      <td>3.78</td>\n",
              "      <td>2015</td>\n",
              "      <td>76163</td>\n",
              "      <td>2021</td>\n",
              "      <td>4.737759</td>\n",
              "      <td>1.214131e+07</td>\n",
              "      <td>0.10</td>\n",
              "      <td>180.855726</td>\n",
              "      <td>0.023174</td>\n",
              "      <td>174</td>\n",
              "      <td>170</td>\n",
              "    </tr>\n",
              "    <tr>\n",
              "      <th>1</th>\n",
              "      <td>VW Polo VI</td>\n",
              "      <td>economy</td>\n",
              "      <td>petrol</td>\n",
              "      <td>3.90</td>\n",
              "      <td>2015</td>\n",
              "      <td>78218</td>\n",
              "      <td>2021</td>\n",
              "      <td>4.480517</td>\n",
              "      <td>1.803909e+07</td>\n",
              "      <td>0.00</td>\n",
              "      <td>187.862734</td>\n",
              "      <td>12.306011</td>\n",
              "      <td>174</td>\n",
              "      <td>174</td>\n",
              "    </tr>\n",
              "    <tr>\n",
              "      <th>2</th>\n",
              "      <td>Renault Sandero</td>\n",
              "      <td>standart</td>\n",
              "      <td>petrol</td>\n",
              "      <td>6.30</td>\n",
              "      <td>2012</td>\n",
              "      <td>23340</td>\n",
              "      <td>2017</td>\n",
              "      <td>4.768391</td>\n",
              "      <td>1.588366e+07</td>\n",
              "      <td>0.10</td>\n",
              "      <td>102.382857</td>\n",
              "      <td>2.513319</td>\n",
              "      <td>174</td>\n",
              "      <td>173</td>\n",
              "    </tr>\n",
              "    <tr>\n",
              "      <th>3</th>\n",
              "      <td>Mercedes-Benz GLC</td>\n",
              "      <td>business</td>\n",
              "      <td>petrol</td>\n",
              "      <td>4.04</td>\n",
              "      <td>2011</td>\n",
              "      <td>1263</td>\n",
              "      <td>2020</td>\n",
              "      <td>3.880920</td>\n",
              "      <td>1.651883e+07</td>\n",
              "      <td>0.10</td>\n",
              "      <td>172.793237</td>\n",
              "      <td>-5.029476</td>\n",
              "      <td>174</td>\n",
              "      <td>170</td>\n",
              "    </tr>\n",
              "    <tr>\n",
              "      <th>4</th>\n",
              "      <td>Renault Sandero</td>\n",
              "      <td>standart</td>\n",
              "      <td>petrol</td>\n",
              "      <td>4.70</td>\n",
              "      <td>2012</td>\n",
              "      <td>26428</td>\n",
              "      <td>2017</td>\n",
              "      <td>4.181149</td>\n",
              "      <td>1.398317e+07</td>\n",
              "      <td>0.10</td>\n",
              "      <td>203.462289</td>\n",
              "      <td>-14.260456</td>\n",
              "      <td>174</td>\n",
              "      <td>171</td>\n",
              "    </tr>\n",
              "    <tr>\n",
              "      <th>...</th>\n",
              "      <td>...</td>\n",
              "      <td>...</td>\n",
              "      <td>...</td>\n",
              "      <td>...</td>\n",
              "      <td>...</td>\n",
              "      <td>...</td>\n",
              "      <td>...</td>\n",
              "      <td>...</td>\n",
              "      <td>...</td>\n",
              "      <td>...</td>\n",
              "      <td>...</td>\n",
              "      <td>...</td>\n",
              "      <td>...</td>\n",
              "      <td>...</td>\n",
              "    </tr>\n",
              "    <tr>\n",
              "      <th>2332</th>\n",
              "      <td>Smart ForFour</td>\n",
              "      <td>economy</td>\n",
              "      <td>petrol</td>\n",
              "      <td>4.38</td>\n",
              "      <td>2017</td>\n",
              "      <td>121239</td>\n",
              "      <td>2018</td>\n",
              "      <td>4.608908</td>\n",
              "      <td>1.739222e+07</td>\n",
              "      <td>0.10</td>\n",
              "      <td>141.502350</td>\n",
              "      <td>-6.624534</td>\n",
              "      <td>174</td>\n",
              "      <td>171</td>\n",
              "    </tr>\n",
              "    <tr>\n",
              "      <th>2333</th>\n",
              "      <td>Audi A4</td>\n",
              "      <td>premium</td>\n",
              "      <td>petrol</td>\n",
              "      <td>4.30</td>\n",
              "      <td>2016</td>\n",
              "      <td>107793</td>\n",
              "      <td>2020</td>\n",
              "      <td>4.683793</td>\n",
              "      <td>1.174052e+07</td>\n",
              "      <td>0.10</td>\n",
              "      <td>155.000000</td>\n",
              "      <td>-8.582467</td>\n",
              "      <td>174</td>\n",
              "      <td>169</td>\n",
              "    </tr>\n",
              "    <tr>\n",
              "      <th>2334</th>\n",
              "      <td>Kia Rio</td>\n",
              "      <td>economy</td>\n",
              "      <td>petrol</td>\n",
              "      <td>3.88</td>\n",
              "      <td>2015</td>\n",
              "      <td>80234</td>\n",
              "      <td>2019</td>\n",
              "      <td>4.655345</td>\n",
              "      <td>1.202022e+07</td>\n",
              "      <td>0.10</td>\n",
              "      <td>104.180940</td>\n",
              "      <td>-0.778524</td>\n",
              "      <td>174</td>\n",
              "      <td>172</td>\n",
              "    </tr>\n",
              "    <tr>\n",
              "      <th>2335</th>\n",
              "      <td>Renault Sandero</td>\n",
              "      <td>standart</td>\n",
              "      <td>petrol</td>\n",
              "      <td>4.50</td>\n",
              "      <td>2014</td>\n",
              "      <td>60048</td>\n",
              "      <td>2020</td>\n",
              "      <td>4.638333</td>\n",
              "      <td>1.788307e+07</td>\n",
              "      <td>0.10</td>\n",
              "      <td>200.000000</td>\n",
              "      <td>2.464975</td>\n",
              "      <td>174</td>\n",
              "      <td>171</td>\n",
              "    </tr>\n",
              "    <tr>\n",
              "      <th>2336</th>\n",
              "      <td>VW Polo</td>\n",
              "      <td>economy</td>\n",
              "      <td>petrol</td>\n",
              "      <td>3.94</td>\n",
              "      <td>2015</td>\n",
              "      <td>92312</td>\n",
              "      <td>2016</td>\n",
              "      <td>4.635460</td>\n",
              "      <td>1.981081e+07</td>\n",
              "      <td>0.39</td>\n",
              "      <td>171.000000</td>\n",
              "      <td>-14.151230</td>\n",
              "      <td>174</td>\n",
              "      <td>173</td>\n",
              "    </tr>\n",
              "  </tbody>\n",
              "</table>\n",
              "<p>2337 rows × 14 columns</p>\n",
              "</div>\n",
              "      <button class=\"colab-df-convert\" onclick=\"convertToInteractive('df-6dfaa2ff-2943-4314-96a7-c59ecd7b3860')\"\n",
              "              title=\"Convert this dataframe to an interactive table.\"\n",
              "              style=\"display:none;\">\n",
              "        \n",
              "  <svg xmlns=\"http://www.w3.org/2000/svg\" height=\"24px\"viewBox=\"0 0 24 24\"\n",
              "       width=\"24px\">\n",
              "    <path d=\"M0 0h24v24H0V0z\" fill=\"none\"/>\n",
              "    <path d=\"M18.56 5.44l.94 2.06.94-2.06 2.06-.94-2.06-.94-.94-2.06-.94 2.06-2.06.94zm-11 1L8.5 8.5l.94-2.06 2.06-.94-2.06-.94L8.5 2.5l-.94 2.06-2.06.94zm10 10l.94 2.06.94-2.06 2.06-.94-2.06-.94-.94-2.06-.94 2.06-2.06.94z\"/><path d=\"M17.41 7.96l-1.37-1.37c-.4-.4-.92-.59-1.43-.59-.52 0-1.04.2-1.43.59L10.3 9.45l-7.72 7.72c-.78.78-.78 2.05 0 2.83L4 21.41c.39.39.9.59 1.41.59.51 0 1.02-.2 1.41-.59l7.78-7.78 2.81-2.81c.8-.78.8-2.07 0-2.86zM5.41 20L4 18.59l7.72-7.72 1.47 1.35L5.41 20z\"/>\n",
              "  </svg>\n",
              "      </button>\n",
              "      \n",
              "  <style>\n",
              "    .colab-df-container {\n",
              "      display:flex;\n",
              "      flex-wrap:wrap;\n",
              "      gap: 12px;\n",
              "    }\n",
              "\n",
              "    .colab-df-convert {\n",
              "      background-color: #E8F0FE;\n",
              "      border: none;\n",
              "      border-radius: 50%;\n",
              "      cursor: pointer;\n",
              "      display: none;\n",
              "      fill: #1967D2;\n",
              "      height: 32px;\n",
              "      padding: 0 0 0 0;\n",
              "      width: 32px;\n",
              "    }\n",
              "\n",
              "    .colab-df-convert:hover {\n",
              "      background-color: #E2EBFA;\n",
              "      box-shadow: 0px 1px 2px rgba(60, 64, 67, 0.3), 0px 1px 3px 1px rgba(60, 64, 67, 0.15);\n",
              "      fill: #174EA6;\n",
              "    }\n",
              "\n",
              "    [theme=dark] .colab-df-convert {\n",
              "      background-color: #3B4455;\n",
              "      fill: #D2E3FC;\n",
              "    }\n",
              "\n",
              "    [theme=dark] .colab-df-convert:hover {\n",
              "      background-color: #434B5C;\n",
              "      box-shadow: 0px 1px 3px 1px rgba(0, 0, 0, 0.15);\n",
              "      filter: drop-shadow(0px 1px 2px rgba(0, 0, 0, 0.3));\n",
              "      fill: #FFFFFF;\n",
              "    }\n",
              "  </style>\n",
              "\n",
              "      <script>\n",
              "        const buttonEl =\n",
              "          document.querySelector('#df-6dfaa2ff-2943-4314-96a7-c59ecd7b3860 button.colab-df-convert');\n",
              "        buttonEl.style.display =\n",
              "          google.colab.kernel.accessAllowed ? 'block' : 'none';\n",
              "\n",
              "        async function convertToInteractive(key) {\n",
              "          const element = document.querySelector('#df-6dfaa2ff-2943-4314-96a7-c59ecd7b3860');\n",
              "          const dataTable =\n",
              "            await google.colab.kernel.invokeFunction('convertToInteractive',\n",
              "                                                     [key], {});\n",
              "          if (!dataTable) return;\n",
              "\n",
              "          const docLinkHtml = 'Like what you see? Visit the ' +\n",
              "            '<a target=\"_blank\" href=https://colab.research.google.com/notebooks/data_table.ipynb>data table notebook</a>'\n",
              "            + ' to learn more about interactive tables.';\n",
              "          element.innerHTML = '';\n",
              "          dataTable['output_type'] = 'display_data';\n",
              "          await google.colab.output.renderOutput(dataTable, element);\n",
              "          const docLink = document.createElement('div');\n",
              "          docLink.innerHTML = docLinkHtml;\n",
              "          element.appendChild(docLink);\n",
              "        }\n",
              "      </script>\n",
              "    </div>\n",
              "  </div>\n",
              "  "
            ]
          },
          "metadata": {},
          "execution_count": 12
        }
      ]
    },
    {
      "cell_type": "markdown",
      "metadata": {
        "id": "DjOZn7NH80AH"
      },
      "source": [
        "**Обучаем CatBoostRegressor**"
      ]
    },
    {
      "cell_type": "code",
      "execution_count": null,
      "metadata": {
        "colab": {
          "base_uri": "https://localhost:8080/"
        },
        "id": "vsnqgkATjZdP",
        "outputId": "551854b2-b292-460c-fb31-d0d143d04086"
      },
      "outputs": [
        {
          "data": {
            "text/plain": [
              "<catboost.core.CatBoostRegressor at 0x7fb951edef80>"
            ]
          },
          "execution_count": 18,
          "metadata": {},
          "output_type": "execute_result"
        }
      ],
      "source": [
        "CatBoostRegressor() #loss функция по умолчанию RMSE"
      ]
    },
    {
      "cell_type": "code",
      "execution_count": 39,
      "metadata": {
        "id": "RPLybuocjRRG"
      },
      "outputs": [],
      "source": [
        "X_train, X_test, y_train, y_test = train_test_split(X, y, test_size=0.2, random_state=42)"
      ]
    },
    {
      "cell_type": "code",
      "execution_count": null,
      "metadata": {
        "colab": {
          "base_uri": "https://localhost:8080/"
        },
        "id": "Nkj6G24jlZCl",
        "outputId": "aa62329d-a21d-4a0b-f998-90e91ecca09e"
      },
      "outputs": [
        {
          "name": "stdout",
          "output_type": "stream",
          "text": [
            "Learning rate set to 0.056174\n",
            "0:\tlearn: 17.0065561\ttest: 17.7387430\tbest: 17.7387430 (0)\ttotal: 50.1ms\tremaining: 50.1s\n",
            "200:\tlearn: 9.3900288\ttest: 12.1591227\tbest: 12.1374989 (148)\ttotal: 736ms\tremaining: 2.92s\n",
            "Stopped by overfitting detector  (100 iterations wait)\n",
            "\n",
            "bestTest = 12.1374989\n",
            "bestIteration = 148\n",
            "\n",
            "Shrink model to first 149 iterations.\n"
          ]
        },
        {
          "data": {
            "text/plain": [
              "<catboost.core.CatBoostRegressor at 0x7fb951ede200>"
            ]
          },
          "execution_count": 23,
          "metadata": {},
          "output_type": "execute_result"
        }
      ],
      "source": [
        "clf = CatBoostRegressor(thread_count=-1,\n",
        "                         random_seed=42,\n",
        "                         cat_features=cat_features)\n",
        "\n",
        "clf.fit(\n",
        "    X_train,\n",
        "    y_train,\n",
        "    eval_set=(X_test, y_test),\n",
        "    verbose=200,\n",
        "    use_best_model=True,\n",
        "    plot=False,\n",
        "    early_stopping_rounds=100,\n",
        ")"
      ]
    },
    {
      "cell_type": "markdown",
      "metadata": {
        "id": "_cAcj4JsofYr"
      },
      "source": [
        "**Теперь обучаем на 3х фолдах**"
      ]
    },
    {
      "cell_type": "code",
      "execution_count": 40,
      "metadata": {
        "colab": {
          "base_uri": "https://localhost:8080/"
        },
        "id": "22QzLjdvm2rt",
        "outputId": "7f524e4d-a6ee-4ffc-d492-d0886d8ae077"
      },
      "outputs": [
        {
          "output_type": "stream",
          "name": "stdout",
          "text": [
            "0:\tlearn: 17.8581170\ttest: 17.2075124\tbest: 17.2075124 (0)\ttotal: 47.7ms\tremaining: 2m 46s\n",
            "500:\tlearn: 10.7618273\ttest: 11.8655607\tbest: 11.8606813 (492)\ttotal: 288ms\tremaining: 1.72s\n",
            "Stopped by overfitting detector  (50 iterations wait)\n",
            "\n",
            "bestTest = 11.85158627\n",
            "bestIteration = 520\n",
            "\n",
            "Shrink model to first 521 iterations.\n",
            "0:\tlearn: 17.1967734\ttest: 18.5098462\tbest: 18.5098462 (0)\ttotal: 277us\tremaining: 971ms\n",
            "500:\tlearn: 10.9608230\ttest: 12.3455125\tbest: 12.3455125 (500)\ttotal: 238ms\tremaining: 1.42s\n",
            "1000:\tlearn: 9.9035013\ttest: 11.9706988\tbest: 11.9671948 (961)\ttotal: 469ms\tremaining: 1.17s\n",
            "Stopped by overfitting detector  (50 iterations wait)\n",
            "\n",
            "bestTest = 11.95340053\n",
            "bestIteration = 1098\n",
            "\n",
            "Shrink model to first 1099 iterations.\n",
            "0:\tlearn: 17.8655644\ttest: 17.1938065\tbest: 17.1938065 (0)\ttotal: 283us\tremaining: 992ms\n",
            "500:\tlearn: 10.9821333\ttest: 11.7915646\tbest: 11.7915646 (500)\ttotal: 241ms\tremaining: 1.44s\n",
            "Stopped by overfitting detector  (50 iterations wait)\n",
            "\n",
            "bestTest = 11.5529131\n",
            "bestIteration = 784\n",
            "\n",
            "Shrink model to first 785 iterations.\n",
            "mean  RMSE score ---------> 11.62\n"
          ]
        }
      ],
      "source": [
        "n_splits = 3  # Число фолдов.\n",
        "clfs = [] # Тут будем сохранять модели\n",
        "scores = [] # Тут будем хранить скоры валидационных фолдов\n",
        "\n",
        "# параметры валидации, обучение будет идти на n_splits фолдах\n",
        "X = train[filtered_features]\n",
        "y = train[target]\n",
        "\n",
        "kf = KFold(n_splits=n_splits, shuffle=True, random_state=42)\n",
        "for train_index, test_index in kf.split(X):\n",
        "\n",
        "    X_train, X_test = X.iloc[train_index], X.iloc[test_index]\n",
        "    y_train, y_test = y.iloc[train_index], y.iloc[test_index]\n",
        "\n",
        "    # Специальный класс для ускорения обучения\n",
        "    train_dataset = Pool(data=X_train, label=y_train, cat_features=cat_features)\n",
        "    eval_dataset = Pool(data=X_test, label=y_test, cat_features=cat_features)\n",
        "\n",
        "    clf = CatBoostRegressor(\n",
        "        #depth=4,\n",
        "        iterations=3500,\n",
        "        #learning_rate=0.06,\n",
        "        loss_function=\"RMSE\",\n",
        "\n",
        "        # Главная фишка катбуста - работа с категориальными признаками\n",
        "        cat_features=cat_features,\n",
        "        # ignored_features = ignored_features,\n",
        "\n",
        "        # Регуляризация и ускорение\n",
        "        colsample_bylevel=0.098,\n",
        "        subsample=0.95,\n",
        "        l2_leaf_reg=9,\n",
        "        min_data_in_leaf=243,\n",
        "        max_bin=187,\n",
        "        random_strength=1,\n",
        "\n",
        "        # Параметры скорения\n",
        "        task_type=\"CPU\",\n",
        "        thread_count=-1,\n",
        "        bootstrap_type=\"Bernoulli\",\n",
        "\n",
        "        # Важное!\n",
        "        random_seed=42,\n",
        "        early_stopping_rounds=50)\n",
        "\n",
        "    clfs.append(clf)\n",
        "\n",
        "    clf.fit(\n",
        "        train_dataset,\n",
        "        eval_set=eval_dataset,\n",
        "        verbose=500,\n",
        "        use_best_model=True,\n",
        "        plot=False)\n",
        "\n",
        "    scores.append(np.mean([v for k, v in clf.best_score_[\"validation\"].items()], dtype=\"float16\"))\n",
        "    # scores.append(clf.best_score_['validation']['MultiClass'])\n",
        "    # clf.save_model(\"../tmp_data/cool_catboost_model_{}_deep\".format(n))\n",
        "\n",
        "assert len(clfs) == n_splits\n",
        "print(\"mean  RMSE score --------->\", np.mean(scores, dtype=\"float16\") - np.std(scores, dtype=\"float16\"))"
      ]
    },
    {
      "cell_type": "code",
      "execution_count": 41,
      "metadata": {
        "id": "fG2sMMROsSH6"
      },
      "outputs": [],
      "source": [
        "clfs[2].save_model(\"cool_catboost_model1_deep\") # сохраняем модель на лучшем фолде"
      ]
    },
    {
      "cell_type": "code",
      "execution_count": 51,
      "metadata": {
        "colab": {
          "base_uri": "https://localhost:8080/"
        },
        "id": "UZ3uuvjSBSrd",
        "outputId": "ddf1e5b0-432f-4205-f505-2c77a2d61a3e"
      },
      "outputs": [
        {
          "output_type": "execute_result",
          "data": {
            "text/plain": [
              "(1913,)"
            ]
          },
          "metadata": {},
          "execution_count": 51
        }
      ],
      "source": [
        "catboost_preds = clfs[2].predict(test[filtered_features]) # делаем предсказания на модели на лучшем фолде\n",
        "catboost_preds.shape"
      ]
    },
    {
      "cell_type": "code",
      "execution_count": 71,
      "metadata": {
        "id": "rRh09OsUDsOL",
        "colab": {
          "base_uri": "https://localhost:8080/",
          "height": 661
        },
        "outputId": "6040f74b-9d52-425c-8f33-68b26d73f379"
      },
      "outputs": [
        {
          "output_type": "execute_result",
          "data": {
            "text/plain": [
              "          car_id            model  car_type fuel_type  car_rating  \\\n",
              "0     P17494612l      Skoda Rapid   economy    petrol        4.80   \n",
              "1     N-1530212S  Renault Sandero  standart    petrol        4.32   \n",
              "2     B-1154399t     Smart ForTwo   economy    petrol        4.46   \n",
              "3     F12725233R    Smart ForFour   economy    petrol        2.80   \n",
              "4     l-1139189J      Skoda Rapid   economy    petrol        6.56   \n",
              "...          ...              ...       ...       ...         ...   \n",
              "1908  x13640960Q   Nissan Qashqai  standart    petrol        2.44   \n",
              "1909  Z-2276652N   Renault Kaptur  standart    petrol        4.44   \n",
              "1910  F-2165841B  Hyundai Solaris   economy    petrol        5.16   \n",
              "1911  x-1331529J  Hyundai Solaris   economy    petrol        5.76   \n",
              "1912  J-2127749D       VW Polo VI   economy    petrol        5.10   \n",
              "\n",
              "      year_to_start  riders  year_to_work     target_class  mean_rating  \\\n",
              "0              2013   42269          2019       gear_stick     3.746207   \n",
              "1              2015   90014          2016  engine_overheat     4.318966   \n",
              "2              2015   82684          2017      electro_bug     5.134655   \n",
              "3              2014   68833          2021     engine_check     4.617356   \n",
              "4              2013   42442          2021      another_bug     4.287471   \n",
              "...             ...     ...           ...              ...          ...   \n",
              "1908           2015   81070          2016  engine_overheat     4.641379   \n",
              "1909           2014   70067          2019  engine_overheat     3.956954   \n",
              "1910           2011    6574          2022     engine_check     4.607816   \n",
              "1911           2015   85648          2018      electro_bug     4.462644   \n",
              "1912           2015   74665          2016      electro_bug     4.521437   \n",
              "\n",
              "      distance_sum  rating_min   speed_max  user_ride_quality_median  \\\n",
              "0     1.407539e+07        0.10  195.454152                 10.566220   \n",
              "1     1.970390e+07        0.00  181.538685                 11.807941   \n",
              "2     9.314946e+06        0.10  118.440645                 14.862538   \n",
              "3     9.336838e+06        0.83  112.829785                 20.088904   \n",
              "4     1.196250e+07        0.00  187.846088                  3.698460   \n",
              "...            ...         ...         ...                       ...   \n",
              "1908  8.035217e+06        0.10  161.000000                  5.426149   \n",
              "1909  1.792881e+07        0.10  195.394955                 -6.225923   \n",
              "1910  1.401163e+07        0.22  113.091551                 -4.110241   \n",
              "1911  1.375324e+07        0.10  154.105593                 -4.337686   \n",
              "1912  1.296505e+07        0.10  161.395030                 -6.495097   \n",
              "\n",
              "      deviation_normal_count  user_uniq  Catboost_target_reg  \n",
              "0                        174        170            46.913346  \n",
              "1                        174        174            31.960878  \n",
              "2                        174        172            33.802347  \n",
              "3                        174        172            35.979513  \n",
              "4                        174        172            32.327644  \n",
              "...                      ...        ...                  ...  \n",
              "1908                     174        171            57.644811  \n",
              "1909                     174        172            45.007600  \n",
              "1910                     174        172            33.821215  \n",
              "1911                     174        172            44.771408  \n",
              "1912                     174        173            48.386448  \n",
              "\n",
              "[1913 rows x 17 columns]"
            ],
            "text/html": [
              "\n",
              "  <div id=\"df-b823fc0e-384e-4794-9ea1-bc8ed50a4af0\">\n",
              "    <div class=\"colab-df-container\">\n",
              "      <div>\n",
              "<style scoped>\n",
              "    .dataframe tbody tr th:only-of-type {\n",
              "        vertical-align: middle;\n",
              "    }\n",
              "\n",
              "    .dataframe tbody tr th {\n",
              "        vertical-align: top;\n",
              "    }\n",
              "\n",
              "    .dataframe thead th {\n",
              "        text-align: right;\n",
              "    }\n",
              "</style>\n",
              "<table border=\"1\" class=\"dataframe\">\n",
              "  <thead>\n",
              "    <tr style=\"text-align: right;\">\n",
              "      <th></th>\n",
              "      <th>car_id</th>\n",
              "      <th>model</th>\n",
              "      <th>car_type</th>\n",
              "      <th>fuel_type</th>\n",
              "      <th>car_rating</th>\n",
              "      <th>year_to_start</th>\n",
              "      <th>riders</th>\n",
              "      <th>year_to_work</th>\n",
              "      <th>target_class</th>\n",
              "      <th>mean_rating</th>\n",
              "      <th>distance_sum</th>\n",
              "      <th>rating_min</th>\n",
              "      <th>speed_max</th>\n",
              "      <th>user_ride_quality_median</th>\n",
              "      <th>deviation_normal_count</th>\n",
              "      <th>user_uniq</th>\n",
              "      <th>Catboost_target_reg</th>\n",
              "    </tr>\n",
              "  </thead>\n",
              "  <tbody>\n",
              "    <tr>\n",
              "      <th>0</th>\n",
              "      <td>P17494612l</td>\n",
              "      <td>Skoda Rapid</td>\n",
              "      <td>economy</td>\n",
              "      <td>petrol</td>\n",
              "      <td>4.80</td>\n",
              "      <td>2013</td>\n",
              "      <td>42269</td>\n",
              "      <td>2019</td>\n",
              "      <td>gear_stick</td>\n",
              "      <td>3.746207</td>\n",
              "      <td>1.407539e+07</td>\n",
              "      <td>0.10</td>\n",
              "      <td>195.454152</td>\n",
              "      <td>10.566220</td>\n",
              "      <td>174</td>\n",
              "      <td>170</td>\n",
              "      <td>46.913346</td>\n",
              "    </tr>\n",
              "    <tr>\n",
              "      <th>1</th>\n",
              "      <td>N-1530212S</td>\n",
              "      <td>Renault Sandero</td>\n",
              "      <td>standart</td>\n",
              "      <td>petrol</td>\n",
              "      <td>4.32</td>\n",
              "      <td>2015</td>\n",
              "      <td>90014</td>\n",
              "      <td>2016</td>\n",
              "      <td>engine_overheat</td>\n",
              "      <td>4.318966</td>\n",
              "      <td>1.970390e+07</td>\n",
              "      <td>0.00</td>\n",
              "      <td>181.538685</td>\n",
              "      <td>11.807941</td>\n",
              "      <td>174</td>\n",
              "      <td>174</td>\n",
              "      <td>31.960878</td>\n",
              "    </tr>\n",
              "    <tr>\n",
              "      <th>2</th>\n",
              "      <td>B-1154399t</td>\n",
              "      <td>Smart ForTwo</td>\n",
              "      <td>economy</td>\n",
              "      <td>petrol</td>\n",
              "      <td>4.46</td>\n",
              "      <td>2015</td>\n",
              "      <td>82684</td>\n",
              "      <td>2017</td>\n",
              "      <td>electro_bug</td>\n",
              "      <td>5.134655</td>\n",
              "      <td>9.314946e+06</td>\n",
              "      <td>0.10</td>\n",
              "      <td>118.440645</td>\n",
              "      <td>14.862538</td>\n",
              "      <td>174</td>\n",
              "      <td>172</td>\n",
              "      <td>33.802347</td>\n",
              "    </tr>\n",
              "    <tr>\n",
              "      <th>3</th>\n",
              "      <td>F12725233R</td>\n",
              "      <td>Smart ForFour</td>\n",
              "      <td>economy</td>\n",
              "      <td>petrol</td>\n",
              "      <td>2.80</td>\n",
              "      <td>2014</td>\n",
              "      <td>68833</td>\n",
              "      <td>2021</td>\n",
              "      <td>engine_check</td>\n",
              "      <td>4.617356</td>\n",
              "      <td>9.336838e+06</td>\n",
              "      <td>0.83</td>\n",
              "      <td>112.829785</td>\n",
              "      <td>20.088904</td>\n",
              "      <td>174</td>\n",
              "      <td>172</td>\n",
              "      <td>35.979513</td>\n",
              "    </tr>\n",
              "    <tr>\n",
              "      <th>4</th>\n",
              "      <td>l-1139189J</td>\n",
              "      <td>Skoda Rapid</td>\n",
              "      <td>economy</td>\n",
              "      <td>petrol</td>\n",
              "      <td>6.56</td>\n",
              "      <td>2013</td>\n",
              "      <td>42442</td>\n",
              "      <td>2021</td>\n",
              "      <td>another_bug</td>\n",
              "      <td>4.287471</td>\n",
              "      <td>1.196250e+07</td>\n",
              "      <td>0.00</td>\n",
              "      <td>187.846088</td>\n",
              "      <td>3.698460</td>\n",
              "      <td>174</td>\n",
              "      <td>172</td>\n",
              "      <td>32.327644</td>\n",
              "    </tr>\n",
              "    <tr>\n",
              "      <th>...</th>\n",
              "      <td>...</td>\n",
              "      <td>...</td>\n",
              "      <td>...</td>\n",
              "      <td>...</td>\n",
              "      <td>...</td>\n",
              "      <td>...</td>\n",
              "      <td>...</td>\n",
              "      <td>...</td>\n",
              "      <td>...</td>\n",
              "      <td>...</td>\n",
              "      <td>...</td>\n",
              "      <td>...</td>\n",
              "      <td>...</td>\n",
              "      <td>...</td>\n",
              "      <td>...</td>\n",
              "      <td>...</td>\n",
              "      <td>...</td>\n",
              "    </tr>\n",
              "    <tr>\n",
              "      <th>1908</th>\n",
              "      <td>x13640960Q</td>\n",
              "      <td>Nissan Qashqai</td>\n",
              "      <td>standart</td>\n",
              "      <td>petrol</td>\n",
              "      <td>2.44</td>\n",
              "      <td>2015</td>\n",
              "      <td>81070</td>\n",
              "      <td>2016</td>\n",
              "      <td>engine_overheat</td>\n",
              "      <td>4.641379</td>\n",
              "      <td>8.035217e+06</td>\n",
              "      <td>0.10</td>\n",
              "      <td>161.000000</td>\n",
              "      <td>5.426149</td>\n",
              "      <td>174</td>\n",
              "      <td>171</td>\n",
              "      <td>57.644811</td>\n",
              "    </tr>\n",
              "    <tr>\n",
              "      <th>1909</th>\n",
              "      <td>Z-2276652N</td>\n",
              "      <td>Renault Kaptur</td>\n",
              "      <td>standart</td>\n",
              "      <td>petrol</td>\n",
              "      <td>4.44</td>\n",
              "      <td>2014</td>\n",
              "      <td>70067</td>\n",
              "      <td>2019</td>\n",
              "      <td>engine_overheat</td>\n",
              "      <td>3.956954</td>\n",
              "      <td>1.792881e+07</td>\n",
              "      <td>0.10</td>\n",
              "      <td>195.394955</td>\n",
              "      <td>-6.225923</td>\n",
              "      <td>174</td>\n",
              "      <td>172</td>\n",
              "      <td>45.007600</td>\n",
              "    </tr>\n",
              "    <tr>\n",
              "      <th>1910</th>\n",
              "      <td>F-2165841B</td>\n",
              "      <td>Hyundai Solaris</td>\n",
              "      <td>economy</td>\n",
              "      <td>petrol</td>\n",
              "      <td>5.16</td>\n",
              "      <td>2011</td>\n",
              "      <td>6574</td>\n",
              "      <td>2022</td>\n",
              "      <td>engine_check</td>\n",
              "      <td>4.607816</td>\n",
              "      <td>1.401163e+07</td>\n",
              "      <td>0.22</td>\n",
              "      <td>113.091551</td>\n",
              "      <td>-4.110241</td>\n",
              "      <td>174</td>\n",
              "      <td>172</td>\n",
              "      <td>33.821215</td>\n",
              "    </tr>\n",
              "    <tr>\n",
              "      <th>1911</th>\n",
              "      <td>x-1331529J</td>\n",
              "      <td>Hyundai Solaris</td>\n",
              "      <td>economy</td>\n",
              "      <td>petrol</td>\n",
              "      <td>5.76</td>\n",
              "      <td>2015</td>\n",
              "      <td>85648</td>\n",
              "      <td>2018</td>\n",
              "      <td>electro_bug</td>\n",
              "      <td>4.462644</td>\n",
              "      <td>1.375324e+07</td>\n",
              "      <td>0.10</td>\n",
              "      <td>154.105593</td>\n",
              "      <td>-4.337686</td>\n",
              "      <td>174</td>\n",
              "      <td>172</td>\n",
              "      <td>44.771408</td>\n",
              "    </tr>\n",
              "    <tr>\n",
              "      <th>1912</th>\n",
              "      <td>J-2127749D</td>\n",
              "      <td>VW Polo VI</td>\n",
              "      <td>economy</td>\n",
              "      <td>petrol</td>\n",
              "      <td>5.10</td>\n",
              "      <td>2015</td>\n",
              "      <td>74665</td>\n",
              "      <td>2016</td>\n",
              "      <td>electro_bug</td>\n",
              "      <td>4.521437</td>\n",
              "      <td>1.296505e+07</td>\n",
              "      <td>0.10</td>\n",
              "      <td>161.395030</td>\n",
              "      <td>-6.495097</td>\n",
              "      <td>174</td>\n",
              "      <td>173</td>\n",
              "      <td>48.386448</td>\n",
              "    </tr>\n",
              "  </tbody>\n",
              "</table>\n",
              "<p>1913 rows × 17 columns</p>\n",
              "</div>\n",
              "      <button class=\"colab-df-convert\" onclick=\"convertToInteractive('df-b823fc0e-384e-4794-9ea1-bc8ed50a4af0')\"\n",
              "              title=\"Convert this dataframe to an interactive table.\"\n",
              "              style=\"display:none;\">\n",
              "        \n",
              "  <svg xmlns=\"http://www.w3.org/2000/svg\" height=\"24px\"viewBox=\"0 0 24 24\"\n",
              "       width=\"24px\">\n",
              "    <path d=\"M0 0h24v24H0V0z\" fill=\"none\"/>\n",
              "    <path d=\"M18.56 5.44l.94 2.06.94-2.06 2.06-.94-2.06-.94-.94-2.06-.94 2.06-2.06.94zm-11 1L8.5 8.5l.94-2.06 2.06-.94-2.06-.94L8.5 2.5l-.94 2.06-2.06.94zm10 10l.94 2.06.94-2.06 2.06-.94-2.06-.94-.94-2.06-.94 2.06-2.06.94z\"/><path d=\"M17.41 7.96l-1.37-1.37c-.4-.4-.92-.59-1.43-.59-.52 0-1.04.2-1.43.59L10.3 9.45l-7.72 7.72c-.78.78-.78 2.05 0 2.83L4 21.41c.39.39.9.59 1.41.59.51 0 1.02-.2 1.41-.59l7.78-7.78 2.81-2.81c.8-.78.8-2.07 0-2.86zM5.41 20L4 18.59l7.72-7.72 1.47 1.35L5.41 20z\"/>\n",
              "  </svg>\n",
              "      </button>\n",
              "      \n",
              "  <style>\n",
              "    .colab-df-container {\n",
              "      display:flex;\n",
              "      flex-wrap:wrap;\n",
              "      gap: 12px;\n",
              "    }\n",
              "\n",
              "    .colab-df-convert {\n",
              "      background-color: #E8F0FE;\n",
              "      border: none;\n",
              "      border-radius: 50%;\n",
              "      cursor: pointer;\n",
              "      display: none;\n",
              "      fill: #1967D2;\n",
              "      height: 32px;\n",
              "      padding: 0 0 0 0;\n",
              "      width: 32px;\n",
              "    }\n",
              "\n",
              "    .colab-df-convert:hover {\n",
              "      background-color: #E2EBFA;\n",
              "      box-shadow: 0px 1px 2px rgba(60, 64, 67, 0.3), 0px 1px 3px 1px rgba(60, 64, 67, 0.15);\n",
              "      fill: #174EA6;\n",
              "    }\n",
              "\n",
              "    [theme=dark] .colab-df-convert {\n",
              "      background-color: #3B4455;\n",
              "      fill: #D2E3FC;\n",
              "    }\n",
              "\n",
              "    [theme=dark] .colab-df-convert:hover {\n",
              "      background-color: #434B5C;\n",
              "      box-shadow: 0px 1px 3px 1px rgba(0, 0, 0, 0.15);\n",
              "      filter: drop-shadow(0px 1px 2px rgba(0, 0, 0, 0.3));\n",
              "      fill: #FFFFFF;\n",
              "    }\n",
              "  </style>\n",
              "\n",
              "      <script>\n",
              "        const buttonEl =\n",
              "          document.querySelector('#df-b823fc0e-384e-4794-9ea1-bc8ed50a4af0 button.colab-df-convert');\n",
              "        buttonEl.style.display =\n",
              "          google.colab.kernel.accessAllowed ? 'block' : 'none';\n",
              "\n",
              "        async function convertToInteractive(key) {\n",
              "          const element = document.querySelector('#df-b823fc0e-384e-4794-9ea1-bc8ed50a4af0');\n",
              "          const dataTable =\n",
              "            await google.colab.kernel.invokeFunction('convertToInteractive',\n",
              "                                                     [key], {});\n",
              "          if (!dataTable) return;\n",
              "\n",
              "          const docLinkHtml = 'Like what you see? Visit the ' +\n",
              "            '<a target=\"_blank\" href=https://colab.research.google.com/notebooks/data_table.ipynb>data table notebook</a>'\n",
              "            + ' to learn more about interactive tables.';\n",
              "          element.innerHTML = '';\n",
              "          dataTable['output_type'] = 'display_data';\n",
              "          await google.colab.output.renderOutput(dataTable, element);\n",
              "          const docLink = document.createElement('div');\n",
              "          docLink.innerHTML = docLinkHtml;\n",
              "          element.appendChild(docLink);\n",
              "        }\n",
              "      </script>\n",
              "    </div>\n",
              "  </div>\n",
              "  "
            ]
          },
          "metadata": {},
          "execution_count": 71
        }
      ],
      "source": [
        "test['Catboost_target_reg'] = pd.DataFrame(catboost_preds)\n",
        "test"
      ]
    },
    {
      "cell_type": "code",
      "execution_count": 49,
      "metadata": {
        "id": "8BWMKXg46y5n"
      },
      "outputs": [],
      "source": [
        "test[['car_id', 'target_reg']].to_csv(\"catboost_kfold.csv\", index = False)"
      ]
    },
    {
      "cell_type": "markdown",
      "metadata": {
        "id": "Yb9yN10gFpeW"
      },
      "source": [
        "**добавим еще предсказания с другого фолда**"
      ]
    },
    {
      "cell_type": "code",
      "execution_count": null,
      "metadata": {
        "id": "SL4b74MLFcD8"
      },
      "outputs": [],
      "source": [
        "catboost_preds1 = clfs[0].predict(test[filtered_features]) # делаем предсказания на модели на лучшем фолде"
      ]
    },
    {
      "cell_type": "code",
      "execution_count": null,
      "metadata": {
        "id": "n_U7FPCSFlWh"
      },
      "outputs": [],
      "source": [
        "test['target_reg2'] = pd.DataFrame(catboost_preds1)\n",
        "test"
      ]
    },
    {
      "cell_type": "code",
      "execution_count": null,
      "metadata": {
        "id": "fltloajaFz1i"
      },
      "outputs": [],
      "source": [
        "test['target_reg_mean'] = test[['target_reg','target_reg2']].mean(axis=1)\n",
        "test"
      ]
    },
    {
      "cell_type": "code",
      "execution_count": null,
      "metadata": {
        "id": "5Fg4VxgmHEYt"
      },
      "outputs": [],
      "source": [
        "test[['car_id', 'target_reg_mean']].to_csv(\"catboost_kfold1.csv\", index = False)"
      ]
    },
    {
      "cell_type": "markdown",
      "metadata": {
        "id": "FNJ4_FWd9i0v"
      },
      "source": [
        "**переберем параметры CatBoosta с помощью randomized_search**"
      ]
    },
    {
      "cell_type": "code",
      "execution_count": null,
      "metadata": {
        "id": "-8oNq3QkJUG4"
      },
      "outputs": [],
      "source": [
        "model = CatBoostRegressor(\n",
        "    random_seed=42,\n",
        "    thread_count=-1,\n",
        "    cat_features=cat_features,\n",
        "    loss_function=\"RMSE\",\n",
        "    verbose=500,\n",
        "    early_stopping_rounds=50\n",
        ")\n",
        "\n",
        "param_distribution = {\n",
        "    \"one_hot_max_size\": stats.bernoulli(p=0.2, loc=2),\n",
        "    \"learning_rate\": [0.03, 0.1, 0.3],\n",
        "    \"l2_leaf_reg\": [2, 5, 7],\n",
        "    \"iterations\": [500,1000,1500,2000,3000,3500,4000],\n",
        "    \"depth\": stats.binom(n=10, p=0.2),\n",
        "}\n",
        "randomized_search_result = model.randomized_search(param_distribution, X_train, y_train)"
      ]
    },
    {
      "cell_type": "code",
      "execution_count": null,
      "metadata": {
        "colab": {
          "base_uri": "https://localhost:8080/"
        },
        "id": "kozfZvyyJ98V",
        "outputId": "05490a6a-be10-4591-b4ea-9bce2cdda243"
      },
      "outputs": [
        {
          "name": "stdout",
          "output_type": "stream",
          "text": [
            "{'learn': {'RMSE': 9.235939109543445}}\n"
          ]
        },
        {
          "data": {
            "text/plain": [
              "{'l2_leaf_reg': 5,\n",
              " 'iterations': 1500,\n",
              " 'depth': 2.0,\n",
              " 'one_hot_max_size': 2.0,\n",
              " 'learning_rate': 0.1}"
            ]
          },
          "execution_count": 25,
          "metadata": {},
          "output_type": "execute_result"
        }
      ],
      "source": [
        "# Лучшие параметры модели из перебора\n",
        "print(model.best_score_)\n",
        "randomized_search_result[\"params\"]"
      ]
    },
    {
      "cell_type": "markdown",
      "metadata": {
        "id": "4ZBeJ7q-KOto"
      },
      "source": [
        "**Повторим обучение на 3х фолдах с подобранными параметрами**"
      ]
    },
    {
      "cell_type": "code",
      "execution_count": null,
      "metadata": {
        "id": "1yaBCiQEKpJV"
      },
      "outputs": [],
      "source": [
        "X = train[filtered_features]\n",
        "X"
      ]
    },
    {
      "cell_type": "code",
      "execution_count": null,
      "metadata": {
        "colab": {
          "base_uri": "https://localhost:8080/"
        },
        "id": "l5L1Tqq8KhgV",
        "outputId": "466a3b62-642a-4de3-dd8b-3547038a125d"
      },
      "outputs": [
        {
          "name": "stdout",
          "output_type": "stream",
          "text": [
            "0:\tlearn: 17.2155998\ttest: 16.6435452\tbest: 16.6435452 (0)\ttotal: 775us\tremaining: 1.16s\n",
            "Stopped by overfitting detector  (50 iterations wait)\n",
            "\n",
            "bestTest = 11.92320256\n",
            "bestIteration = 84\n",
            "\n",
            "Shrink model to first 85 iterations.\n",
            "0:\tlearn: 16.7371785\ttest: 18.0594812\tbest: 18.0594812 (0)\ttotal: 693us\tremaining: 1.04s\n",
            "Stopped by overfitting detector  (50 iterations wait)\n",
            "\n",
            "bestTest = 11.8138425\n",
            "bestIteration = 381\n",
            "\n",
            "Shrink model to first 382 iterations.\n",
            "0:\tlearn: 17.2215421\ttest: 16.6136503\tbest: 16.6136503 (0)\ttotal: 1.88ms\tremaining: 2.81s\n",
            "500:\tlearn: 10.5252539\ttest: 11.4421385\tbest: 11.4270973 (450)\ttotal: 327ms\tremaining: 652ms\n",
            "Stopped by overfitting detector  (50 iterations wait)\n",
            "\n",
            "bestTest = 11.42709727\n",
            "bestIteration = 450\n",
            "\n",
            "Shrink model to first 451 iterations.\n",
            "mean  RMSE score ---------> 11.51\n"
          ]
        }
      ],
      "source": [
        "n_splits = 3  # Число фолдов.\n",
        "clfs = [] # Тут будем сохранять модели\n",
        "scores = [] # Тут будем хранить скоры валидационных фолдов\n",
        "\n",
        "# параметры валидации, обучение будет идти на n_splits фолдах\n",
        "X = train[filtered_features]\n",
        "y = train[target]\n",
        "\n",
        "kf = KFold(n_splits=n_splits, shuffle=True, random_state=42)\n",
        "for train_index, test_index in kf.split(X):\n",
        "\n",
        "    X_train, X_test = X.iloc[train_index], X.iloc[test_index]\n",
        "    y_train, y_test = y.iloc[train_index], y.iloc[test_index]\n",
        "\n",
        "    # Специальный класс для ускорения обучения\n",
        "    train_dataset = Pool(data=X_train, label=y_train, cat_features=cat_features)\n",
        "    eval_dataset = Pool(data=X_test, label=y_test, cat_features=cat_features)\n",
        "\n",
        "    clf = CatBoostRegressor(\n",
        "        depth=2,\n",
        "        iterations=1500,\n",
        "        learning_rate=0.1,\n",
        "        loss_function=\"RMSE\",\n",
        "\n",
        "        # Главная фишка катбуста - работа с категориальными признаками\n",
        "        cat_features=cat_features,\n",
        "        # ignored_features = ignored_features,\n",
        "\n",
        "        # Регуляризация и ускорение\n",
        "        #colsample_bylevel=0.098,\n",
        "        #subsample=0.95,\n",
        "        l2_leaf_reg=5,\n",
        "        #min_data_in_leaf=243,\n",
        "        #max_bin=187,\n",
        "        random_strength=1,\n",
        "        one_hot_max_size = 2.0,\n",
        "\n",
        "        # Параметры скорения\n",
        "        task_type=\"CPU\",\n",
        "        thread_count=-1,\n",
        "        bootstrap_type=\"Bernoulli\",\n",
        "\n",
        "        # Важное!\n",
        "        random_seed=42,\n",
        "        early_stopping_rounds=50)\n",
        "\n",
        "    clfs.append(clf)\n",
        "\n",
        "    clf.fit(\n",
        "        train_dataset,\n",
        "        eval_set=eval_dataset,\n",
        "        verbose=500,\n",
        "        use_best_model=True,\n",
        "        plot=False)\n",
        "\n",
        "    scores.append(np.mean([v for k, v in clf.best_score_[\"validation\"].items()], dtype=\"float16\"))\n",
        "    # scores.append(clf.best_score_['validation']['MultiClass'])\n",
        "    # clf.save_model(\"../tmp_data/cool_catboost_model_{}_deep\".format(n))\n",
        "\n",
        "assert len(clfs) == n_splits\n",
        "print(\"mean  RMSE score --------->\", np.mean(scores, dtype=\"float16\") - np.std(scores, dtype=\"float16\"))"
      ]
    },
    {
      "cell_type": "markdown",
      "metadata": {
        "id": "rwvbV6OxNsov"
      },
      "source": [
        "**переберем параметры CatBoosta с помощью grid_search**"
      ]
    },
    {
      "cell_type": "code",
      "execution_count": null,
      "metadata": {
        "id": "JW6Ab2hTN8HH"
      },
      "outputs": [],
      "source": [
        "model = CatBoostRegressor(\n",
        "    random_seed=42,\n",
        "    thread_count=-1,\n",
        "    cat_features=cat_features,\n",
        "    loss_function=\"RMSE\",\n",
        "    verbose=500,\n",
        "    early_stopping_rounds=50\n",
        ")\n",
        "\n",
        "grid = {\n",
        "    #\"one_hot_max_size\": stats.bernoulli(p=0.2, loc=2),\n",
        "    \"learning_rate\": [0.03, 0.1, 0.3],\n",
        "    \"l2_leaf_reg\": [2, 5, 7],\n",
        "    \"iterations\": [500,1000,1500,2000,3000,3500,4000],\n",
        "    \"depth\": [2,3,4,5,6,7],\n",
        "}\n",
        "grid_search_result = model.grid_search(grid, X_train, y_train)"
      ]
    },
    {
      "cell_type": "code",
      "execution_count": null,
      "metadata": {
        "colab": {
          "base_uri": "https://localhost:8080/"
        },
        "id": "7BUFdnLVKdZI",
        "outputId": "2453ba15-39f2-4dc8-8999-741d47f2eaba"
      },
      "outputs": [
        {
          "data": {
            "text/plain": [
              "{'depth': 4, 'l2_leaf_reg': 5, 'iterations': 500, 'learning_rate': 0.1}"
            ]
          },
          "execution_count": 31,
          "metadata": {},
          "output_type": "execute_result"
        }
      ],
      "source": [
        "grid_search_result['params']"
      ]
    },
    {
      "cell_type": "code",
      "execution_count": null,
      "metadata": {
        "id": "K6wn0Du1PnTB"
      },
      "outputs": [],
      "source": [
        "grid_search_result['cv_results']"
      ]
    },
    {
      "cell_type": "code",
      "execution_count": null,
      "metadata": {
        "colab": {
          "base_uri": "https://localhost:8080/"
        },
        "id": "gID6em1xP1gk",
        "outputId": "80ed273e-7678-40ef-ad72-157541872386"
      },
      "outputs": [
        {
          "name": "stdout",
          "output_type": "stream",
          "text": [
            "0:\tlearn: 17.0531506\ttest: 16.4590357\tbest: 16.4590357 (0)\ttotal: 1.65ms\tremaining: 823ms\n",
            "Stopped by overfitting detector  (50 iterations wait)\n",
            "\n",
            "bestTest = 11.88635113\n",
            "bestIteration = 60\n",
            "\n",
            "Shrink model to first 61 iterations.\n",
            "0:\tlearn: 16.5273098\ttest: 17.7806562\tbest: 17.7806562 (0)\ttotal: 1.49ms\tremaining: 743ms\n",
            "Stopped by overfitting detector  (50 iterations wait)\n",
            "\n",
            "bestTest = 11.88512237\n",
            "bestIteration = 92\n",
            "\n",
            "Shrink model to first 93 iterations.\n",
            "0:\tlearn: 17.0587507\ttest: 16.4515632\tbest: 16.4515632 (0)\ttotal: 1.51ms\tremaining: 754ms\n",
            "Stopped by overfitting detector  (50 iterations wait)\n",
            "\n",
            "bestTest = 11.41194785\n",
            "bestIteration = 201\n",
            "\n",
            "Shrink model to first 202 iterations.\n",
            "mean  RMSE score ---------> 11.51\n"
          ]
        }
      ],
      "source": [
        "n_splits = 3  # Число фолдов.\n",
        "clfs = [] # Тут будем сохранять модели\n",
        "scores = [] # Тут будем хранить скоры валидационных фолдов\n",
        "\n",
        "# параметры валидации, обучение будет идти на n_splits фолдах\n",
        "X = train[filtered_features]\n",
        "y = train[target]\n",
        "\n",
        "kf = KFold(n_splits=n_splits, shuffle=True, random_state=42)\n",
        "for train_index, test_index in kf.split(X):\n",
        "\n",
        "    X_train, X_test = X.iloc[train_index], X.iloc[test_index]\n",
        "    y_train, y_test = y.iloc[train_index], y.iloc[test_index]\n",
        "\n",
        "    # Специальный класс для ускорения обучения\n",
        "    train_dataset = Pool(data=X_train, label=y_train, cat_features=cat_features)\n",
        "    eval_dataset = Pool(data=X_test, label=y_test, cat_features=cat_features)\n",
        "\n",
        "    clf = CatBoostRegressor(\n",
        "        depth=4,\n",
        "        iterations=500,\n",
        "        learning_rate=0.1,\n",
        "        loss_function=\"RMSE\",\n",
        "\n",
        "        # Главная фишка катбуста - работа с категориальными признаками\n",
        "        cat_features=cat_features,\n",
        "        # ignored_features = ignored_features,\n",
        "\n",
        "        # Регуляризация и ускорение\n",
        "        #colsample_bylevel=0.098,\n",
        "        #subsample=0.95,\n",
        "        l2_leaf_reg=5,\n",
        "        #min_data_in_leaf=243,\n",
        "        #max_bin=187,\n",
        "        random_strength=1,\n",
        "        one_hot_max_size = 2.0,\n",
        "\n",
        "        # Параметры скорения\n",
        "        task_type=\"CPU\",\n",
        "        thread_count=-1,\n",
        "        bootstrap_type=\"Bernoulli\",\n",
        "\n",
        "        # Важное!\n",
        "        random_seed=42,\n",
        "        early_stopping_rounds=50)\n",
        "\n",
        "    clfs.append(clf)\n",
        "\n",
        "    clf.fit(\n",
        "        train_dataset,\n",
        "        eval_set=eval_dataset,\n",
        "        verbose=500,\n",
        "        use_best_model=True,\n",
        "        plot=False)\n",
        "\n",
        "    scores.append(np.mean([v for k, v in clf.best_score_[\"validation\"].items()], dtype=\"float16\"))\n",
        "    # scores.append(clf.best_score_['validation']['MultiClass'])\n",
        "    # clf.save_model(\"../tmp_data/cool_catboost_model_{}_deep\".format(n))\n",
        "\n",
        "assert len(clfs) == n_splits\n",
        "print(\"mean  RMSE score --------->\", np.mean(scores, dtype=\"float16\") - np.std(scores, dtype=\"float16\"))"
      ]
    },
    {
      "cell_type": "code",
      "execution_count": null,
      "metadata": {
        "id": "rFrAfmw68vjW"
      },
      "outputs": [],
      "source": []
    },
    {
      "cell_type": "code",
      "execution_count": null,
      "metadata": {
        "id": "pKF6q1Y68vmS"
      },
      "outputs": [],
      "source": []
    },
    {
      "cell_type": "markdown",
      "metadata": {
        "id": "zZUoHLjQdoy2"
      },
      "source": [
        "**обучаем LightGBMRegressor (goss)**"
      ]
    },
    {
      "cell_type": "code",
      "execution_count": 53,
      "metadata": {
        "id": "YC5zh7Q0P1X1",
        "colab": {
          "base_uri": "https://localhost:8080/"
        },
        "outputId": "a04a533a-35bc-43c8-8b11-a9624ee639aa"
      },
      "outputs": [
        {
          "output_type": "stream",
          "name": "stderr",
          "text": [
            "<ipython-input-53-ee1fbe18564d>:5: SettingWithCopyWarning: \n",
            "A value is trying to be set on a copy of a slice from a DataFrame.\n",
            "Try using .loc[row_indexer,col_indexer] = value instead\n",
            "\n",
            "See the caveats in the documentation: https://pandas.pydata.org/pandas-docs/stable/user_guide/indexing.html#returning-a-view-versus-a-copy\n",
            "  X[col] = le.fit_transform(X[col])\n",
            "<ipython-input-53-ee1fbe18564d>:5: SettingWithCopyWarning: \n",
            "A value is trying to be set on a copy of a slice from a DataFrame.\n",
            "Try using .loc[row_indexer,col_indexer] = value instead\n",
            "\n",
            "See the caveats in the documentation: https://pandas.pydata.org/pandas-docs/stable/user_guide/indexing.html#returning-a-view-versus-a-copy\n",
            "  X[col] = le.fit_transform(X[col])\n",
            "<ipython-input-53-ee1fbe18564d>:5: SettingWithCopyWarning: \n",
            "A value is trying to be set on a copy of a slice from a DataFrame.\n",
            "Try using .loc[row_indexer,col_indexer] = value instead\n",
            "\n",
            "See the caveats in the documentation: https://pandas.pydata.org/pandas-docs/stable/user_guide/indexing.html#returning-a-view-versus-a-copy\n",
            "  X[col] = le.fit_transform(X[col])\n"
          ]
        }
      ],
      "source": [
        "# переведем категориальные фичи в int с помощью  LabelEncoder\n",
        "\n",
        "le = LabelEncoder()\n",
        "for col in cat_features:\n",
        "    X[col] = le.fit_transform(X[col])"
      ]
    },
    {
      "cell_type": "code",
      "execution_count": 54,
      "metadata": {
        "id": "XWO2Lp4Ge1sA"
      },
      "outputs": [],
      "source": [
        "X_train, X_test, y_train, y_test = train_test_split(X, y, test_size=0.2, random_state=42,)"
      ]
    },
    {
      "cell_type": "code",
      "execution_count": 55,
      "metadata": {
        "id": "4Yx1C5_PfUTU"
      },
      "outputs": [],
      "source": [
        "train_data = Dataset(\n",
        "    X_train,\n",
        "    y_train,\n",
        "    categorical_feature=cat_features,\n",
        "    free_raw_data=False,\n",
        ")\n",
        "\n",
        "# Еще валидационный датасет для настройки ранней остановки\n",
        "val_data = Dataset(\n",
        "    X_test,\n",
        "    y_test,\n",
        "    categorical_feature=cat_features,\n",
        "    free_raw_data=False,\n",
        ")"
      ]
    },
    {
      "cell_type": "code",
      "execution_count": null,
      "metadata": {
        "id": "UhUeuC2mfrsX"
      },
      "outputs": [],
      "source": [
        "gbm_params = {\n",
        "    \"objective\": \"regression\",\n",
        "    \"metric\": \"rmse\",\n",
        "    \"num_leaves\": 31,\n",
        "    \"learning_rate\": 0.05,\n",
        "    \"feature_fraction\": 0.9,\n",
        "    'boosting_type': \"goss\",\n",
        "    \"num_iterations\": 10000\n",
        "}"
      ]
    },
    {
      "cell_type": "code",
      "execution_count": null,
      "metadata": {
        "id": "IrEjujJHSlAd"
      },
      "outputs": [],
      "source": [
        "# num_round = 1000\n",
        "# cv_results = lgb.cv(\n",
        "#     params,\n",
        "#     train_data,\n",
        "#     num_boost_round=num_round,\n",
        "#     nfold=3,\n",
        "#     early_stopping_rounds=100,\n",
        "#     stratified=False,\n",
        "# )\n",
        "\n",
        "# best_round = len(cv_results[\"rmse-mean\"])\n",
        "# model = lgb.train(params, train_data, num_boost_round=best_round)"
      ]
    },
    {
      "cell_type": "code",
      "execution_count": null,
      "metadata": {
        "id": "uIKT3u9ZTiMC"
      },
      "outputs": [],
      "source": [
        "gbm = lgb.LGBMRegressor(**gbm_params)"
      ]
    },
    {
      "cell_type": "code",
      "execution_count": null,
      "metadata": {
        "id": "FpNhpDUAWQbD"
      },
      "outputs": [],
      "source": [
        "gbm.fit(X_train, y_train,\n",
        "        eval_set=[(X_test, y_test)],\n",
        "        eval_metric='rmse',\n",
        "        early_stopping_rounds=100)"
      ]
    },
    {
      "cell_type": "code",
      "execution_count": null,
      "metadata": {
        "colab": {
          "base_uri": "https://localhost:8080/"
        },
        "id": "6BMxeNX3WQek",
        "outputId": "f4b1b168-f427-448c-9709-daa69492ae51"
      },
      "outputs": [
        {
          "data": {
            "text/plain": [
              "defaultdict(collections.OrderedDict,\n",
              "            {'valid_0': OrderedDict([('rmse', 12.178725017789267)])})"
            ]
          },
          "execution_count": 36,
          "metadata": {},
          "output_type": "execute_result"
        }
      ],
      "source": [
        "gbm.best_score_"
      ]
    },
    {
      "cell_type": "code",
      "execution_count": null,
      "metadata": {
        "colab": {
          "base_uri": "https://localhost:8080/"
        },
        "id": "bTN55cbYWQg7",
        "outputId": "699c8757-3773-496e-bb0d-ae09f7b16eea"
      },
      "outputs": [
        {
          "data": {
            "text/plain": [
              "85"
            ]
          },
          "execution_count": 37,
          "metadata": {},
          "output_type": "execute_result"
        }
      ],
      "source": [
        "gbm.best_iteration_"
      ]
    },
    {
      "cell_type": "markdown",
      "metadata": {
        "id": "3ajFYrayYWSM"
      },
      "source": [
        "**LightGBM_gridsearch**"
      ]
    },
    {
      "cell_type": "code",
      "execution_count": null,
      "metadata": {
        "colab": {
          "base_uri": "https://localhost:8080/",
          "height": 135
        },
        "id": "HT720siVTiPK",
        "outputId": "16a7dd38-1399-4e46-e0d8-e6b0f1a309d0"
      },
      "outputs": [
        {
          "name": "stdout",
          "output_type": "stream",
          "text": [
            "Fitting 3 folds for each of 300 candidates, totalling 900 fits\n"
          ]
        },
        {
          "data": {
            "text/html": [
              "<style>#sk-container-id-1 {color: black;background-color: white;}#sk-container-id-1 pre{padding: 0;}#sk-container-id-1 div.sk-toggleable {background-color: white;}#sk-container-id-1 label.sk-toggleable__label {cursor: pointer;display: block;width: 100%;margin-bottom: 0;padding: 0.3em;box-sizing: border-box;text-align: center;}#sk-container-id-1 label.sk-toggleable__label-arrow:before {content: \"▸\";float: left;margin-right: 0.25em;color: #696969;}#sk-container-id-1 label.sk-toggleable__label-arrow:hover:before {color: black;}#sk-container-id-1 div.sk-estimator:hover label.sk-toggleable__label-arrow:before {color: black;}#sk-container-id-1 div.sk-toggleable__content {max-height: 0;max-width: 0;overflow: hidden;text-align: left;background-color: #f0f8ff;}#sk-container-id-1 div.sk-toggleable__content pre {margin: 0.2em;color: black;border-radius: 0.25em;background-color: #f0f8ff;}#sk-container-id-1 input.sk-toggleable__control:checked~div.sk-toggleable__content {max-height: 200px;max-width: 100%;overflow: auto;}#sk-container-id-1 input.sk-toggleable__control:checked~label.sk-toggleable__label-arrow:before {content: \"▾\";}#sk-container-id-1 div.sk-estimator input.sk-toggleable__control:checked~label.sk-toggleable__label {background-color: #d4ebff;}#sk-container-id-1 div.sk-label input.sk-toggleable__control:checked~label.sk-toggleable__label {background-color: #d4ebff;}#sk-container-id-1 input.sk-hidden--visually {border: 0;clip: rect(1px 1px 1px 1px);clip: rect(1px, 1px, 1px, 1px);height: 1px;margin: -1px;overflow: hidden;padding: 0;position: absolute;width: 1px;}#sk-container-id-1 div.sk-estimator {font-family: monospace;background-color: #f0f8ff;border: 1px dotted black;border-radius: 0.25em;box-sizing: border-box;margin-bottom: 0.5em;}#sk-container-id-1 div.sk-estimator:hover {background-color: #d4ebff;}#sk-container-id-1 div.sk-parallel-item::after {content: \"\";width: 100%;border-bottom: 1px solid gray;flex-grow: 1;}#sk-container-id-1 div.sk-label:hover label.sk-toggleable__label {background-color: #d4ebff;}#sk-container-id-1 div.sk-serial::before {content: \"\";position: absolute;border-left: 1px solid gray;box-sizing: border-box;top: 0;bottom: 0;left: 50%;z-index: 0;}#sk-container-id-1 div.sk-serial {display: flex;flex-direction: column;align-items: center;background-color: white;padding-right: 0.2em;padding-left: 0.2em;position: relative;}#sk-container-id-1 div.sk-item {position: relative;z-index: 1;}#sk-container-id-1 div.sk-parallel {display: flex;align-items: stretch;justify-content: center;background-color: white;position: relative;}#sk-container-id-1 div.sk-item::before, #sk-container-id-1 div.sk-parallel-item::before {content: \"\";position: absolute;border-left: 1px solid gray;box-sizing: border-box;top: 0;bottom: 0;left: 50%;z-index: -1;}#sk-container-id-1 div.sk-parallel-item {display: flex;flex-direction: column;z-index: 1;position: relative;background-color: white;}#sk-container-id-1 div.sk-parallel-item:first-child::after {align-self: flex-end;width: 50%;}#sk-container-id-1 div.sk-parallel-item:last-child::after {align-self: flex-start;width: 50%;}#sk-container-id-1 div.sk-parallel-item:only-child::after {width: 0;}#sk-container-id-1 div.sk-dashed-wrapped {border: 1px dashed gray;margin: 0 0.4em 0.5em 0.4em;box-sizing: border-box;padding-bottom: 0.4em;background-color: white;}#sk-container-id-1 div.sk-label label {font-family: monospace;font-weight: bold;display: inline-block;line-height: 1.2em;}#sk-container-id-1 div.sk-label-container {text-align: center;}#sk-container-id-1 div.sk-container {/* jupyter's `normalize.less` sets `[hidden] { display: none; }` but bootstrap.min.css set `[hidden] { display: none !important; }` so we also need the `!important` here to be able to override the default hidden behavior on the sphinx rendered scikit-learn.org. See: https://github.com/scikit-learn/scikit-learn/issues/21755 */display: inline-block !important;position: relative;}#sk-container-id-1 div.sk-text-repr-fallback {display: none;}</style><div id=\"sk-container-id-1\" class=\"sk-top-container\"><div class=\"sk-text-repr-fallback\"><pre>GridSearchCV(cv=3, estimator=LGBMRegressor(), n_jobs=-1,\n",
              "             param_grid={&#x27;learning_rate&#x27;: [0.05, 0.1, 0.15],\n",
              "                         &#x27;max_depth&#x27;: [4, 5, 6, 10],\n",
              "                         &#x27;n_estimators&#x27;: [40, 60, 80, 100, 200],\n",
              "                         &#x27;num_leaves&#x27;: [15, 20, 25, 32, 40],\n",
              "                         &#x27;random_state&#x27;: [42]},\n",
              "             verbose=10)</pre><b>In a Jupyter environment, please rerun this cell to show the HTML representation or trust the notebook. <br />On GitHub, the HTML representation is unable to render, please try loading this page with nbviewer.org.</b></div><div class=\"sk-container\" hidden><div class=\"sk-item sk-dashed-wrapped\"><div class=\"sk-label-container\"><div class=\"sk-label sk-toggleable\"><input class=\"sk-toggleable__control sk-hidden--visually\" id=\"sk-estimator-id-1\" type=\"checkbox\" ><label for=\"sk-estimator-id-1\" class=\"sk-toggleable__label sk-toggleable__label-arrow\">GridSearchCV</label><div class=\"sk-toggleable__content\"><pre>GridSearchCV(cv=3, estimator=LGBMRegressor(), n_jobs=-1,\n",
              "             param_grid={&#x27;learning_rate&#x27;: [0.05, 0.1, 0.15],\n",
              "                         &#x27;max_depth&#x27;: [4, 5, 6, 10],\n",
              "                         &#x27;n_estimators&#x27;: [40, 60, 80, 100, 200],\n",
              "                         &#x27;num_leaves&#x27;: [15, 20, 25, 32, 40],\n",
              "                         &#x27;random_state&#x27;: [42]},\n",
              "             verbose=10)</pre></div></div></div><div class=\"sk-parallel\"><div class=\"sk-parallel-item\"><div class=\"sk-item\"><div class=\"sk-label-container\"><div class=\"sk-label sk-toggleable\"><input class=\"sk-toggleable__control sk-hidden--visually\" id=\"sk-estimator-id-2\" type=\"checkbox\" ><label for=\"sk-estimator-id-2\" class=\"sk-toggleable__label sk-toggleable__label-arrow\">estimator: LGBMRegressor</label><div class=\"sk-toggleable__content\"><pre>LGBMRegressor()</pre></div></div></div><div class=\"sk-serial\"><div class=\"sk-item\"><div class=\"sk-estimator sk-toggleable\"><input class=\"sk-toggleable__control sk-hidden--visually\" id=\"sk-estimator-id-3\" type=\"checkbox\" ><label for=\"sk-estimator-id-3\" class=\"sk-toggleable__label sk-toggleable__label-arrow\">LGBMRegressor</label><div class=\"sk-toggleable__content\"><pre>LGBMRegressor()</pre></div></div></div></div></div></div></div></div></div></div>"
            ],
            "text/plain": [
              "GridSearchCV(cv=3, estimator=LGBMRegressor(), n_jobs=-1,\n",
              "             param_grid={'learning_rate': [0.05, 0.1, 0.15],\n",
              "                         'max_depth': [4, 5, 6, 10],\n",
              "                         'n_estimators': [40, 60, 80, 100, 200],\n",
              "                         'num_leaves': [15, 20, 25, 32, 40],\n",
              "                         'random_state': [42]},\n",
              "             verbose=10)"
            ]
          },
          "execution_count": 11,
          "metadata": {},
          "output_type": "execute_result"
        }
      ],
      "source": [
        "model = lgb.LGBMRegressor()\n",
        "\n",
        "param_dist = {\"max_depth\": [4,5,6,10],\n",
        "              \"learning_rate\" : [0.05, 0.1,0.15],\n",
        "              \"num_leaves\": [15, 20, 25, 32, 40],\n",
        "              \"n_estimators\": [40, 60, 80, 100, 200],\n",
        "              \"random_state\": [42]}\n",
        "\n",
        "grid_search = GridSearchCV(model, param_grid=param_dist, cv = 3,\n",
        "                                   verbose=10, n_jobs=-1)\n",
        "\n",
        "\n",
        "grid_search.fit(X_train, y_train)"
      ]
    },
    {
      "cell_type": "code",
      "execution_count": null,
      "metadata": {
        "colab": {
          "base_uri": "https://localhost:8080/"
        },
        "id": "UmcgFAxGZFE6",
        "outputId": "b0bcb5e6-35ad-43c9-c9cd-541363473dcb"
      },
      "outputs": [
        {
          "name": "stdout",
          "output_type": "stream",
          "text": [
            "4 15 80 0.1\n"
          ]
        }
      ],
      "source": [
        "max_depth_best = grid_search.best_estimator_.max_depth\n",
        "num_leaves_best = grid_search.best_estimator_.num_leaves\n",
        "n_estimators_best = grid_search.best_estimator_.n_estimators\n",
        "learning_rate_best = grid_search.best_estimator_.learning_rate\n",
        "\n",
        "print(max_depth_best, num_leaves_best, n_estimators_best, learning_rate_best)"
      ]
    },
    {
      "cell_type": "code",
      "execution_count": null,
      "metadata": {
        "id": "p668F6ncZFHp"
      },
      "outputs": [],
      "source": [
        "gbm_params_optimised = {\n",
        "    \"objective\": \"regression\",\n",
        "    \"metric\": \"rmse\",\n",
        "    \"max_depth\": max_depth_best,\n",
        "    \"num_leaves\": num_leaves_best,\n",
        "    \"learning_rate\": learning_rate_best,\n",
        "    \"feature_fraction\": 0.9,\n",
        "    \"n_estimators\": n_estimators_best,\n",
        "    'boosting_type': \"goss\",\n",
        "    \"num_iterations\": 10000\n",
        "}"
      ]
    },
    {
      "cell_type": "code",
      "execution_count": null,
      "metadata": {
        "id": "rDVabmSWaaUO"
      },
      "outputs": [],
      "source": [
        "gbm = lgb.LGBMRegressor(**gbm_params_optimised)"
      ]
    },
    {
      "cell_type": "code",
      "execution_count": null,
      "metadata": {
        "id": "DNFYKc9caaUP"
      },
      "outputs": [],
      "source": [
        "gbm.fit(X_train, y_train,\n",
        "        eval_set=[(X_test, y_test)],\n",
        "        eval_metric='rmse',\n",
        "        early_stopping_rounds=100)"
      ]
    },
    {
      "cell_type": "code",
      "execution_count": null,
      "metadata": {
        "colab": {
          "base_uri": "https://localhost:8080/"
        },
        "id": "tNUNkVt2ZFKr",
        "outputId": "2cb3d483-ab88-4d2b-d56b-2e0e59e5b432"
      },
      "outputs": [
        {
          "data": {
            "text/plain": [
              "defaultdict(collections.OrderedDict,\n",
              "            {'valid_0': OrderedDict([('rmse', 12.028295389193095)])})"
            ]
          },
          "execution_count": 16,
          "metadata": {},
          "output_type": "execute_result"
        }
      ],
      "source": [
        "gbm.best_score_"
      ]
    },
    {
      "cell_type": "markdown",
      "metadata": {
        "id": "VvwbACbCh9yM"
      },
      "source": [
        "**Повторим обучение Lightgbm на 3х фолдах с подобранными параметрами**"
      ]
    },
    {
      "cell_type": "code",
      "execution_count": null,
      "metadata": {
        "id": "3BD40XVBibvT"
      },
      "outputs": [],
      "source": [
        "train"
      ]
    },
    {
      "cell_type": "code",
      "execution_count": null,
      "metadata": {
        "id": "eIuzMns8iFQ9"
      },
      "outputs": [],
      "source": [
        "n_splits = 3  # Число фолдов.\n",
        "gbms = [] # Тут будем сохранять модели\n",
        "gbm_scores = [] # Тут будем хранить скоры валидационных фолдов\n",
        "\n",
        "# параметры валидации, обучение будет идти на n_splits фолдах\n",
        "X = train[filtered_features]\n",
        "y = train[target]\n",
        "\n",
        "le = LabelEncoder()\n",
        "for col in cat_features:\n",
        "    X[col] = le.fit_transform(X[col])\n",
        "\n",
        "kf = KFold(n_splits=n_splits, shuffle=True, random_state=42)\n",
        "for train_index, test_index in kf.split(X):\n",
        "\n",
        "    X_train, X_test = X.iloc[train_index], X.iloc[test_index]\n",
        "    y_train, y_test = y.iloc[train_index], y.iloc[test_index]\n",
        "\n",
        "    # Специальный класс для ускорения обучения\n",
        "    train_data = Dataset(\n",
        "    X_train,\n",
        "    y_train,\n",
        "    categorical_feature=cat_features,\n",
        "    free_raw_data=False)\n",
        "\n",
        "\n",
        "    val_data = Dataset(\n",
        "    X_test,\n",
        "    y_test,\n",
        "    categorical_feature=cat_features,\n",
        "    free_raw_data=False)\n",
        "\n",
        "    gbm_params_optimised = {\n",
        "    \"objective\": \"regression\",\n",
        "    \"metric\": \"rmse\",\n",
        "    \"max_depth\": 4,\n",
        "    \"num_leaves\": 15,\n",
        "    \"learning_rate\": 0.1,\n",
        "    \"feature_fraction\": 0.9,\n",
        "    \"n_estimators\": 80,\n",
        "    'boosting_type': \"goss\",\n",
        "    \"num_iterations\": 10000,\n",
        "    \"random_state\": [42]}\n",
        "\n",
        "    gbm = lgb.LGBMRegressor(**gbm_params_optimised)\n",
        "\n",
        "    gbms.append(gbm)\n",
        "\n",
        "    gbm.fit(X_train, y_train,\n",
        "        eval_set=[(X_test, y_test)],\n",
        "        eval_metric='rmse',\n",
        "        early_stopping_rounds=100)\n",
        "\n",
        "    #gbm_scores.append(np.mean([v for k, v in gbm.best_score_[\"validation\"].items()], dtype=\"float16\"))\n",
        "    gbm_scores.append(gbm.best_score_['valid_0'].values())\n",
        "\n",
        "\n",
        "assert len(gbms) == n_splits\n",
        "#print(\"mean  RMSE score --------->\", np.mean(gbm_scores, dtype=\"float16\") - np.std(gbm_scores, dtype=\"float16\"))\n",
        "print(\"mean  RMSE score --------->\", np.mean([list(values) for values in gbm_scores]))"
      ]
    },
    {
      "cell_type": "code",
      "execution_count": 57,
      "metadata": {
        "colab": {
          "base_uri": "https://localhost:8080/"
        },
        "id": "mxtbdnkYiA9S",
        "outputId": "aead9f9d-fe10-4ab6-eee4-ec02658ef4fe"
      },
      "outputs": [
        {
          "output_type": "execute_result",
          "data": {
            "text/plain": [
              "defaultdict(collections.OrderedDict,\n",
              "            {'valid_0': OrderedDict([('rmse', 11.852979722088289)])})"
            ]
          },
          "metadata": {},
          "execution_count": 57
        }
      ],
      "source": [
        "gbm.best_score_"
      ]
    },
    {
      "cell_type": "code",
      "execution_count": 58,
      "metadata": {
        "colab": {
          "base_uri": "https://localhost:8080/"
        },
        "id": "ojqHE_GviBAS",
        "outputId": "d8e91987-ba5d-4ad0-e678-020433175873"
      },
      "outputs": [
        {
          "output_type": "stream",
          "name": "stdout",
          "text": [
            "[12.074375673494051]\n",
            "[12.163769833561092]\n",
            "[11.852979722088289]\n"
          ]
        }
      ],
      "source": [
        "for values in gbm_scores:\n",
        "  print(list(values))"
      ]
    },
    {
      "cell_type": "code",
      "execution_count": null,
      "metadata": {
        "colab": {
          "base_uri": "https://localhost:8080/"
        },
        "id": "xuIEPnGmiZI9",
        "outputId": "73ea6a98-42ce-41ac-8e84-fc07abfb68e0"
      },
      "outputs": [
        {
          "data": {
            "text/plain": [
              "12.030375076381143"
            ]
          },
          "execution_count": 20,
          "metadata": {},
          "output_type": "execute_result"
        }
      ],
      "source": [
        "mean_value = np.mean([list(values) for values in gbm_scores])\n",
        "mean_value"
      ]
    },
    {
      "cell_type": "code",
      "execution_count": 61,
      "metadata": {
        "colab": {
          "base_uri": "https://localhost:8080/"
        },
        "id": "ZPKgD_tfiBFs",
        "outputId": "f8fbbc66-c33f-4bfe-cf5c-ae9be049233e"
      },
      "outputs": [
        {
          "output_type": "execute_result",
          "data": {
            "text/plain": [
              "<lightgbm.basic.Booster at 0x7f24ed7ecb50>"
            ]
          },
          "metadata": {},
          "execution_count": 61
        }
      ],
      "source": [
        "gbms[2].booster_.save_model('cool_lightgbm_model') # сохраняем модель на лучшем фолде"
      ]
    },
    {
      "cell_type": "code",
      "execution_count": 72,
      "metadata": {
        "id": "igdZf0XciBIT",
        "colab": {
          "base_uri": "https://localhost:8080/"
        },
        "outputId": "073cd222-016c-4995-9207-ae4aec66f83c"
      },
      "outputs": [
        {
          "output_type": "stream",
          "name": "stderr",
          "text": [
            "<ipython-input-72-6984d434f1ef>:7: SettingWithCopyWarning: \n",
            "A value is trying to be set on a copy of a slice from a DataFrame.\n",
            "Try using .loc[row_indexer,col_indexer] = value instead\n",
            "\n",
            "See the caveats in the documentation: https://pandas.pydata.org/pandas-docs/stable/user_guide/indexing.html#returning-a-view-versus-a-copy\n",
            "  X_test[col] = le.fit_transform(X_test[col])\n",
            "<ipython-input-72-6984d434f1ef>:7: SettingWithCopyWarning: \n",
            "A value is trying to be set on a copy of a slice from a DataFrame.\n",
            "Try using .loc[row_indexer,col_indexer] = value instead\n",
            "\n",
            "See the caveats in the documentation: https://pandas.pydata.org/pandas-docs/stable/user_guide/indexing.html#returning-a-view-versus-a-copy\n",
            "  X_test[col] = le.fit_transform(X_test[col])\n",
            "<ipython-input-72-6984d434f1ef>:7: SettingWithCopyWarning: \n",
            "A value is trying to be set on a copy of a slice from a DataFrame.\n",
            "Try using .loc[row_indexer,col_indexer] = value instead\n",
            "\n",
            "See the caveats in the documentation: https://pandas.pydata.org/pandas-docs/stable/user_guide/indexing.html#returning-a-view-versus-a-copy\n",
            "  X_test[col] = le.fit_transform(X_test[col])\n"
          ]
        }
      ],
      "source": [
        "# трансформируем тестовый датасет, также как и train\n",
        "\n",
        "X_test = test[filtered_features]\n",
        "\n",
        "le = LabelEncoder()\n",
        "for col in cat_features:\n",
        "    X_test[col] = le.fit_transform(X_test[col])"
      ]
    },
    {
      "cell_type": "code",
      "execution_count": 73,
      "metadata": {
        "id": "n94Rom9Lzp9r"
      },
      "outputs": [],
      "source": [
        "loaded_booster = lgb.Booster(model_file=\"cool_lightgbm_model\")"
      ]
    },
    {
      "cell_type": "code",
      "execution_count": 74,
      "metadata": {
        "colab": {
          "base_uri": "https://localhost:8080/"
        },
        "id": "IZpcz1jZxBU9",
        "outputId": "f8506b6f-3641-4203-8cc4-d2bbec18b08e"
      },
      "outputs": [
        {
          "output_type": "execute_result",
          "data": {
            "text/plain": [
              "(1913,)"
            ]
          },
          "metadata": {},
          "execution_count": 74
        }
      ],
      "source": [
        "lightgbm_preds = loaded_booster.predict(X_test) # делаем предсказания на модели на лучшем фолде\n",
        "lightgbm_preds.shape"
      ]
    },
    {
      "cell_type": "code",
      "execution_count": 75,
      "metadata": {
        "id": "BgFSs7jvxBYO",
        "colab": {
          "base_uri": "https://localhost:8080/",
          "height": 661
        },
        "outputId": "8cc813da-1c5f-4090-ffe5-15193d95feae"
      },
      "outputs": [
        {
          "output_type": "execute_result",
          "data": {
            "text/plain": [
              "          car_id            model  car_type fuel_type  car_rating  \\\n",
              "0     P17494612l      Skoda Rapid   economy    petrol        4.80   \n",
              "1     N-1530212S  Renault Sandero  standart    petrol        4.32   \n",
              "2     B-1154399t     Smart ForTwo   economy    petrol        4.46   \n",
              "3     F12725233R    Smart ForFour   economy    petrol        2.80   \n",
              "4     l-1139189J      Skoda Rapid   economy    petrol        6.56   \n",
              "...          ...              ...       ...       ...         ...   \n",
              "1908  x13640960Q   Nissan Qashqai  standart    petrol        2.44   \n",
              "1909  Z-2276652N   Renault Kaptur  standart    petrol        4.44   \n",
              "1910  F-2165841B  Hyundai Solaris   economy    petrol        5.16   \n",
              "1911  x-1331529J  Hyundai Solaris   economy    petrol        5.76   \n",
              "1912  J-2127749D       VW Polo VI   economy    petrol        5.10   \n",
              "\n",
              "      year_to_start  riders  year_to_work     target_class  mean_rating  \\\n",
              "0              2013   42269          2019       gear_stick     3.746207   \n",
              "1              2015   90014          2016  engine_overheat     4.318966   \n",
              "2              2015   82684          2017      electro_bug     5.134655   \n",
              "3              2014   68833          2021     engine_check     4.617356   \n",
              "4              2013   42442          2021      another_bug     4.287471   \n",
              "...             ...     ...           ...              ...          ...   \n",
              "1908           2015   81070          2016  engine_overheat     4.641379   \n",
              "1909           2014   70067          2019  engine_overheat     3.956954   \n",
              "1910           2011    6574          2022     engine_check     4.607816   \n",
              "1911           2015   85648          2018      electro_bug     4.462644   \n",
              "1912           2015   74665          2016      electro_bug     4.521437   \n",
              "\n",
              "      distance_sum  rating_min   speed_max  user_ride_quality_median  \\\n",
              "0     1.407539e+07        0.10  195.454152                 10.566220   \n",
              "1     1.970390e+07        0.00  181.538685                 11.807941   \n",
              "2     9.314946e+06        0.10  118.440645                 14.862538   \n",
              "3     9.336838e+06        0.83  112.829785                 20.088904   \n",
              "4     1.196250e+07        0.00  187.846088                  3.698460   \n",
              "...            ...         ...         ...                       ...   \n",
              "1908  8.035217e+06        0.10  161.000000                  5.426149   \n",
              "1909  1.792881e+07        0.10  195.394955                 -6.225923   \n",
              "1910  1.401163e+07        0.22  113.091551                 -4.110241   \n",
              "1911  1.375324e+07        0.10  154.105593                 -4.337686   \n",
              "1912  1.296505e+07        0.10  161.395030                 -6.495097   \n",
              "\n",
              "      deviation_normal_count  user_uniq  Catboost_target_reg  lgb_target_reg  \n",
              "0                        174        170            46.913346       49.735647  \n",
              "1                        174        174            31.960878       35.734030  \n",
              "2                        174        172            33.802347       31.434782  \n",
              "3                        174        172            35.979513       34.328350  \n",
              "4                        174        172            32.327644       31.396779  \n",
              "...                      ...        ...                  ...             ...  \n",
              "1908                     174        171            57.644811       59.154587  \n",
              "1909                     174        172            45.007600       52.151615  \n",
              "1910                     174        172            33.821215       38.186486  \n",
              "1911                     174        172            44.771408       45.587600  \n",
              "1912                     174        173            48.386448       53.029226  \n",
              "\n",
              "[1913 rows x 18 columns]"
            ],
            "text/html": [
              "\n",
              "  <div id=\"df-4a8f3f47-82d6-483b-9910-e1b2bd9090a5\">\n",
              "    <div class=\"colab-df-container\">\n",
              "      <div>\n",
              "<style scoped>\n",
              "    .dataframe tbody tr th:only-of-type {\n",
              "        vertical-align: middle;\n",
              "    }\n",
              "\n",
              "    .dataframe tbody tr th {\n",
              "        vertical-align: top;\n",
              "    }\n",
              "\n",
              "    .dataframe thead th {\n",
              "        text-align: right;\n",
              "    }\n",
              "</style>\n",
              "<table border=\"1\" class=\"dataframe\">\n",
              "  <thead>\n",
              "    <tr style=\"text-align: right;\">\n",
              "      <th></th>\n",
              "      <th>car_id</th>\n",
              "      <th>model</th>\n",
              "      <th>car_type</th>\n",
              "      <th>fuel_type</th>\n",
              "      <th>car_rating</th>\n",
              "      <th>year_to_start</th>\n",
              "      <th>riders</th>\n",
              "      <th>year_to_work</th>\n",
              "      <th>target_class</th>\n",
              "      <th>mean_rating</th>\n",
              "      <th>distance_sum</th>\n",
              "      <th>rating_min</th>\n",
              "      <th>speed_max</th>\n",
              "      <th>user_ride_quality_median</th>\n",
              "      <th>deviation_normal_count</th>\n",
              "      <th>user_uniq</th>\n",
              "      <th>Catboost_target_reg</th>\n",
              "      <th>lgb_target_reg</th>\n",
              "    </tr>\n",
              "  </thead>\n",
              "  <tbody>\n",
              "    <tr>\n",
              "      <th>0</th>\n",
              "      <td>P17494612l</td>\n",
              "      <td>Skoda Rapid</td>\n",
              "      <td>economy</td>\n",
              "      <td>petrol</td>\n",
              "      <td>4.80</td>\n",
              "      <td>2013</td>\n",
              "      <td>42269</td>\n",
              "      <td>2019</td>\n",
              "      <td>gear_stick</td>\n",
              "      <td>3.746207</td>\n",
              "      <td>1.407539e+07</td>\n",
              "      <td>0.10</td>\n",
              "      <td>195.454152</td>\n",
              "      <td>10.566220</td>\n",
              "      <td>174</td>\n",
              "      <td>170</td>\n",
              "      <td>46.913346</td>\n",
              "      <td>49.735647</td>\n",
              "    </tr>\n",
              "    <tr>\n",
              "      <th>1</th>\n",
              "      <td>N-1530212S</td>\n",
              "      <td>Renault Sandero</td>\n",
              "      <td>standart</td>\n",
              "      <td>petrol</td>\n",
              "      <td>4.32</td>\n",
              "      <td>2015</td>\n",
              "      <td>90014</td>\n",
              "      <td>2016</td>\n",
              "      <td>engine_overheat</td>\n",
              "      <td>4.318966</td>\n",
              "      <td>1.970390e+07</td>\n",
              "      <td>0.00</td>\n",
              "      <td>181.538685</td>\n",
              "      <td>11.807941</td>\n",
              "      <td>174</td>\n",
              "      <td>174</td>\n",
              "      <td>31.960878</td>\n",
              "      <td>35.734030</td>\n",
              "    </tr>\n",
              "    <tr>\n",
              "      <th>2</th>\n",
              "      <td>B-1154399t</td>\n",
              "      <td>Smart ForTwo</td>\n",
              "      <td>economy</td>\n",
              "      <td>petrol</td>\n",
              "      <td>4.46</td>\n",
              "      <td>2015</td>\n",
              "      <td>82684</td>\n",
              "      <td>2017</td>\n",
              "      <td>electro_bug</td>\n",
              "      <td>5.134655</td>\n",
              "      <td>9.314946e+06</td>\n",
              "      <td>0.10</td>\n",
              "      <td>118.440645</td>\n",
              "      <td>14.862538</td>\n",
              "      <td>174</td>\n",
              "      <td>172</td>\n",
              "      <td>33.802347</td>\n",
              "      <td>31.434782</td>\n",
              "    </tr>\n",
              "    <tr>\n",
              "      <th>3</th>\n",
              "      <td>F12725233R</td>\n",
              "      <td>Smart ForFour</td>\n",
              "      <td>economy</td>\n",
              "      <td>petrol</td>\n",
              "      <td>2.80</td>\n",
              "      <td>2014</td>\n",
              "      <td>68833</td>\n",
              "      <td>2021</td>\n",
              "      <td>engine_check</td>\n",
              "      <td>4.617356</td>\n",
              "      <td>9.336838e+06</td>\n",
              "      <td>0.83</td>\n",
              "      <td>112.829785</td>\n",
              "      <td>20.088904</td>\n",
              "      <td>174</td>\n",
              "      <td>172</td>\n",
              "      <td>35.979513</td>\n",
              "      <td>34.328350</td>\n",
              "    </tr>\n",
              "    <tr>\n",
              "      <th>4</th>\n",
              "      <td>l-1139189J</td>\n",
              "      <td>Skoda Rapid</td>\n",
              "      <td>economy</td>\n",
              "      <td>petrol</td>\n",
              "      <td>6.56</td>\n",
              "      <td>2013</td>\n",
              "      <td>42442</td>\n",
              "      <td>2021</td>\n",
              "      <td>another_bug</td>\n",
              "      <td>4.287471</td>\n",
              "      <td>1.196250e+07</td>\n",
              "      <td>0.00</td>\n",
              "      <td>187.846088</td>\n",
              "      <td>3.698460</td>\n",
              "      <td>174</td>\n",
              "      <td>172</td>\n",
              "      <td>32.327644</td>\n",
              "      <td>31.396779</td>\n",
              "    </tr>\n",
              "    <tr>\n",
              "      <th>...</th>\n",
              "      <td>...</td>\n",
              "      <td>...</td>\n",
              "      <td>...</td>\n",
              "      <td>...</td>\n",
              "      <td>...</td>\n",
              "      <td>...</td>\n",
              "      <td>...</td>\n",
              "      <td>...</td>\n",
              "      <td>...</td>\n",
              "      <td>...</td>\n",
              "      <td>...</td>\n",
              "      <td>...</td>\n",
              "      <td>...</td>\n",
              "      <td>...</td>\n",
              "      <td>...</td>\n",
              "      <td>...</td>\n",
              "      <td>...</td>\n",
              "      <td>...</td>\n",
              "    </tr>\n",
              "    <tr>\n",
              "      <th>1908</th>\n",
              "      <td>x13640960Q</td>\n",
              "      <td>Nissan Qashqai</td>\n",
              "      <td>standart</td>\n",
              "      <td>petrol</td>\n",
              "      <td>2.44</td>\n",
              "      <td>2015</td>\n",
              "      <td>81070</td>\n",
              "      <td>2016</td>\n",
              "      <td>engine_overheat</td>\n",
              "      <td>4.641379</td>\n",
              "      <td>8.035217e+06</td>\n",
              "      <td>0.10</td>\n",
              "      <td>161.000000</td>\n",
              "      <td>5.426149</td>\n",
              "      <td>174</td>\n",
              "      <td>171</td>\n",
              "      <td>57.644811</td>\n",
              "      <td>59.154587</td>\n",
              "    </tr>\n",
              "    <tr>\n",
              "      <th>1909</th>\n",
              "      <td>Z-2276652N</td>\n",
              "      <td>Renault Kaptur</td>\n",
              "      <td>standart</td>\n",
              "      <td>petrol</td>\n",
              "      <td>4.44</td>\n",
              "      <td>2014</td>\n",
              "      <td>70067</td>\n",
              "      <td>2019</td>\n",
              "      <td>engine_overheat</td>\n",
              "      <td>3.956954</td>\n",
              "      <td>1.792881e+07</td>\n",
              "      <td>0.10</td>\n",
              "      <td>195.394955</td>\n",
              "      <td>-6.225923</td>\n",
              "      <td>174</td>\n",
              "      <td>172</td>\n",
              "      <td>45.007600</td>\n",
              "      <td>52.151615</td>\n",
              "    </tr>\n",
              "    <tr>\n",
              "      <th>1910</th>\n",
              "      <td>F-2165841B</td>\n",
              "      <td>Hyundai Solaris</td>\n",
              "      <td>economy</td>\n",
              "      <td>petrol</td>\n",
              "      <td>5.16</td>\n",
              "      <td>2011</td>\n",
              "      <td>6574</td>\n",
              "      <td>2022</td>\n",
              "      <td>engine_check</td>\n",
              "      <td>4.607816</td>\n",
              "      <td>1.401163e+07</td>\n",
              "      <td>0.22</td>\n",
              "      <td>113.091551</td>\n",
              "      <td>-4.110241</td>\n",
              "      <td>174</td>\n",
              "      <td>172</td>\n",
              "      <td>33.821215</td>\n",
              "      <td>38.186486</td>\n",
              "    </tr>\n",
              "    <tr>\n",
              "      <th>1911</th>\n",
              "      <td>x-1331529J</td>\n",
              "      <td>Hyundai Solaris</td>\n",
              "      <td>economy</td>\n",
              "      <td>petrol</td>\n",
              "      <td>5.76</td>\n",
              "      <td>2015</td>\n",
              "      <td>85648</td>\n",
              "      <td>2018</td>\n",
              "      <td>electro_bug</td>\n",
              "      <td>4.462644</td>\n",
              "      <td>1.375324e+07</td>\n",
              "      <td>0.10</td>\n",
              "      <td>154.105593</td>\n",
              "      <td>-4.337686</td>\n",
              "      <td>174</td>\n",
              "      <td>172</td>\n",
              "      <td>44.771408</td>\n",
              "      <td>45.587600</td>\n",
              "    </tr>\n",
              "    <tr>\n",
              "      <th>1912</th>\n",
              "      <td>J-2127749D</td>\n",
              "      <td>VW Polo VI</td>\n",
              "      <td>economy</td>\n",
              "      <td>petrol</td>\n",
              "      <td>5.10</td>\n",
              "      <td>2015</td>\n",
              "      <td>74665</td>\n",
              "      <td>2016</td>\n",
              "      <td>electro_bug</td>\n",
              "      <td>4.521437</td>\n",
              "      <td>1.296505e+07</td>\n",
              "      <td>0.10</td>\n",
              "      <td>161.395030</td>\n",
              "      <td>-6.495097</td>\n",
              "      <td>174</td>\n",
              "      <td>173</td>\n",
              "      <td>48.386448</td>\n",
              "      <td>53.029226</td>\n",
              "    </tr>\n",
              "  </tbody>\n",
              "</table>\n",
              "<p>1913 rows × 18 columns</p>\n",
              "</div>\n",
              "      <button class=\"colab-df-convert\" onclick=\"convertToInteractive('df-4a8f3f47-82d6-483b-9910-e1b2bd9090a5')\"\n",
              "              title=\"Convert this dataframe to an interactive table.\"\n",
              "              style=\"display:none;\">\n",
              "        \n",
              "  <svg xmlns=\"http://www.w3.org/2000/svg\" height=\"24px\"viewBox=\"0 0 24 24\"\n",
              "       width=\"24px\">\n",
              "    <path d=\"M0 0h24v24H0V0z\" fill=\"none\"/>\n",
              "    <path d=\"M18.56 5.44l.94 2.06.94-2.06 2.06-.94-2.06-.94-.94-2.06-.94 2.06-2.06.94zm-11 1L8.5 8.5l.94-2.06 2.06-.94-2.06-.94L8.5 2.5l-.94 2.06-2.06.94zm10 10l.94 2.06.94-2.06 2.06-.94-2.06-.94-.94-2.06-.94 2.06-2.06.94z\"/><path d=\"M17.41 7.96l-1.37-1.37c-.4-.4-.92-.59-1.43-.59-.52 0-1.04.2-1.43.59L10.3 9.45l-7.72 7.72c-.78.78-.78 2.05 0 2.83L4 21.41c.39.39.9.59 1.41.59.51 0 1.02-.2 1.41-.59l7.78-7.78 2.81-2.81c.8-.78.8-2.07 0-2.86zM5.41 20L4 18.59l7.72-7.72 1.47 1.35L5.41 20z\"/>\n",
              "  </svg>\n",
              "      </button>\n",
              "      \n",
              "  <style>\n",
              "    .colab-df-container {\n",
              "      display:flex;\n",
              "      flex-wrap:wrap;\n",
              "      gap: 12px;\n",
              "    }\n",
              "\n",
              "    .colab-df-convert {\n",
              "      background-color: #E8F0FE;\n",
              "      border: none;\n",
              "      border-radius: 50%;\n",
              "      cursor: pointer;\n",
              "      display: none;\n",
              "      fill: #1967D2;\n",
              "      height: 32px;\n",
              "      padding: 0 0 0 0;\n",
              "      width: 32px;\n",
              "    }\n",
              "\n",
              "    .colab-df-convert:hover {\n",
              "      background-color: #E2EBFA;\n",
              "      box-shadow: 0px 1px 2px rgba(60, 64, 67, 0.3), 0px 1px 3px 1px rgba(60, 64, 67, 0.15);\n",
              "      fill: #174EA6;\n",
              "    }\n",
              "\n",
              "    [theme=dark] .colab-df-convert {\n",
              "      background-color: #3B4455;\n",
              "      fill: #D2E3FC;\n",
              "    }\n",
              "\n",
              "    [theme=dark] .colab-df-convert:hover {\n",
              "      background-color: #434B5C;\n",
              "      box-shadow: 0px 1px 3px 1px rgba(0, 0, 0, 0.15);\n",
              "      filter: drop-shadow(0px 1px 2px rgba(0, 0, 0, 0.3));\n",
              "      fill: #FFFFFF;\n",
              "    }\n",
              "  </style>\n",
              "\n",
              "      <script>\n",
              "        const buttonEl =\n",
              "          document.querySelector('#df-4a8f3f47-82d6-483b-9910-e1b2bd9090a5 button.colab-df-convert');\n",
              "        buttonEl.style.display =\n",
              "          google.colab.kernel.accessAllowed ? 'block' : 'none';\n",
              "\n",
              "        async function convertToInteractive(key) {\n",
              "          const element = document.querySelector('#df-4a8f3f47-82d6-483b-9910-e1b2bd9090a5');\n",
              "          const dataTable =\n",
              "            await google.colab.kernel.invokeFunction('convertToInteractive',\n",
              "                                                     [key], {});\n",
              "          if (!dataTable) return;\n",
              "\n",
              "          const docLinkHtml = 'Like what you see? Visit the ' +\n",
              "            '<a target=\"_blank\" href=https://colab.research.google.com/notebooks/data_table.ipynb>data table notebook</a>'\n",
              "            + ' to learn more about interactive tables.';\n",
              "          element.innerHTML = '';\n",
              "          dataTable['output_type'] = 'display_data';\n",
              "          await google.colab.output.renderOutput(dataTable, element);\n",
              "          const docLink = document.createElement('div');\n",
              "          docLink.innerHTML = docLinkHtml;\n",
              "          element.appendChild(docLink);\n",
              "        }\n",
              "      </script>\n",
              "    </div>\n",
              "  </div>\n",
              "  "
            ]
          },
          "metadata": {},
          "execution_count": 75
        }
      ],
      "source": [
        "test['lgb_target_reg'] = pd.DataFrame(lightgbm_preds)\n",
        "test"
      ]
    },
    {
      "cell_type": "code",
      "execution_count": null,
      "metadata": {
        "id": "GONRx4jE9cCp"
      },
      "outputs": [],
      "source": [
        "test[['car_id', 'target_reg']].to_csv(\"lightgbm_kfold.csv\", index = False)"
      ]
    },
    {
      "cell_type": "code",
      "execution_count": null,
      "metadata": {
        "id": "ofZbLAH6iBLY"
      },
      "outputs": [],
      "source": []
    },
    {
      "cell_type": "code",
      "execution_count": null,
      "metadata": {
        "id": "p5C6roNbiBPI"
      },
      "outputs": [],
      "source": []
    },
    {
      "cell_type": "markdown",
      "metadata": {
        "id": "l6qV2_ud5qui"
      },
      "source": [
        "**XGBoostRegressor (dart)**"
      ]
    },
    {
      "cell_type": "code",
      "source": [
        "X.shape"
      ],
      "metadata": {
        "colab": {
          "base_uri": "https://localhost:8080/"
        },
        "id": "vKuR7e6cgnvf",
        "outputId": "c9dec5ba-2cb8-456f-ed2f-e65d8f9946e0"
      },
      "execution_count": 15,
      "outputs": [
        {
          "output_type": "execute_result",
          "data": {
            "text/plain": [
              "(2337, 14)"
            ]
          },
          "metadata": {},
          "execution_count": 15
        }
      ]
    },
    {
      "cell_type": "code",
      "source": [
        "print(X_train.shape, X_test.shape)"
      ],
      "metadata": {
        "colab": {
          "base_uri": "https://localhost:8080/"
        },
        "id": "8aN9cpuFgvmN",
        "outputId": "02b82dca-083d-4f87-d3aa-5d927d2cbc3a"
      },
      "execution_count": 17,
      "outputs": [
        {
          "output_type": "stream",
          "name": "stdout",
          "text": [
            "(1869, 14) (468, 14)\n"
          ]
        }
      ]
    },
    {
      "cell_type": "code",
      "execution_count": 16,
      "metadata": {
        "colab": {
          "base_uri": "https://localhost:8080/"
        },
        "id": "xuX1oOqu5tAB",
        "outputId": "271e0b64-c9a2-4a40-fb55-2260634f57a8"
      },
      "outputs": [
        {
          "output_type": "stream",
          "name": "stderr",
          "text": [
            "<ipython-input-16-d6fba6c7c7bd>:3: SettingWithCopyWarning: \n",
            "A value is trying to be set on a copy of a slice from a DataFrame.\n",
            "Try using .loc[row_indexer,col_indexer] = value instead\n",
            "\n",
            "See the caveats in the documentation: https://pandas.pydata.org/pandas-docs/stable/user_guide/indexing.html#returning-a-view-versus-a-copy\n",
            "  X[col] = X[col].astype('category')\n",
            "<ipython-input-16-d6fba6c7c7bd>:3: SettingWithCopyWarning: \n",
            "A value is trying to be set on a copy of a slice from a DataFrame.\n",
            "Try using .loc[row_indexer,col_indexer] = value instead\n",
            "\n",
            "See the caveats in the documentation: https://pandas.pydata.org/pandas-docs/stable/user_guide/indexing.html#returning-a-view-versus-a-copy\n",
            "  X[col] = X[col].astype('category')\n",
            "<ipython-input-16-d6fba6c7c7bd>:3: SettingWithCopyWarning: \n",
            "A value is trying to be set on a copy of a slice from a DataFrame.\n",
            "Try using .loc[row_indexer,col_indexer] = value instead\n",
            "\n",
            "See the caveats in the documentation: https://pandas.pydata.org/pandas-docs/stable/user_guide/indexing.html#returning-a-view-versus-a-copy\n",
            "  X[col] = X[col].astype('category')\n"
          ]
        }
      ],
      "source": [
        "# Кат фичи преведем в тип 'category'\n",
        "for col in cat_features:\n",
        "    X[col] = X[col].astype('category')\n",
        "\n",
        "X_train, X_test, y_train, y_test = train_test_split(X, y, test_size=0.2, random_state=42)"
      ]
    },
    {
      "cell_type": "code",
      "execution_count": null,
      "metadata": {
        "id": "BGxDxYhL5tJT"
      },
      "outputs": [],
      "source": [
        "dtrain = xgb.DMatrix(X_train,\n",
        "                     label=y_train,\n",
        "                     nthread=-1,\n",
        "                     enable_categorical=True,)\n",
        "\n",
        "dtest = xgb.DMatrix(X_test,\n",
        "                    y_test,\n",
        "                    nthread=-1,\n",
        "                    enable_categorical=True)"
      ]
    },
    {
      "cell_type": "code",
      "execution_count": null,
      "metadata": {
        "colab": {
          "base_uri": "https://localhost:8080/"
        },
        "id": "iARqzNt15tMd",
        "outputId": "3d60aca8-2de7-42f3-8db3-968ce22144c4"
      },
      "outputs": [
        {
          "name": "stdout",
          "output_type": "stream",
          "text": [
            "[0]\tdtrain-rmse:34.42113\tdtest-rmse:35.60853\n",
            "[5]\tdtrain-rmse:11.37870\tdtest-rmse:13.99612\n",
            "[10]\tdtrain-rmse:8.48258\tdtest-rmse:12.48961\n",
            "[15]\tdtrain-rmse:7.36409\tdtest-rmse:12.51914\n",
            "[20]\tdtrain-rmse:6.74858\tdtest-rmse:12.56913\n",
            "[24]\tdtrain-rmse:6.16001\tdtest-rmse:12.71189\n"
          ]
        }
      ],
      "source": [
        "params = {\n",
        "    'objective': 'reg:squarederror',\n",
        "    'tree_method': 'hist', # 'gpu_hist' # Место для ускорения\n",
        "    'seed': 42,\n",
        "}\n",
        "booster = xgb.train(params,\n",
        "                    dtrain=dtrain,\n",
        "                    num_boost_round=30,\n",
        "                    evals=[(dtrain, 'dtrain'), (dtest, 'dtest')],\n",
        "                    early_stopping_rounds=10,\n",
        "                    verbose_eval=5)"
      ]
    },
    {
      "cell_type": "code",
      "execution_count": null,
      "metadata": {
        "colab": {
          "base_uri": "https://localhost:8080/",
          "height": 248
        },
        "id": "Z_QahwCw5tP4",
        "outputId": "a7296013-a438-4266-b272-2aed2d44ede0"
      },
      "outputs": [
        {
          "data": {
            "text/html": [
              "<style>#sk-container-id-10 {color: black;background-color: white;}#sk-container-id-10 pre{padding: 0;}#sk-container-id-10 div.sk-toggleable {background-color: white;}#sk-container-id-10 label.sk-toggleable__label {cursor: pointer;display: block;width: 100%;margin-bottom: 0;padding: 0.3em;box-sizing: border-box;text-align: center;}#sk-container-id-10 label.sk-toggleable__label-arrow:before {content: \"▸\";float: left;margin-right: 0.25em;color: #696969;}#sk-container-id-10 label.sk-toggleable__label-arrow:hover:before {color: black;}#sk-container-id-10 div.sk-estimator:hover label.sk-toggleable__label-arrow:before {color: black;}#sk-container-id-10 div.sk-toggleable__content {max-height: 0;max-width: 0;overflow: hidden;text-align: left;background-color: #f0f8ff;}#sk-container-id-10 div.sk-toggleable__content pre {margin: 0.2em;color: black;border-radius: 0.25em;background-color: #f0f8ff;}#sk-container-id-10 input.sk-toggleable__control:checked~div.sk-toggleable__content {max-height: 200px;max-width: 100%;overflow: auto;}#sk-container-id-10 input.sk-toggleable__control:checked~label.sk-toggleable__label-arrow:before {content: \"▾\";}#sk-container-id-10 div.sk-estimator input.sk-toggleable__control:checked~label.sk-toggleable__label {background-color: #d4ebff;}#sk-container-id-10 div.sk-label input.sk-toggleable__control:checked~label.sk-toggleable__label {background-color: #d4ebff;}#sk-container-id-10 input.sk-hidden--visually {border: 0;clip: rect(1px 1px 1px 1px);clip: rect(1px, 1px, 1px, 1px);height: 1px;margin: -1px;overflow: hidden;padding: 0;position: absolute;width: 1px;}#sk-container-id-10 div.sk-estimator {font-family: monospace;background-color: #f0f8ff;border: 1px dotted black;border-radius: 0.25em;box-sizing: border-box;margin-bottom: 0.5em;}#sk-container-id-10 div.sk-estimator:hover {background-color: #d4ebff;}#sk-container-id-10 div.sk-parallel-item::after {content: \"\";width: 100%;border-bottom: 1px solid gray;flex-grow: 1;}#sk-container-id-10 div.sk-label:hover label.sk-toggleable__label {background-color: #d4ebff;}#sk-container-id-10 div.sk-serial::before {content: \"\";position: absolute;border-left: 1px solid gray;box-sizing: border-box;top: 0;bottom: 0;left: 50%;z-index: 0;}#sk-container-id-10 div.sk-serial {display: flex;flex-direction: column;align-items: center;background-color: white;padding-right: 0.2em;padding-left: 0.2em;position: relative;}#sk-container-id-10 div.sk-item {position: relative;z-index: 1;}#sk-container-id-10 div.sk-parallel {display: flex;align-items: stretch;justify-content: center;background-color: white;position: relative;}#sk-container-id-10 div.sk-item::before, #sk-container-id-10 div.sk-parallel-item::before {content: \"\";position: absolute;border-left: 1px solid gray;box-sizing: border-box;top: 0;bottom: 0;left: 50%;z-index: -1;}#sk-container-id-10 div.sk-parallel-item {display: flex;flex-direction: column;z-index: 1;position: relative;background-color: white;}#sk-container-id-10 div.sk-parallel-item:first-child::after {align-self: flex-end;width: 50%;}#sk-container-id-10 div.sk-parallel-item:last-child::after {align-self: flex-start;width: 50%;}#sk-container-id-10 div.sk-parallel-item:only-child::after {width: 0;}#sk-container-id-10 div.sk-dashed-wrapped {border: 1px dashed gray;margin: 0 0.4em 0.5em 0.4em;box-sizing: border-box;padding-bottom: 0.4em;background-color: white;}#sk-container-id-10 div.sk-label label {font-family: monospace;font-weight: bold;display: inline-block;line-height: 1.2em;}#sk-container-id-10 div.sk-label-container {text-align: center;}#sk-container-id-10 div.sk-container {/* jupyter's `normalize.less` sets `[hidden] { display: none; }` but bootstrap.min.css set `[hidden] { display: none !important; }` so we also need the `!important` here to be able to override the default hidden behavior on the sphinx rendered scikit-learn.org. See: https://github.com/scikit-learn/scikit-learn/issues/21755 */display: inline-block !important;position: relative;}#sk-container-id-10 div.sk-text-repr-fallback {display: none;}</style><div id=\"sk-container-id-10\" class=\"sk-top-container\"><div class=\"sk-text-repr-fallback\"><pre>XGBRegressor(base_score=None, booster=&#x27;dart&#x27;, callbacks=None,\n",
              "             colsample_bylevel=None, colsample_bynode=None,\n",
              "             colsample_bytree=None, early_stopping_rounds=None,\n",
              "             enable_categorical=True, eval_metric=None, feature_types=None,\n",
              "             gamma=None, gpu_id=None, grow_policy=None, importance_type=None,\n",
              "             interaction_constraints=None, learning_rate=None, max_bin=None,\n",
              "             max_cat_threshold=None, max_cat_to_onehot=None,\n",
              "             max_delta_step=None, max_depth=None, max_leaves=None,\n",
              "             min_child_weight=None, missing=nan, monotone_constraints=None,\n",
              "             n_estimators=100, n_jobs=None, num_parallel_tree=None,\n",
              "             predictor=None, random_state=None, ...)</pre><b>In a Jupyter environment, please rerun this cell to show the HTML representation or trust the notebook. <br />On GitHub, the HTML representation is unable to render, please try loading this page with nbviewer.org.</b></div><div class=\"sk-container\" hidden><div class=\"sk-item\"><div class=\"sk-estimator sk-toggleable\"><input class=\"sk-toggleable__control sk-hidden--visually\" id=\"sk-estimator-id-10\" type=\"checkbox\" checked><label for=\"sk-estimator-id-10\" class=\"sk-toggleable__label sk-toggleable__label-arrow\">XGBRegressor</label><div class=\"sk-toggleable__content\"><pre>XGBRegressor(base_score=None, booster=&#x27;dart&#x27;, callbacks=None,\n",
              "             colsample_bylevel=None, colsample_bynode=None,\n",
              "             colsample_bytree=None, early_stopping_rounds=None,\n",
              "             enable_categorical=True, eval_metric=None, feature_types=None,\n",
              "             gamma=None, gpu_id=None, grow_policy=None, importance_type=None,\n",
              "             interaction_constraints=None, learning_rate=None, max_bin=None,\n",
              "             max_cat_threshold=None, max_cat_to_onehot=None,\n",
              "             max_delta_step=None, max_depth=None, max_leaves=None,\n",
              "             min_child_weight=None, missing=nan, monotone_constraints=None,\n",
              "             n_estimators=100, n_jobs=None, num_parallel_tree=None,\n",
              "             predictor=None, random_state=None, ...)</pre></div></div></div></div></div>"
            ],
            "text/plain": [
              "XGBRegressor(base_score=None, booster='dart', callbacks=None,\n",
              "             colsample_bylevel=None, colsample_bynode=None,\n",
              "             colsample_bytree=None, early_stopping_rounds=None,\n",
              "             enable_categorical=True, eval_metric=None, feature_types=None,\n",
              "             gamma=None, gpu_id=None, grow_policy=None, importance_type=None,\n",
              "             interaction_constraints=None, learning_rate=None, max_bin=None,\n",
              "             max_cat_threshold=None, max_cat_to_onehot=None,\n",
              "             max_delta_step=None, max_depth=None, max_leaves=None,\n",
              "             min_child_weight=None, missing=nan, monotone_constraints=None,\n",
              "             n_estimators=100, n_jobs=None, num_parallel_tree=None,\n",
              "             predictor=None, random_state=None, ...)"
            ]
          },
          "execution_count": 39,
          "metadata": {},
          "output_type": "execute_result"
        }
      ],
      "source": [
        "reg = xgb.XGBRegressor(booster = 'dart',\n",
        "                       tree_method=\"hist\",\n",
        "                       enable_categorical=True,\n",
        "                       use_rmm = True,\n",
        "                       rate_drop = 0.25,\n",
        "                       #skip_drop = 0.5\n",
        "                       )\n",
        "\n",
        "# fit() не принимает DMatrix\n",
        "reg.fit(X_train, y_train)"
      ]
    },
    {
      "cell_type": "code",
      "execution_count": null,
      "metadata": {
        "colab": {
          "base_uri": "https://localhost:8080/"
        },
        "id": "udGKN1Vq5tTa",
        "outputId": "02f4cdac-eb1d-43cd-a503-852cb58759eb"
      },
      "outputs": [
        {
          "name": "stdout",
          "output_type": "stream",
          "text": [
            "12.15666099937917\n"
          ]
        }
      ],
      "source": [
        "y_pred = reg.predict(X_test)\n",
        "print(mean_squared_error(y_test, y_pred) ** 0.5)"
      ]
    },
    {
      "cell_type": "code",
      "execution_count": null,
      "metadata": {
        "colab": {
          "base_uri": "https://localhost:8080/"
        },
        "id": "7vmc6Wq-N6GF",
        "outputId": "0a4c046a-9421-4d23-9713-70674004b656"
      },
      "outputs": [
        {
          "name": "stdout",
          "output_type": "stream",
          "text": [
            "[0]\tdtrain-rmse:34.42113\tdtest-rmse:35.60853\n",
            "[5]\tdtrain-rmse:12.70756\tdtest-rmse:15.16798\n",
            "[10]\tdtrain-rmse:9.79383\tdtest-rmse:12.84091\n",
            "[15]\tdtrain-rmse:9.20776\tdtest-rmse:12.45966\n",
            "[20]\tdtrain-rmse:8.88157\tdtest-rmse:12.34695\n",
            "[25]\tdtrain-rmse:8.69940\tdtest-rmse:12.28216\n",
            "[29]\tdtrain-rmse:8.67369\tdtest-rmse:12.27622\n"
          ]
        },
        {
          "data": {
            "text/plain": [
              "12.276214995480153"
            ]
          },
          "execution_count": 47,
          "metadata": {},
          "output_type": "execute_result"
        }
      ],
      "source": [
        "# Создадим список learning rates с помощью функции np.linspace\n",
        "iters = 30\n",
        "learning_rates = np.linspace(0.3, 0.005, iters).tolist() # значение lr будет плавно понижаться каждую итерацию с 0.3 до 0.005\n",
        "scheduler = xgb.callback.LearningRateScheduler(learning_rates)\n",
        "\n",
        "params = {\n",
        "    'booster': 'dart',\n",
        "    'rate_drop': 0.1,\n",
        "    'objective': 'reg:squarederror',\n",
        "    'tree_method': 'hist',\n",
        "    'seed': 42,\n",
        "}\n",
        "booster = xgb.train(params,\n",
        "                    dtrain=dtrain,\n",
        "                    num_boost_round=iters,\n",
        "                    evals=[(dtrain, 'dtrain'), (dtest, 'dtest')],\n",
        "                    callbacks=[scheduler], # <------ ✅\n",
        "                    early_stopping_rounds=10,\n",
        "                    verbose_eval=5)\n",
        "\n",
        "y_pred = booster.predict(dtest, iteration_range=(0, booster.best_iteration + 1))\n",
        "mean_squared_error(y_test, y_pred) ** 0.5"
      ]
    },
    {
      "cell_type": "markdown",
      "metadata": {
        "id": "mv2hclhIOtYj"
      },
      "source": [
        "**Grid Search with XGBoost**"
      ]
    },
    {
      "cell_type": "code",
      "execution_count": null,
      "metadata": {
        "id": "jNWmXIyQOurb"
      },
      "outputs": [],
      "source": [
        "# A parameter grid for XGBoost\n",
        "params = {\n",
        "        'min_child_weight': [1, 5, 10],\n",
        "        'gamma': [0.5, 1, 1.5, 2, 5],\n",
        "        'subsample': [0.6, 0.8, 1.0],\n",
        "        'colsample_bytree': [0.6, 0.8, 1.0],\n",
        "        'max_depth': [3, 4, 5],\n",
        "        'seed': [42],\n",
        "        }"
      ]
    },
    {
      "cell_type": "code",
      "execution_count": null,
      "metadata": {
        "id": "UGOXcrM5Outy"
      },
      "outputs": [],
      "source": [
        "reg = xgb.XGBRegressor(booster = 'dart',\n",
        "                       tree_method=\"hist\",\n",
        "                       enable_categorical=True,\n",
        "                       use_rmm = True,\n",
        "                       rate_drop = 0.25,\n",
        "                       #skip_drop = 0.5\n",
        "                       )"
      ]
    },
    {
      "cell_type": "code",
      "execution_count": null,
      "metadata": {
        "colab": {
          "base_uri": "https://localhost:8080/",
          "height": 135
        },
        "id": "8jwnEGdMOuy5",
        "outputId": "50da5cf4-6119-4208-8413-daa4549e5de0"
      },
      "outputs": [
        {
          "name": "stdout",
          "output_type": "stream",
          "text": [
            "Fitting 3 folds for each of 405 candidates, totalling 1215 fits\n"
          ]
        },
        {
          "data": {
            "text/html": [
              "<style>#sk-container-id-11 {color: black;background-color: white;}#sk-container-id-11 pre{padding: 0;}#sk-container-id-11 div.sk-toggleable {background-color: white;}#sk-container-id-11 label.sk-toggleable__label {cursor: pointer;display: block;width: 100%;margin-bottom: 0;padding: 0.3em;box-sizing: border-box;text-align: center;}#sk-container-id-11 label.sk-toggleable__label-arrow:before {content: \"▸\";float: left;margin-right: 0.25em;color: #696969;}#sk-container-id-11 label.sk-toggleable__label-arrow:hover:before {color: black;}#sk-container-id-11 div.sk-estimator:hover label.sk-toggleable__label-arrow:before {color: black;}#sk-container-id-11 div.sk-toggleable__content {max-height: 0;max-width: 0;overflow: hidden;text-align: left;background-color: #f0f8ff;}#sk-container-id-11 div.sk-toggleable__content pre {margin: 0.2em;color: black;border-radius: 0.25em;background-color: #f0f8ff;}#sk-container-id-11 input.sk-toggleable__control:checked~div.sk-toggleable__content {max-height: 200px;max-width: 100%;overflow: auto;}#sk-container-id-11 input.sk-toggleable__control:checked~label.sk-toggleable__label-arrow:before {content: \"▾\";}#sk-container-id-11 div.sk-estimator input.sk-toggleable__control:checked~label.sk-toggleable__label {background-color: #d4ebff;}#sk-container-id-11 div.sk-label input.sk-toggleable__control:checked~label.sk-toggleable__label {background-color: #d4ebff;}#sk-container-id-11 input.sk-hidden--visually {border: 0;clip: rect(1px 1px 1px 1px);clip: rect(1px, 1px, 1px, 1px);height: 1px;margin: -1px;overflow: hidden;padding: 0;position: absolute;width: 1px;}#sk-container-id-11 div.sk-estimator {font-family: monospace;background-color: #f0f8ff;border: 1px dotted black;border-radius: 0.25em;box-sizing: border-box;margin-bottom: 0.5em;}#sk-container-id-11 div.sk-estimator:hover {background-color: #d4ebff;}#sk-container-id-11 div.sk-parallel-item::after {content: \"\";width: 100%;border-bottom: 1px solid gray;flex-grow: 1;}#sk-container-id-11 div.sk-label:hover label.sk-toggleable__label {background-color: #d4ebff;}#sk-container-id-11 div.sk-serial::before {content: \"\";position: absolute;border-left: 1px solid gray;box-sizing: border-box;top: 0;bottom: 0;left: 50%;z-index: 0;}#sk-container-id-11 div.sk-serial {display: flex;flex-direction: column;align-items: center;background-color: white;padding-right: 0.2em;padding-left: 0.2em;position: relative;}#sk-container-id-11 div.sk-item {position: relative;z-index: 1;}#sk-container-id-11 div.sk-parallel {display: flex;align-items: stretch;justify-content: center;background-color: white;position: relative;}#sk-container-id-11 div.sk-item::before, #sk-container-id-11 div.sk-parallel-item::before {content: \"\";position: absolute;border-left: 1px solid gray;box-sizing: border-box;top: 0;bottom: 0;left: 50%;z-index: -1;}#sk-container-id-11 div.sk-parallel-item {display: flex;flex-direction: column;z-index: 1;position: relative;background-color: white;}#sk-container-id-11 div.sk-parallel-item:first-child::after {align-self: flex-end;width: 50%;}#sk-container-id-11 div.sk-parallel-item:last-child::after {align-self: flex-start;width: 50%;}#sk-container-id-11 div.sk-parallel-item:only-child::after {width: 0;}#sk-container-id-11 div.sk-dashed-wrapped {border: 1px dashed gray;margin: 0 0.4em 0.5em 0.4em;box-sizing: border-box;padding-bottom: 0.4em;background-color: white;}#sk-container-id-11 div.sk-label label {font-family: monospace;font-weight: bold;display: inline-block;line-height: 1.2em;}#sk-container-id-11 div.sk-label-container {text-align: center;}#sk-container-id-11 div.sk-container {/* jupyter's `normalize.less` sets `[hidden] { display: none; }` but bootstrap.min.css set `[hidden] { display: none !important; }` so we also need the `!important` here to be able to override the default hidden behavior on the sphinx rendered scikit-learn.org. See: https://github.com/scikit-learn/scikit-learn/issues/21755 */display: inline-block !important;position: relative;}#sk-container-id-11 div.sk-text-repr-fallback {display: none;}</style><div id=\"sk-container-id-11\" class=\"sk-top-container\"><div class=\"sk-text-repr-fallback\"><pre>GridSearchCV(cv=3,\n",
              "             estimator=XGBRegressor(base_score=None, booster=&#x27;dart&#x27;,\n",
              "                                    callbacks=None, colsample_bylevel=None,\n",
              "                                    colsample_bynode=None,\n",
              "                                    colsample_bytree=None,\n",
              "                                    early_stopping_rounds=None,\n",
              "                                    enable_categorical=True, eval_metric=None,\n",
              "                                    feature_types=None, gamma=None, gpu_id=None,\n",
              "                                    grow_policy=None, importance_type=None,\n",
              "                                    interaction_constraints=None,\n",
              "                                    learning_rate=None,...\n",
              "                                    max_depth=None, max_leaves=None,\n",
              "                                    min_child_weight=None, missing=nan,\n",
              "                                    monotone_constraints=None, n_estimators=100,\n",
              "                                    n_jobs=None, num_parallel_tree=None,\n",
              "                                    predictor=None, random_state=None, ...),\n",
              "             n_jobs=-1,\n",
              "             param_grid={&#x27;colsample_bytree&#x27;: [0.6, 0.8, 1.0],\n",
              "                         &#x27;gamma&#x27;: [0.5, 1, 1.5, 2, 5], &#x27;max_depth&#x27;: [3, 4, 5],\n",
              "                         &#x27;min_child_weight&#x27;: [1, 5, 10], &#x27;seed&#x27;: [42],\n",
              "                         &#x27;subsample&#x27;: [0.6, 0.8, 1.0]},\n",
              "             verbose=10)</pre><b>In a Jupyter environment, please rerun this cell to show the HTML representation or trust the notebook. <br />On GitHub, the HTML representation is unable to render, please try loading this page with nbviewer.org.</b></div><div class=\"sk-container\" hidden><div class=\"sk-item sk-dashed-wrapped\"><div class=\"sk-label-container\"><div class=\"sk-label sk-toggleable\"><input class=\"sk-toggleable__control sk-hidden--visually\" id=\"sk-estimator-id-11\" type=\"checkbox\" ><label for=\"sk-estimator-id-11\" class=\"sk-toggleable__label sk-toggleable__label-arrow\">GridSearchCV</label><div class=\"sk-toggleable__content\"><pre>GridSearchCV(cv=3,\n",
              "             estimator=XGBRegressor(base_score=None, booster=&#x27;dart&#x27;,\n",
              "                                    callbacks=None, colsample_bylevel=None,\n",
              "                                    colsample_bynode=None,\n",
              "                                    colsample_bytree=None,\n",
              "                                    early_stopping_rounds=None,\n",
              "                                    enable_categorical=True, eval_metric=None,\n",
              "                                    feature_types=None, gamma=None, gpu_id=None,\n",
              "                                    grow_policy=None, importance_type=None,\n",
              "                                    interaction_constraints=None,\n",
              "                                    learning_rate=None,...\n",
              "                                    max_depth=None, max_leaves=None,\n",
              "                                    min_child_weight=None, missing=nan,\n",
              "                                    monotone_constraints=None, n_estimators=100,\n",
              "                                    n_jobs=None, num_parallel_tree=None,\n",
              "                                    predictor=None, random_state=None, ...),\n",
              "             n_jobs=-1,\n",
              "             param_grid={&#x27;colsample_bytree&#x27;: [0.6, 0.8, 1.0],\n",
              "                         &#x27;gamma&#x27;: [0.5, 1, 1.5, 2, 5], &#x27;max_depth&#x27;: [3, 4, 5],\n",
              "                         &#x27;min_child_weight&#x27;: [1, 5, 10], &#x27;seed&#x27;: [42],\n",
              "                         &#x27;subsample&#x27;: [0.6, 0.8, 1.0]},\n",
              "             verbose=10)</pre></div></div></div><div class=\"sk-parallel\"><div class=\"sk-parallel-item\"><div class=\"sk-item\"><div class=\"sk-label-container\"><div class=\"sk-label sk-toggleable\"><input class=\"sk-toggleable__control sk-hidden--visually\" id=\"sk-estimator-id-12\" type=\"checkbox\" ><label for=\"sk-estimator-id-12\" class=\"sk-toggleable__label sk-toggleable__label-arrow\">estimator: XGBRegressor</label><div class=\"sk-toggleable__content\"><pre>XGBRegressor(base_score=None, booster=&#x27;dart&#x27;, callbacks=None,\n",
              "             colsample_bylevel=None, colsample_bynode=None,\n",
              "             colsample_bytree=None, early_stopping_rounds=None,\n",
              "             enable_categorical=True, eval_metric=None, feature_types=None,\n",
              "             gamma=None, gpu_id=None, grow_policy=None, importance_type=None,\n",
              "             interaction_constraints=None, learning_rate=None, max_bin=None,\n",
              "             max_cat_threshold=None, max_cat_to_onehot=None,\n",
              "             max_delta_step=None, max_depth=None, max_leaves=None,\n",
              "             min_child_weight=None, missing=nan, monotone_constraints=None,\n",
              "             n_estimators=100, n_jobs=None, num_parallel_tree=None,\n",
              "             predictor=None, random_state=None, ...)</pre></div></div></div><div class=\"sk-serial\"><div class=\"sk-item\"><div class=\"sk-estimator sk-toggleable\"><input class=\"sk-toggleable__control sk-hidden--visually\" id=\"sk-estimator-id-13\" type=\"checkbox\" ><label for=\"sk-estimator-id-13\" class=\"sk-toggleable__label sk-toggleable__label-arrow\">XGBRegressor</label><div class=\"sk-toggleable__content\"><pre>XGBRegressor(base_score=None, booster=&#x27;dart&#x27;, callbacks=None,\n",
              "             colsample_bylevel=None, colsample_bynode=None,\n",
              "             colsample_bytree=None, early_stopping_rounds=None,\n",
              "             enable_categorical=True, eval_metric=None, feature_types=None,\n",
              "             gamma=None, gpu_id=None, grow_policy=None, importance_type=None,\n",
              "             interaction_constraints=None, learning_rate=None, max_bin=None,\n",
              "             max_cat_threshold=None, max_cat_to_onehot=None,\n",
              "             max_delta_step=None, max_depth=None, max_leaves=None,\n",
              "             min_child_weight=None, missing=nan, monotone_constraints=None,\n",
              "             n_estimators=100, n_jobs=None, num_parallel_tree=None,\n",
              "             predictor=None, random_state=None, ...)</pre></div></div></div></div></div></div></div></div></div></div>"
            ],
            "text/plain": [
              "GridSearchCV(cv=3,\n",
              "             estimator=XGBRegressor(base_score=None, booster='dart',\n",
              "                                    callbacks=None, colsample_bylevel=None,\n",
              "                                    colsample_bynode=None,\n",
              "                                    colsample_bytree=None,\n",
              "                                    early_stopping_rounds=None,\n",
              "                                    enable_categorical=True, eval_metric=None,\n",
              "                                    feature_types=None, gamma=None, gpu_id=None,\n",
              "                                    grow_policy=None, importance_type=None,\n",
              "                                    interaction_constraints=None,\n",
              "                                    learning_rate=None,...\n",
              "                                    max_depth=None, max_leaves=None,\n",
              "                                    min_child_weight=None, missing=nan,\n",
              "                                    monotone_constraints=None, n_estimators=100,\n",
              "                                    n_jobs=None, num_parallel_tree=None,\n",
              "                                    predictor=None, random_state=None, ...),\n",
              "             n_jobs=-1,\n",
              "             param_grid={'colsample_bytree': [0.6, 0.8, 1.0],\n",
              "                         'gamma': [0.5, 1, 1.5, 2, 5], 'max_depth': [3, 4, 5],\n",
              "                         'min_child_weight': [1, 5, 10], 'seed': [42],\n",
              "                         'subsample': [0.6, 0.8, 1.0]},\n",
              "             verbose=10)"
            ]
          },
          "execution_count": 57,
          "metadata": {},
          "output_type": "execute_result"
        }
      ],
      "source": [
        "grid_search = GridSearchCV(reg, param_grid=params, cv = 3,\n",
        "                                   verbose=10, n_jobs=-1)\n",
        "\n",
        "\n",
        "grid_search.fit(X_train, y_train)   # считается больше часа"
      ]
    },
    {
      "cell_type": "code",
      "execution_count": null,
      "metadata": {
        "colab": {
          "base_uri": "https://localhost:8080/"
        },
        "id": "Y0ijeaBtXGmc",
        "outputId": "d9337668-30ab-4602-d887-a2a9ba7f85f7"
      },
      "outputs": [
        {
          "name": "stdout",
          "output_type": "stream",
          "text": [
            "10 1.5 1.0 1.0 5\n"
          ]
        }
      ],
      "source": [
        "min_child_weight = grid_search.best_estimator_.min_child_weight\n",
        "gamma = grid_search.best_estimator_.gamma\n",
        "subsample = grid_search.best_estimator_.subsample\n",
        "colsample_bytree = grid_search.best_estimator_.colsample_bytree\n",
        "max_depth = grid_search.best_estimator_.max_depth\n",
        "\n",
        "print(min_child_weight, gamma, subsample, colsample_bytree, max_depth)"
      ]
    },
    {
      "cell_type": "code",
      "execution_count": null,
      "metadata": {
        "colab": {
          "base_uri": "https://localhost:8080/"
        },
        "id": "Q6k2aDgfXGpL",
        "outputId": "8b191ddf-e9aa-4cad-e7db-4ad011bd0def"
      },
      "outputs": [
        {
          "data": {
            "text/plain": [
              "{'colsample_bytree': 1.0,\n",
              " 'gamma': 1.5,\n",
              " 'max_depth': 5,\n",
              " 'min_child_weight': 10,\n",
              " 'seed': 42,\n",
              " 'subsample': 1.0}"
            ]
          },
          "execution_count": 59,
          "metadata": {},
          "output_type": "execute_result"
        }
      ],
      "source": [
        "grid_search.best_params_"
      ]
    },
    {
      "cell_type": "markdown",
      "metadata": {
        "id": "H2uF27nVZ6IV"
      },
      "source": [
        "**Обучаем XGBoost на трех фолдах с подобранными параметрами**"
      ]
    },
    {
      "cell_type": "code",
      "execution_count": null,
      "metadata": {
        "id": "fgNkYiNdaHwV"
      },
      "outputs": [],
      "source": [
        "n_splits = 3  # Число фолдов.\n",
        "xgbs = [] # Тут будем сохранять модели\n",
        "xgb_scores = [] # Тут будем хранить скоры валидационных фолдов\n",
        "\n",
        "for col in cat_features:\n",
        "    X[col] = X[col].astype('category')\n",
        "\n",
        "X_train, X_test, y_train, y_test = train_test_split(X, y, test_size=0.2, random_state=42)\n",
        "\n",
        "kf = KFold(n_splits=n_splits, shuffle=True, random_state=42)\n",
        "for train_index, test_index in kf.split(X):\n",
        "\n",
        "    X_train, X_test = X.iloc[train_index], X.iloc[test_index]\n",
        "    y_train, y_test = y.iloc[train_index], y.iloc[test_index]\n",
        "\n",
        "    xgb_optimized_params = {\n",
        "        'min_child_weight': 10,\n",
        "        'gamma': 1.5,\n",
        "        'subsample': 1.0,\n",
        "        'colsample_bytree': 1.0,\n",
        "        'max_depth': 5,\n",
        "        'seed': 42,\n",
        "        }\n",
        "\n",
        "    reg = xgb.XGBRegressor(**xgb_optimized_params,\n",
        "                           booster = 'dart',\n",
        "                           tree_method=\"hist\",\n",
        "                           enable_categorical=True,\n",
        "                           use_rmm = True,\n",
        "                           rate_drop = 0.25,)\n",
        "\n",
        "\n",
        "\n",
        "\n",
        "    xgbs.append(reg)\n",
        "\n",
        "    reg.fit(X_train, y_train,\n",
        "            eval_set=[(X_test, y_test)],\n",
        "            eval_metric='rmse',\n",
        "            early_stopping_rounds=100)\n",
        "\n",
        "    xgb_scores.append(reg.best_score)\n",
        "    # scores.append(clf.best_score_['validation']['MultiClass'])\n",
        "    # clf.save_model(\"../tmp_data/cool_catboost_model_{}_deep\".format(n))\n",
        "\n",
        "assert len(xgbs) == n_splits\n",
        "print(\"mean  RMSE score --------->\", np.mean(xgb_scores, dtype=\"float16\"))"
      ]
    },
    {
      "cell_type": "code",
      "execution_count": 19,
      "metadata": {
        "colab": {
          "base_uri": "https://localhost:8080/"
        },
        "id": "dDS93DFAOu1g",
        "outputId": "c2800348-2d96-49a2-88b2-b7b684a0d6b7"
      },
      "outputs": [
        {
          "output_type": "execute_result",
          "data": {
            "text/plain": [
              "[12.180290173651958, 12.118617690760546, 11.501494591384972]"
            ]
          },
          "metadata": {},
          "execution_count": 19
        }
      ],
      "source": [
        "xgb_scores"
      ]
    },
    {
      "cell_type": "code",
      "execution_count": 21,
      "metadata": {
        "id": "mXfz8oQpaCPs"
      },
      "outputs": [],
      "source": [
        "xgbs[2].save_model(\"xgb_regressor.json\")"
      ]
    },
    {
      "cell_type": "code",
      "source": [
        "X_test = test[filtered_features]\n",
        "for col in cat_features:\n",
        "    X_test[col] = X_test[col].astype('category')"
      ],
      "metadata": {
        "id": "E0Eo1kisk-8N"
      },
      "execution_count": null,
      "outputs": []
    },
    {
      "cell_type": "code",
      "execution_count": 77,
      "metadata": {
        "id": "_wye84MWaCSo",
        "colab": {
          "base_uri": "https://localhost:8080/"
        },
        "outputId": "a3bda69d-f7d3-4697-83e4-41fc381186ab"
      },
      "outputs": [
        {
          "output_type": "execute_result",
          "data": {
            "text/plain": [
              "(1913,)"
            ]
          },
          "metadata": {},
          "execution_count": 77
        }
      ],
      "source": [
        "xgbs_pred = xgbs[2].predict(X_test)\n",
        "xgbs_pred.shape"
      ]
    },
    {
      "cell_type": "code",
      "execution_count": 78,
      "metadata": {
        "id": "WZPn0gqDaCah",
        "colab": {
          "base_uri": "https://localhost:8080/",
          "height": 661
        },
        "outputId": "97e67ed8-498b-45ae-ee08-6e84a2a09c5f"
      },
      "outputs": [
        {
          "output_type": "execute_result",
          "data": {
            "text/plain": [
              "          car_id            model  car_type fuel_type  car_rating  \\\n",
              "0     P17494612l      Skoda Rapid   economy    petrol        4.80   \n",
              "1     N-1530212S  Renault Sandero  standart    petrol        4.32   \n",
              "2     B-1154399t     Smart ForTwo   economy    petrol        4.46   \n",
              "3     F12725233R    Smart ForFour   economy    petrol        2.80   \n",
              "4     l-1139189J      Skoda Rapid   economy    petrol        6.56   \n",
              "...          ...              ...       ...       ...         ...   \n",
              "1908  x13640960Q   Nissan Qashqai  standart    petrol        2.44   \n",
              "1909  Z-2276652N   Renault Kaptur  standart    petrol        4.44   \n",
              "1910  F-2165841B  Hyundai Solaris   economy    petrol        5.16   \n",
              "1911  x-1331529J  Hyundai Solaris   economy    petrol        5.76   \n",
              "1912  J-2127749D       VW Polo VI   economy    petrol        5.10   \n",
              "\n",
              "      year_to_start  riders  year_to_work     target_class  mean_rating  \\\n",
              "0              2013   42269          2019       gear_stick     3.746207   \n",
              "1              2015   90014          2016  engine_overheat     4.318966   \n",
              "2              2015   82684          2017      electro_bug     5.134655   \n",
              "3              2014   68833          2021     engine_check     4.617356   \n",
              "4              2013   42442          2021      another_bug     4.287471   \n",
              "...             ...     ...           ...              ...          ...   \n",
              "1908           2015   81070          2016  engine_overheat     4.641379   \n",
              "1909           2014   70067          2019  engine_overheat     3.956954   \n",
              "1910           2011    6574          2022     engine_check     4.607816   \n",
              "1911           2015   85648          2018      electro_bug     4.462644   \n",
              "1912           2015   74665          2016      electro_bug     4.521437   \n",
              "\n",
              "      distance_sum  rating_min   speed_max  user_ride_quality_median  \\\n",
              "0     1.407539e+07        0.10  195.454152                 10.566220   \n",
              "1     1.970390e+07        0.00  181.538685                 11.807941   \n",
              "2     9.314946e+06        0.10  118.440645                 14.862538   \n",
              "3     9.336838e+06        0.83  112.829785                 20.088904   \n",
              "4     1.196250e+07        0.00  187.846088                  3.698460   \n",
              "...            ...         ...         ...                       ...   \n",
              "1908  8.035217e+06        0.10  161.000000                  5.426149   \n",
              "1909  1.792881e+07        0.10  195.394955                 -6.225923   \n",
              "1910  1.401163e+07        0.22  113.091551                 -4.110241   \n",
              "1911  1.375324e+07        0.10  154.105593                 -4.337686   \n",
              "1912  1.296505e+07        0.10  161.395030                 -6.495097   \n",
              "\n",
              "      deviation_normal_count  user_uniq  Catboost_target_reg  lgb_target_reg  \\\n",
              "0                        174        170            46.913346       49.735647   \n",
              "1                        174        174            31.960878       35.734030   \n",
              "2                        174        172            33.802347       31.434782   \n",
              "3                        174        172            35.979513       34.328350   \n",
              "4                        174        172            32.327644       31.396779   \n",
              "...                      ...        ...                  ...             ...   \n",
              "1908                     174        171            57.644811       59.154587   \n",
              "1909                     174        172            45.007600       52.151615   \n",
              "1910                     174        172            33.821215       38.186486   \n",
              "1911                     174        172            44.771408       45.587600   \n",
              "1912                     174        173            48.386448       53.029226   \n",
              "\n",
              "      xgb_target_reg  \n",
              "0          42.683758  \n",
              "1          33.588177  \n",
              "2          32.672295  \n",
              "3          31.986582  \n",
              "4          31.959963  \n",
              "...              ...  \n",
              "1908       54.173714  \n",
              "1909       44.656506  \n",
              "1910       33.653713  \n",
              "1911       48.113819  \n",
              "1912       47.994465  \n",
              "\n",
              "[1913 rows x 19 columns]"
            ],
            "text/html": [
              "\n",
              "  <div id=\"df-42b858cb-1ace-4554-b9d0-69db51806358\">\n",
              "    <div class=\"colab-df-container\">\n",
              "      <div>\n",
              "<style scoped>\n",
              "    .dataframe tbody tr th:only-of-type {\n",
              "        vertical-align: middle;\n",
              "    }\n",
              "\n",
              "    .dataframe tbody tr th {\n",
              "        vertical-align: top;\n",
              "    }\n",
              "\n",
              "    .dataframe thead th {\n",
              "        text-align: right;\n",
              "    }\n",
              "</style>\n",
              "<table border=\"1\" class=\"dataframe\">\n",
              "  <thead>\n",
              "    <tr style=\"text-align: right;\">\n",
              "      <th></th>\n",
              "      <th>car_id</th>\n",
              "      <th>model</th>\n",
              "      <th>car_type</th>\n",
              "      <th>fuel_type</th>\n",
              "      <th>car_rating</th>\n",
              "      <th>year_to_start</th>\n",
              "      <th>riders</th>\n",
              "      <th>year_to_work</th>\n",
              "      <th>target_class</th>\n",
              "      <th>mean_rating</th>\n",
              "      <th>distance_sum</th>\n",
              "      <th>rating_min</th>\n",
              "      <th>speed_max</th>\n",
              "      <th>user_ride_quality_median</th>\n",
              "      <th>deviation_normal_count</th>\n",
              "      <th>user_uniq</th>\n",
              "      <th>Catboost_target_reg</th>\n",
              "      <th>lgb_target_reg</th>\n",
              "      <th>xgb_target_reg</th>\n",
              "    </tr>\n",
              "  </thead>\n",
              "  <tbody>\n",
              "    <tr>\n",
              "      <th>0</th>\n",
              "      <td>P17494612l</td>\n",
              "      <td>Skoda Rapid</td>\n",
              "      <td>economy</td>\n",
              "      <td>petrol</td>\n",
              "      <td>4.80</td>\n",
              "      <td>2013</td>\n",
              "      <td>42269</td>\n",
              "      <td>2019</td>\n",
              "      <td>gear_stick</td>\n",
              "      <td>3.746207</td>\n",
              "      <td>1.407539e+07</td>\n",
              "      <td>0.10</td>\n",
              "      <td>195.454152</td>\n",
              "      <td>10.566220</td>\n",
              "      <td>174</td>\n",
              "      <td>170</td>\n",
              "      <td>46.913346</td>\n",
              "      <td>49.735647</td>\n",
              "      <td>42.683758</td>\n",
              "    </tr>\n",
              "    <tr>\n",
              "      <th>1</th>\n",
              "      <td>N-1530212S</td>\n",
              "      <td>Renault Sandero</td>\n",
              "      <td>standart</td>\n",
              "      <td>petrol</td>\n",
              "      <td>4.32</td>\n",
              "      <td>2015</td>\n",
              "      <td>90014</td>\n",
              "      <td>2016</td>\n",
              "      <td>engine_overheat</td>\n",
              "      <td>4.318966</td>\n",
              "      <td>1.970390e+07</td>\n",
              "      <td>0.00</td>\n",
              "      <td>181.538685</td>\n",
              "      <td>11.807941</td>\n",
              "      <td>174</td>\n",
              "      <td>174</td>\n",
              "      <td>31.960878</td>\n",
              "      <td>35.734030</td>\n",
              "      <td>33.588177</td>\n",
              "    </tr>\n",
              "    <tr>\n",
              "      <th>2</th>\n",
              "      <td>B-1154399t</td>\n",
              "      <td>Smart ForTwo</td>\n",
              "      <td>economy</td>\n",
              "      <td>petrol</td>\n",
              "      <td>4.46</td>\n",
              "      <td>2015</td>\n",
              "      <td>82684</td>\n",
              "      <td>2017</td>\n",
              "      <td>electro_bug</td>\n",
              "      <td>5.134655</td>\n",
              "      <td>9.314946e+06</td>\n",
              "      <td>0.10</td>\n",
              "      <td>118.440645</td>\n",
              "      <td>14.862538</td>\n",
              "      <td>174</td>\n",
              "      <td>172</td>\n",
              "      <td>33.802347</td>\n",
              "      <td>31.434782</td>\n",
              "      <td>32.672295</td>\n",
              "    </tr>\n",
              "    <tr>\n",
              "      <th>3</th>\n",
              "      <td>F12725233R</td>\n",
              "      <td>Smart ForFour</td>\n",
              "      <td>economy</td>\n",
              "      <td>petrol</td>\n",
              "      <td>2.80</td>\n",
              "      <td>2014</td>\n",
              "      <td>68833</td>\n",
              "      <td>2021</td>\n",
              "      <td>engine_check</td>\n",
              "      <td>4.617356</td>\n",
              "      <td>9.336838e+06</td>\n",
              "      <td>0.83</td>\n",
              "      <td>112.829785</td>\n",
              "      <td>20.088904</td>\n",
              "      <td>174</td>\n",
              "      <td>172</td>\n",
              "      <td>35.979513</td>\n",
              "      <td>34.328350</td>\n",
              "      <td>31.986582</td>\n",
              "    </tr>\n",
              "    <tr>\n",
              "      <th>4</th>\n",
              "      <td>l-1139189J</td>\n",
              "      <td>Skoda Rapid</td>\n",
              "      <td>economy</td>\n",
              "      <td>petrol</td>\n",
              "      <td>6.56</td>\n",
              "      <td>2013</td>\n",
              "      <td>42442</td>\n",
              "      <td>2021</td>\n",
              "      <td>another_bug</td>\n",
              "      <td>4.287471</td>\n",
              "      <td>1.196250e+07</td>\n",
              "      <td>0.00</td>\n",
              "      <td>187.846088</td>\n",
              "      <td>3.698460</td>\n",
              "      <td>174</td>\n",
              "      <td>172</td>\n",
              "      <td>32.327644</td>\n",
              "      <td>31.396779</td>\n",
              "      <td>31.959963</td>\n",
              "    </tr>\n",
              "    <tr>\n",
              "      <th>...</th>\n",
              "      <td>...</td>\n",
              "      <td>...</td>\n",
              "      <td>...</td>\n",
              "      <td>...</td>\n",
              "      <td>...</td>\n",
              "      <td>...</td>\n",
              "      <td>...</td>\n",
              "      <td>...</td>\n",
              "      <td>...</td>\n",
              "      <td>...</td>\n",
              "      <td>...</td>\n",
              "      <td>...</td>\n",
              "      <td>...</td>\n",
              "      <td>...</td>\n",
              "      <td>...</td>\n",
              "      <td>...</td>\n",
              "      <td>...</td>\n",
              "      <td>...</td>\n",
              "      <td>...</td>\n",
              "    </tr>\n",
              "    <tr>\n",
              "      <th>1908</th>\n",
              "      <td>x13640960Q</td>\n",
              "      <td>Nissan Qashqai</td>\n",
              "      <td>standart</td>\n",
              "      <td>petrol</td>\n",
              "      <td>2.44</td>\n",
              "      <td>2015</td>\n",
              "      <td>81070</td>\n",
              "      <td>2016</td>\n",
              "      <td>engine_overheat</td>\n",
              "      <td>4.641379</td>\n",
              "      <td>8.035217e+06</td>\n",
              "      <td>0.10</td>\n",
              "      <td>161.000000</td>\n",
              "      <td>5.426149</td>\n",
              "      <td>174</td>\n",
              "      <td>171</td>\n",
              "      <td>57.644811</td>\n",
              "      <td>59.154587</td>\n",
              "      <td>54.173714</td>\n",
              "    </tr>\n",
              "    <tr>\n",
              "      <th>1909</th>\n",
              "      <td>Z-2276652N</td>\n",
              "      <td>Renault Kaptur</td>\n",
              "      <td>standart</td>\n",
              "      <td>petrol</td>\n",
              "      <td>4.44</td>\n",
              "      <td>2014</td>\n",
              "      <td>70067</td>\n",
              "      <td>2019</td>\n",
              "      <td>engine_overheat</td>\n",
              "      <td>3.956954</td>\n",
              "      <td>1.792881e+07</td>\n",
              "      <td>0.10</td>\n",
              "      <td>195.394955</td>\n",
              "      <td>-6.225923</td>\n",
              "      <td>174</td>\n",
              "      <td>172</td>\n",
              "      <td>45.007600</td>\n",
              "      <td>52.151615</td>\n",
              "      <td>44.656506</td>\n",
              "    </tr>\n",
              "    <tr>\n",
              "      <th>1910</th>\n",
              "      <td>F-2165841B</td>\n",
              "      <td>Hyundai Solaris</td>\n",
              "      <td>economy</td>\n",
              "      <td>petrol</td>\n",
              "      <td>5.16</td>\n",
              "      <td>2011</td>\n",
              "      <td>6574</td>\n",
              "      <td>2022</td>\n",
              "      <td>engine_check</td>\n",
              "      <td>4.607816</td>\n",
              "      <td>1.401163e+07</td>\n",
              "      <td>0.22</td>\n",
              "      <td>113.091551</td>\n",
              "      <td>-4.110241</td>\n",
              "      <td>174</td>\n",
              "      <td>172</td>\n",
              "      <td>33.821215</td>\n",
              "      <td>38.186486</td>\n",
              "      <td>33.653713</td>\n",
              "    </tr>\n",
              "    <tr>\n",
              "      <th>1911</th>\n",
              "      <td>x-1331529J</td>\n",
              "      <td>Hyundai Solaris</td>\n",
              "      <td>economy</td>\n",
              "      <td>petrol</td>\n",
              "      <td>5.76</td>\n",
              "      <td>2015</td>\n",
              "      <td>85648</td>\n",
              "      <td>2018</td>\n",
              "      <td>electro_bug</td>\n",
              "      <td>4.462644</td>\n",
              "      <td>1.375324e+07</td>\n",
              "      <td>0.10</td>\n",
              "      <td>154.105593</td>\n",
              "      <td>-4.337686</td>\n",
              "      <td>174</td>\n",
              "      <td>172</td>\n",
              "      <td>44.771408</td>\n",
              "      <td>45.587600</td>\n",
              "      <td>48.113819</td>\n",
              "    </tr>\n",
              "    <tr>\n",
              "      <th>1912</th>\n",
              "      <td>J-2127749D</td>\n",
              "      <td>VW Polo VI</td>\n",
              "      <td>economy</td>\n",
              "      <td>petrol</td>\n",
              "      <td>5.10</td>\n",
              "      <td>2015</td>\n",
              "      <td>74665</td>\n",
              "      <td>2016</td>\n",
              "      <td>electro_bug</td>\n",
              "      <td>4.521437</td>\n",
              "      <td>1.296505e+07</td>\n",
              "      <td>0.10</td>\n",
              "      <td>161.395030</td>\n",
              "      <td>-6.495097</td>\n",
              "      <td>174</td>\n",
              "      <td>173</td>\n",
              "      <td>48.386448</td>\n",
              "      <td>53.029226</td>\n",
              "      <td>47.994465</td>\n",
              "    </tr>\n",
              "  </tbody>\n",
              "</table>\n",
              "<p>1913 rows × 19 columns</p>\n",
              "</div>\n",
              "      <button class=\"colab-df-convert\" onclick=\"convertToInteractive('df-42b858cb-1ace-4554-b9d0-69db51806358')\"\n",
              "              title=\"Convert this dataframe to an interactive table.\"\n",
              "              style=\"display:none;\">\n",
              "        \n",
              "  <svg xmlns=\"http://www.w3.org/2000/svg\" height=\"24px\"viewBox=\"0 0 24 24\"\n",
              "       width=\"24px\">\n",
              "    <path d=\"M0 0h24v24H0V0z\" fill=\"none\"/>\n",
              "    <path d=\"M18.56 5.44l.94 2.06.94-2.06 2.06-.94-2.06-.94-.94-2.06-.94 2.06-2.06.94zm-11 1L8.5 8.5l.94-2.06 2.06-.94-2.06-.94L8.5 2.5l-.94 2.06-2.06.94zm10 10l.94 2.06.94-2.06 2.06-.94-2.06-.94-.94-2.06-.94 2.06-2.06.94z\"/><path d=\"M17.41 7.96l-1.37-1.37c-.4-.4-.92-.59-1.43-.59-.52 0-1.04.2-1.43.59L10.3 9.45l-7.72 7.72c-.78.78-.78 2.05 0 2.83L4 21.41c.39.39.9.59 1.41.59.51 0 1.02-.2 1.41-.59l7.78-7.78 2.81-2.81c.8-.78.8-2.07 0-2.86zM5.41 20L4 18.59l7.72-7.72 1.47 1.35L5.41 20z\"/>\n",
              "  </svg>\n",
              "      </button>\n",
              "      \n",
              "  <style>\n",
              "    .colab-df-container {\n",
              "      display:flex;\n",
              "      flex-wrap:wrap;\n",
              "      gap: 12px;\n",
              "    }\n",
              "\n",
              "    .colab-df-convert {\n",
              "      background-color: #E8F0FE;\n",
              "      border: none;\n",
              "      border-radius: 50%;\n",
              "      cursor: pointer;\n",
              "      display: none;\n",
              "      fill: #1967D2;\n",
              "      height: 32px;\n",
              "      padding: 0 0 0 0;\n",
              "      width: 32px;\n",
              "    }\n",
              "\n",
              "    .colab-df-convert:hover {\n",
              "      background-color: #E2EBFA;\n",
              "      box-shadow: 0px 1px 2px rgba(60, 64, 67, 0.3), 0px 1px 3px 1px rgba(60, 64, 67, 0.15);\n",
              "      fill: #174EA6;\n",
              "    }\n",
              "\n",
              "    [theme=dark] .colab-df-convert {\n",
              "      background-color: #3B4455;\n",
              "      fill: #D2E3FC;\n",
              "    }\n",
              "\n",
              "    [theme=dark] .colab-df-convert:hover {\n",
              "      background-color: #434B5C;\n",
              "      box-shadow: 0px 1px 3px 1px rgba(0, 0, 0, 0.15);\n",
              "      filter: drop-shadow(0px 1px 2px rgba(0, 0, 0, 0.3));\n",
              "      fill: #FFFFFF;\n",
              "    }\n",
              "  </style>\n",
              "\n",
              "      <script>\n",
              "        const buttonEl =\n",
              "          document.querySelector('#df-42b858cb-1ace-4554-b9d0-69db51806358 button.colab-df-convert');\n",
              "        buttonEl.style.display =\n",
              "          google.colab.kernel.accessAllowed ? 'block' : 'none';\n",
              "\n",
              "        async function convertToInteractive(key) {\n",
              "          const element = document.querySelector('#df-42b858cb-1ace-4554-b9d0-69db51806358');\n",
              "          const dataTable =\n",
              "            await google.colab.kernel.invokeFunction('convertToInteractive',\n",
              "                                                     [key], {});\n",
              "          if (!dataTable) return;\n",
              "\n",
              "          const docLinkHtml = 'Like what you see? Visit the ' +\n",
              "            '<a target=\"_blank\" href=https://colab.research.google.com/notebooks/data_table.ipynb>data table notebook</a>'\n",
              "            + ' to learn more about interactive tables.';\n",
              "          element.innerHTML = '';\n",
              "          dataTable['output_type'] = 'display_data';\n",
              "          await google.colab.output.renderOutput(dataTable, element);\n",
              "          const docLink = document.createElement('div');\n",
              "          docLink.innerHTML = docLinkHtml;\n",
              "          element.appendChild(docLink);\n",
              "        }\n",
              "      </script>\n",
              "    </div>\n",
              "  </div>\n",
              "  "
            ]
          },
          "metadata": {},
          "execution_count": 78
        }
      ],
      "source": [
        "test['xgb_target_reg'] = pd.DataFrame(xgbs_pred)\n",
        "test"
      ]
    },
    {
      "cell_type": "code",
      "execution_count": 80,
      "metadata": {
        "id": "zuO5Qmm_aCd-",
        "colab": {
          "base_uri": "https://localhost:8080/",
          "height": 661
        },
        "outputId": "d423b4b1-5cc9-42c4-8d90-b88491aad8c4"
      },
      "outputs": [
        {
          "output_type": "execute_result",
          "data": {
            "text/plain": [
              "          car_id            model  car_type fuel_type  car_rating  \\\n",
              "0     P17494612l      Skoda Rapid   economy    petrol        4.80   \n",
              "1     N-1530212S  Renault Sandero  standart    petrol        4.32   \n",
              "2     B-1154399t     Smart ForTwo   economy    petrol        4.46   \n",
              "3     F12725233R    Smart ForFour   economy    petrol        2.80   \n",
              "4     l-1139189J      Skoda Rapid   economy    petrol        6.56   \n",
              "...          ...              ...       ...       ...         ...   \n",
              "1908  x13640960Q   Nissan Qashqai  standart    petrol        2.44   \n",
              "1909  Z-2276652N   Renault Kaptur  standart    petrol        4.44   \n",
              "1910  F-2165841B  Hyundai Solaris   economy    petrol        5.16   \n",
              "1911  x-1331529J  Hyundai Solaris   economy    petrol        5.76   \n",
              "1912  J-2127749D       VW Polo VI   economy    petrol        5.10   \n",
              "\n",
              "      year_to_start  riders  year_to_work     target_class  mean_rating  \\\n",
              "0              2013   42269          2019       gear_stick     3.746207   \n",
              "1              2015   90014          2016  engine_overheat     4.318966   \n",
              "2              2015   82684          2017      electro_bug     5.134655   \n",
              "3              2014   68833          2021     engine_check     4.617356   \n",
              "4              2013   42442          2021      another_bug     4.287471   \n",
              "...             ...     ...           ...              ...          ...   \n",
              "1908           2015   81070          2016  engine_overheat     4.641379   \n",
              "1909           2014   70067          2019  engine_overheat     3.956954   \n",
              "1910           2011    6574          2022     engine_check     4.607816   \n",
              "1911           2015   85648          2018      electro_bug     4.462644   \n",
              "1912           2015   74665          2016      electro_bug     4.521437   \n",
              "\n",
              "      distance_sum  rating_min   speed_max  user_ride_quality_median  \\\n",
              "0     1.407539e+07        0.10  195.454152                 10.566220   \n",
              "1     1.970390e+07        0.00  181.538685                 11.807941   \n",
              "2     9.314946e+06        0.10  118.440645                 14.862538   \n",
              "3     9.336838e+06        0.83  112.829785                 20.088904   \n",
              "4     1.196250e+07        0.00  187.846088                  3.698460   \n",
              "...            ...         ...         ...                       ...   \n",
              "1908  8.035217e+06        0.10  161.000000                  5.426149   \n",
              "1909  1.792881e+07        0.10  195.394955                 -6.225923   \n",
              "1910  1.401163e+07        0.22  113.091551                 -4.110241   \n",
              "1911  1.375324e+07        0.10  154.105593                 -4.337686   \n",
              "1912  1.296505e+07        0.10  161.395030                 -6.495097   \n",
              "\n",
              "      deviation_normal_count  user_uniq  Catboost_target_reg  lgb_target_reg  \\\n",
              "0                        174        170            46.913346       49.735647   \n",
              "1                        174        174            31.960878       35.734030   \n",
              "2                        174        172            33.802347       31.434782   \n",
              "3                        174        172            35.979513       34.328350   \n",
              "4                        174        172            32.327644       31.396779   \n",
              "...                      ...        ...                  ...             ...   \n",
              "1908                     174        171            57.644811       59.154587   \n",
              "1909                     174        172            45.007600       52.151615   \n",
              "1910                     174        172            33.821215       38.186486   \n",
              "1911                     174        172            44.771408       45.587600   \n",
              "1912                     174        173            48.386448       53.029226   \n",
              "\n",
              "      xgb_target_reg  target_reg  \n",
              "0          42.683758   46.444250  \n",
              "1          33.588177   33.761028  \n",
              "2          32.672295   32.636474  \n",
              "3          31.986582   34.098148  \n",
              "4          31.959963   31.894795  \n",
              "...              ...         ...  \n",
              "1908       54.173714   56.991037  \n",
              "1909       44.656506   47.271907  \n",
              "1910       33.653713   35.220471  \n",
              "1911       48.113819   46.157609  \n",
              "1912       47.994465   49.803380  \n",
              "\n",
              "[1913 rows x 20 columns]"
            ],
            "text/html": [
              "\n",
              "  <div id=\"df-d52b3f48-bbe7-4a0f-b16a-3581d9aed49c\">\n",
              "    <div class=\"colab-df-container\">\n",
              "      <div>\n",
              "<style scoped>\n",
              "    .dataframe tbody tr th:only-of-type {\n",
              "        vertical-align: middle;\n",
              "    }\n",
              "\n",
              "    .dataframe tbody tr th {\n",
              "        vertical-align: top;\n",
              "    }\n",
              "\n",
              "    .dataframe thead th {\n",
              "        text-align: right;\n",
              "    }\n",
              "</style>\n",
              "<table border=\"1\" class=\"dataframe\">\n",
              "  <thead>\n",
              "    <tr style=\"text-align: right;\">\n",
              "      <th></th>\n",
              "      <th>car_id</th>\n",
              "      <th>model</th>\n",
              "      <th>car_type</th>\n",
              "      <th>fuel_type</th>\n",
              "      <th>car_rating</th>\n",
              "      <th>year_to_start</th>\n",
              "      <th>riders</th>\n",
              "      <th>year_to_work</th>\n",
              "      <th>target_class</th>\n",
              "      <th>mean_rating</th>\n",
              "      <th>distance_sum</th>\n",
              "      <th>rating_min</th>\n",
              "      <th>speed_max</th>\n",
              "      <th>user_ride_quality_median</th>\n",
              "      <th>deviation_normal_count</th>\n",
              "      <th>user_uniq</th>\n",
              "      <th>Catboost_target_reg</th>\n",
              "      <th>lgb_target_reg</th>\n",
              "      <th>xgb_target_reg</th>\n",
              "      <th>target_reg</th>\n",
              "    </tr>\n",
              "  </thead>\n",
              "  <tbody>\n",
              "    <tr>\n",
              "      <th>0</th>\n",
              "      <td>P17494612l</td>\n",
              "      <td>Skoda Rapid</td>\n",
              "      <td>economy</td>\n",
              "      <td>petrol</td>\n",
              "      <td>4.80</td>\n",
              "      <td>2013</td>\n",
              "      <td>42269</td>\n",
              "      <td>2019</td>\n",
              "      <td>gear_stick</td>\n",
              "      <td>3.746207</td>\n",
              "      <td>1.407539e+07</td>\n",
              "      <td>0.10</td>\n",
              "      <td>195.454152</td>\n",
              "      <td>10.566220</td>\n",
              "      <td>174</td>\n",
              "      <td>170</td>\n",
              "      <td>46.913346</td>\n",
              "      <td>49.735647</td>\n",
              "      <td>42.683758</td>\n",
              "      <td>46.444250</td>\n",
              "    </tr>\n",
              "    <tr>\n",
              "      <th>1</th>\n",
              "      <td>N-1530212S</td>\n",
              "      <td>Renault Sandero</td>\n",
              "      <td>standart</td>\n",
              "      <td>petrol</td>\n",
              "      <td>4.32</td>\n",
              "      <td>2015</td>\n",
              "      <td>90014</td>\n",
              "      <td>2016</td>\n",
              "      <td>engine_overheat</td>\n",
              "      <td>4.318966</td>\n",
              "      <td>1.970390e+07</td>\n",
              "      <td>0.00</td>\n",
              "      <td>181.538685</td>\n",
              "      <td>11.807941</td>\n",
              "      <td>174</td>\n",
              "      <td>174</td>\n",
              "      <td>31.960878</td>\n",
              "      <td>35.734030</td>\n",
              "      <td>33.588177</td>\n",
              "      <td>33.761028</td>\n",
              "    </tr>\n",
              "    <tr>\n",
              "      <th>2</th>\n",
              "      <td>B-1154399t</td>\n",
              "      <td>Smart ForTwo</td>\n",
              "      <td>economy</td>\n",
              "      <td>petrol</td>\n",
              "      <td>4.46</td>\n",
              "      <td>2015</td>\n",
              "      <td>82684</td>\n",
              "      <td>2017</td>\n",
              "      <td>electro_bug</td>\n",
              "      <td>5.134655</td>\n",
              "      <td>9.314946e+06</td>\n",
              "      <td>0.10</td>\n",
              "      <td>118.440645</td>\n",
              "      <td>14.862538</td>\n",
              "      <td>174</td>\n",
              "      <td>172</td>\n",
              "      <td>33.802347</td>\n",
              "      <td>31.434782</td>\n",
              "      <td>32.672295</td>\n",
              "      <td>32.636474</td>\n",
              "    </tr>\n",
              "    <tr>\n",
              "      <th>3</th>\n",
              "      <td>F12725233R</td>\n",
              "      <td>Smart ForFour</td>\n",
              "      <td>economy</td>\n",
              "      <td>petrol</td>\n",
              "      <td>2.80</td>\n",
              "      <td>2014</td>\n",
              "      <td>68833</td>\n",
              "      <td>2021</td>\n",
              "      <td>engine_check</td>\n",
              "      <td>4.617356</td>\n",
              "      <td>9.336838e+06</td>\n",
              "      <td>0.83</td>\n",
              "      <td>112.829785</td>\n",
              "      <td>20.088904</td>\n",
              "      <td>174</td>\n",
              "      <td>172</td>\n",
              "      <td>35.979513</td>\n",
              "      <td>34.328350</td>\n",
              "      <td>31.986582</td>\n",
              "      <td>34.098148</td>\n",
              "    </tr>\n",
              "    <tr>\n",
              "      <th>4</th>\n",
              "      <td>l-1139189J</td>\n",
              "      <td>Skoda Rapid</td>\n",
              "      <td>economy</td>\n",
              "      <td>petrol</td>\n",
              "      <td>6.56</td>\n",
              "      <td>2013</td>\n",
              "      <td>42442</td>\n",
              "      <td>2021</td>\n",
              "      <td>another_bug</td>\n",
              "      <td>4.287471</td>\n",
              "      <td>1.196250e+07</td>\n",
              "      <td>0.00</td>\n",
              "      <td>187.846088</td>\n",
              "      <td>3.698460</td>\n",
              "      <td>174</td>\n",
              "      <td>172</td>\n",
              "      <td>32.327644</td>\n",
              "      <td>31.396779</td>\n",
              "      <td>31.959963</td>\n",
              "      <td>31.894795</td>\n",
              "    </tr>\n",
              "    <tr>\n",
              "      <th>...</th>\n",
              "      <td>...</td>\n",
              "      <td>...</td>\n",
              "      <td>...</td>\n",
              "      <td>...</td>\n",
              "      <td>...</td>\n",
              "      <td>...</td>\n",
              "      <td>...</td>\n",
              "      <td>...</td>\n",
              "      <td>...</td>\n",
              "      <td>...</td>\n",
              "      <td>...</td>\n",
              "      <td>...</td>\n",
              "      <td>...</td>\n",
              "      <td>...</td>\n",
              "      <td>...</td>\n",
              "      <td>...</td>\n",
              "      <td>...</td>\n",
              "      <td>...</td>\n",
              "      <td>...</td>\n",
              "      <td>...</td>\n",
              "    </tr>\n",
              "    <tr>\n",
              "      <th>1908</th>\n",
              "      <td>x13640960Q</td>\n",
              "      <td>Nissan Qashqai</td>\n",
              "      <td>standart</td>\n",
              "      <td>petrol</td>\n",
              "      <td>2.44</td>\n",
              "      <td>2015</td>\n",
              "      <td>81070</td>\n",
              "      <td>2016</td>\n",
              "      <td>engine_overheat</td>\n",
              "      <td>4.641379</td>\n",
              "      <td>8.035217e+06</td>\n",
              "      <td>0.10</td>\n",
              "      <td>161.000000</td>\n",
              "      <td>5.426149</td>\n",
              "      <td>174</td>\n",
              "      <td>171</td>\n",
              "      <td>57.644811</td>\n",
              "      <td>59.154587</td>\n",
              "      <td>54.173714</td>\n",
              "      <td>56.991037</td>\n",
              "    </tr>\n",
              "    <tr>\n",
              "      <th>1909</th>\n",
              "      <td>Z-2276652N</td>\n",
              "      <td>Renault Kaptur</td>\n",
              "      <td>standart</td>\n",
              "      <td>petrol</td>\n",
              "      <td>4.44</td>\n",
              "      <td>2014</td>\n",
              "      <td>70067</td>\n",
              "      <td>2019</td>\n",
              "      <td>engine_overheat</td>\n",
              "      <td>3.956954</td>\n",
              "      <td>1.792881e+07</td>\n",
              "      <td>0.10</td>\n",
              "      <td>195.394955</td>\n",
              "      <td>-6.225923</td>\n",
              "      <td>174</td>\n",
              "      <td>172</td>\n",
              "      <td>45.007600</td>\n",
              "      <td>52.151615</td>\n",
              "      <td>44.656506</td>\n",
              "      <td>47.271907</td>\n",
              "    </tr>\n",
              "    <tr>\n",
              "      <th>1910</th>\n",
              "      <td>F-2165841B</td>\n",
              "      <td>Hyundai Solaris</td>\n",
              "      <td>economy</td>\n",
              "      <td>petrol</td>\n",
              "      <td>5.16</td>\n",
              "      <td>2011</td>\n",
              "      <td>6574</td>\n",
              "      <td>2022</td>\n",
              "      <td>engine_check</td>\n",
              "      <td>4.607816</td>\n",
              "      <td>1.401163e+07</td>\n",
              "      <td>0.22</td>\n",
              "      <td>113.091551</td>\n",
              "      <td>-4.110241</td>\n",
              "      <td>174</td>\n",
              "      <td>172</td>\n",
              "      <td>33.821215</td>\n",
              "      <td>38.186486</td>\n",
              "      <td>33.653713</td>\n",
              "      <td>35.220471</td>\n",
              "    </tr>\n",
              "    <tr>\n",
              "      <th>1911</th>\n",
              "      <td>x-1331529J</td>\n",
              "      <td>Hyundai Solaris</td>\n",
              "      <td>economy</td>\n",
              "      <td>petrol</td>\n",
              "      <td>5.76</td>\n",
              "      <td>2015</td>\n",
              "      <td>85648</td>\n",
              "      <td>2018</td>\n",
              "      <td>electro_bug</td>\n",
              "      <td>4.462644</td>\n",
              "      <td>1.375324e+07</td>\n",
              "      <td>0.10</td>\n",
              "      <td>154.105593</td>\n",
              "      <td>-4.337686</td>\n",
              "      <td>174</td>\n",
              "      <td>172</td>\n",
              "      <td>44.771408</td>\n",
              "      <td>45.587600</td>\n",
              "      <td>48.113819</td>\n",
              "      <td>46.157609</td>\n",
              "    </tr>\n",
              "    <tr>\n",
              "      <th>1912</th>\n",
              "      <td>J-2127749D</td>\n",
              "      <td>VW Polo VI</td>\n",
              "      <td>economy</td>\n",
              "      <td>petrol</td>\n",
              "      <td>5.10</td>\n",
              "      <td>2015</td>\n",
              "      <td>74665</td>\n",
              "      <td>2016</td>\n",
              "      <td>electro_bug</td>\n",
              "      <td>4.521437</td>\n",
              "      <td>1.296505e+07</td>\n",
              "      <td>0.10</td>\n",
              "      <td>161.395030</td>\n",
              "      <td>-6.495097</td>\n",
              "      <td>174</td>\n",
              "      <td>173</td>\n",
              "      <td>48.386448</td>\n",
              "      <td>53.029226</td>\n",
              "      <td>47.994465</td>\n",
              "      <td>49.803380</td>\n",
              "    </tr>\n",
              "  </tbody>\n",
              "</table>\n",
              "<p>1913 rows × 20 columns</p>\n",
              "</div>\n",
              "      <button class=\"colab-df-convert\" onclick=\"convertToInteractive('df-d52b3f48-bbe7-4a0f-b16a-3581d9aed49c')\"\n",
              "              title=\"Convert this dataframe to an interactive table.\"\n",
              "              style=\"display:none;\">\n",
              "        \n",
              "  <svg xmlns=\"http://www.w3.org/2000/svg\" height=\"24px\"viewBox=\"0 0 24 24\"\n",
              "       width=\"24px\">\n",
              "    <path d=\"M0 0h24v24H0V0z\" fill=\"none\"/>\n",
              "    <path d=\"M18.56 5.44l.94 2.06.94-2.06 2.06-.94-2.06-.94-.94-2.06-.94 2.06-2.06.94zm-11 1L8.5 8.5l.94-2.06 2.06-.94-2.06-.94L8.5 2.5l-.94 2.06-2.06.94zm10 10l.94 2.06.94-2.06 2.06-.94-2.06-.94-.94-2.06-.94 2.06-2.06.94z\"/><path d=\"M17.41 7.96l-1.37-1.37c-.4-.4-.92-.59-1.43-.59-.52 0-1.04.2-1.43.59L10.3 9.45l-7.72 7.72c-.78.78-.78 2.05 0 2.83L4 21.41c.39.39.9.59 1.41.59.51 0 1.02-.2 1.41-.59l7.78-7.78 2.81-2.81c.8-.78.8-2.07 0-2.86zM5.41 20L4 18.59l7.72-7.72 1.47 1.35L5.41 20z\"/>\n",
              "  </svg>\n",
              "      </button>\n",
              "      \n",
              "  <style>\n",
              "    .colab-df-container {\n",
              "      display:flex;\n",
              "      flex-wrap:wrap;\n",
              "      gap: 12px;\n",
              "    }\n",
              "\n",
              "    .colab-df-convert {\n",
              "      background-color: #E8F0FE;\n",
              "      border: none;\n",
              "      border-radius: 50%;\n",
              "      cursor: pointer;\n",
              "      display: none;\n",
              "      fill: #1967D2;\n",
              "      height: 32px;\n",
              "      padding: 0 0 0 0;\n",
              "      width: 32px;\n",
              "    }\n",
              "\n",
              "    .colab-df-convert:hover {\n",
              "      background-color: #E2EBFA;\n",
              "      box-shadow: 0px 1px 2px rgba(60, 64, 67, 0.3), 0px 1px 3px 1px rgba(60, 64, 67, 0.15);\n",
              "      fill: #174EA6;\n",
              "    }\n",
              "\n",
              "    [theme=dark] .colab-df-convert {\n",
              "      background-color: #3B4455;\n",
              "      fill: #D2E3FC;\n",
              "    }\n",
              "\n",
              "    [theme=dark] .colab-df-convert:hover {\n",
              "      background-color: #434B5C;\n",
              "      box-shadow: 0px 1px 3px 1px rgba(0, 0, 0, 0.15);\n",
              "      filter: drop-shadow(0px 1px 2px rgba(0, 0, 0, 0.3));\n",
              "      fill: #FFFFFF;\n",
              "    }\n",
              "  </style>\n",
              "\n",
              "      <script>\n",
              "        const buttonEl =\n",
              "          document.querySelector('#df-d52b3f48-bbe7-4a0f-b16a-3581d9aed49c button.colab-df-convert');\n",
              "        buttonEl.style.display =\n",
              "          google.colab.kernel.accessAllowed ? 'block' : 'none';\n",
              "\n",
              "        async function convertToInteractive(key) {\n",
              "          const element = document.querySelector('#df-d52b3f48-bbe7-4a0f-b16a-3581d9aed49c');\n",
              "          const dataTable =\n",
              "            await google.colab.kernel.invokeFunction('convertToInteractive',\n",
              "                                                     [key], {});\n",
              "          if (!dataTable) return;\n",
              "\n",
              "          const docLinkHtml = 'Like what you see? Visit the ' +\n",
              "            '<a target=\"_blank\" href=https://colab.research.google.com/notebooks/data_table.ipynb>data table notebook</a>'\n",
              "            + ' to learn more about interactive tables.';\n",
              "          element.innerHTML = '';\n",
              "          dataTable['output_type'] = 'display_data';\n",
              "          await google.colab.output.renderOutput(dataTable, element);\n",
              "          const docLink = document.createElement('div');\n",
              "          docLink.innerHTML = docLinkHtml;\n",
              "          element.appendChild(docLink);\n",
              "        }\n",
              "      </script>\n",
              "    </div>\n",
              "  </div>\n",
              "  "
            ]
          },
          "metadata": {},
          "execution_count": 80
        }
      ],
      "source": [
        "test['target_reg'] = test[['Catboost_target_reg','lgb_target_reg', 'xgb_target_reg']].mean(axis=1) #Делаем итоговое предсказание на тестовом датасете, усреднив предсказание от 3-х лучших моделей.\n",
        "test"
      ]
    },
    {
      "cell_type": "code",
      "source": [
        "test[['car_id', 'target_reg']].to_csv(\"3boostings_kfold.csv\", index = False)"
      ],
      "metadata": {
        "id": "OxApS3xVouSt"
      },
      "execution_count": 81,
      "outputs": []
    },
    {
      "cell_type": "markdown",
      "source": [
        "Выводы:\n",
        "\n",
        "\n",
        "*   получены предсказания с помощью трех моделей градиентного бустинга: Catboost, LightGBM. XGBoost;\n",
        "*  c помощью grid_search на всех трех моделях осущетсвлен подбор параметров;\n",
        "*   С подобранными параметрами осущетсвлено обучение моделей на трех фолдах;\n",
        "*   Итоговое предсказание получено на тестовом датасете, усреднив предсказания трех наилучших моделей.\n",
        "\n",
        "\n",
        "\n"
      ],
      "metadata": {
        "id": "8oTDewuXvTDl"
      }
    }
  ],
  "metadata": {
    "colab": {
      "provenance": [],
      "authorship_tag": "ABX9TyNWuetB0kOhBPTmGrZsOFSB",
      "include_colab_link": true
    },
    "kernelspec": {
      "display_name": "Python 3",
      "name": "python3"
    },
    "language_info": {
      "name": "python"
    }
  },
  "nbformat": 4,
  "nbformat_minor": 0
}